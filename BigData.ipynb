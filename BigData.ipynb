{
 "cells": [
  {
   "cell_type": "code",
   "execution_count": 97,
   "id": "aa5a802e",
   "metadata": {},
   "outputs": [],
   "source": [
    "import pandas as pd\n",
    "import numpy as np"
   ]
  },
  {
   "cell_type": "code",
   "execution_count": 236,
   "id": "0b7199d0",
   "metadata": {},
   "outputs": [],
   "source": [
    "co_dataset = pd.read_csv('./datasets/CO-2015-2019.csv')\n",
    "co_headers = co_dataset.iloc[0]\n",
    "co_dataset  = pd.DataFrame(co_dataset.values[1:], columns=co_headers)\n",
    "\n",
    "fdp_dataset = pd.read_csv('./datasets/CO-2015-2019.csv')\n",
    "fdp_headers = fdp_dataset.iloc[0]\n",
    "fdp_dataset  = pd.DataFrame(fdp_dataset.values[1:], columns=fdp_headers)"
   ]
  },
  {
   "cell_type": "code",
   "execution_count": 237,
   "id": "25ca1bf2",
   "metadata": {},
   "outputs": [
    {
     "data": {
      "text/html": [
       "<div>\n",
       "<style scoped>\n",
       "    .dataframe tbody tr th:only-of-type {\n",
       "        vertical-align: middle;\n",
       "    }\n",
       "\n",
       "    .dataframe tbody tr th {\n",
       "        vertical-align: top;\n",
       "    }\n",
       "\n",
       "    .dataframe thead th {\n",
       "        text-align: right;\n",
       "    }\n",
       "</style>\n",
       "<table border=\"1\" class=\"dataframe\">\n",
       "  <thead>\n",
       "    <tr style=\"text-align: right;\">\n",
       "      <th></th>\n",
       "      <th>Date</th>\n",
       "      <th>Hour</th>\n",
       "      <th>Sofia-EEA Pavlovo</th>\n",
       "      <th>Sofia - Kopitoto</th>\n",
       "      <th>Sofia - Mladost</th>\n",
       "      <th>Sofia - Orlov Most</th>\n",
       "      <th>Sofia -Hipodrome</th>\n",
       "    </tr>\n",
       "  </thead>\n",
       "  <tbody>\n",
       "    <tr>\n",
       "      <th>0</th>\n",
       "      <td>1/1/2015</td>\n",
       "      <td>1:00</td>\n",
       "      <td>1.09</td>\n",
       "      <td>0.21</td>\n",
       "      <td>NaN</td>\n",
       "      <td>1.34</td>\n",
       "      <td>0.87</td>\n",
       "    </tr>\n",
       "    <tr>\n",
       "      <th>1</th>\n",
       "      <td>1/1/2015</td>\n",
       "      <td>2:00</td>\n",
       "      <td>1.7</td>\n",
       "      <td>0.23</td>\n",
       "      <td>NaN</td>\n",
       "      <td>1.84</td>\n",
       "      <td>1.43</td>\n",
       "    </tr>\n",
       "    <tr>\n",
       "      <th>2</th>\n",
       "      <td>1/1/2015</td>\n",
       "      <td>3:00</td>\n",
       "      <td>1.71</td>\n",
       "      <td>0.2</td>\n",
       "      <td>NaN</td>\n",
       "      <td>1.74</td>\n",
       "      <td>1.84</td>\n",
       "    </tr>\n",
       "    <tr>\n",
       "      <th>3</th>\n",
       "      <td>1/1/2015</td>\n",
       "      <td>4:00</td>\n",
       "      <td>1.96</td>\n",
       "      <td>0.21</td>\n",
       "      <td>NaN</td>\n",
       "      <td>2.16</td>\n",
       "      <td>1.75</td>\n",
       "    </tr>\n",
       "    <tr>\n",
       "      <th>4</th>\n",
       "      <td>1/1/2015</td>\n",
       "      <td>5:00</td>\n",
       "      <td>1.28</td>\n",
       "      <td>0.24</td>\n",
       "      <td>NaN</td>\n",
       "      <td>1.16</td>\n",
       "      <td>1.72</td>\n",
       "    </tr>\n",
       "  </tbody>\n",
       "</table>\n",
       "</div>"
      ],
      "text/plain": [
       "0      Date  Hour Sofia-EEA Pavlovo Sofia - Kopitoto Sofia - Mladost  \\\n",
       "0  1/1/2015  1:00              1.09             0.21             NaN   \n",
       "1  1/1/2015  2:00               1.7             0.23             NaN   \n",
       "2  1/1/2015  3:00              1.71              0.2             NaN   \n",
       "3  1/1/2015  4:00              1.96             0.21             NaN   \n",
       "4  1/1/2015  5:00              1.28             0.24             NaN   \n",
       "\n",
       "0 Sofia - Orlov Most Sofia -Hipodrome  \n",
       "0               1.34             0.87  \n",
       "1               1.84             1.43  \n",
       "2               1.74             1.84  \n",
       "3               2.16             1.75  \n",
       "4               1.16             1.72  "
      ]
     },
     "execution_count": 237,
     "metadata": {},
     "output_type": "execute_result"
    }
   ],
   "source": [
    "co_dataset.head()"
   ]
  },
  {
   "cell_type": "code",
   "execution_count": 238,
   "id": "05d7ed16",
   "metadata": {},
   "outputs": [
    {
     "data": {
      "text/html": [
       "<div>\n",
       "<style scoped>\n",
       "    .dataframe tbody tr th:only-of-type {\n",
       "        vertical-align: middle;\n",
       "    }\n",
       "\n",
       "    .dataframe tbody tr th {\n",
       "        vertical-align: top;\n",
       "    }\n",
       "\n",
       "    .dataframe thead th {\n",
       "        text-align: right;\n",
       "    }\n",
       "</style>\n",
       "<table border=\"1\" class=\"dataframe\">\n",
       "  <thead>\n",
       "    <tr style=\"text-align: right;\">\n",
       "      <th></th>\n",
       "      <th>Date</th>\n",
       "      <th>Hour</th>\n",
       "      <th>Sofia-EEA Pavlovo</th>\n",
       "      <th>Sofia - Kopitoto</th>\n",
       "      <th>Sofia - Mladost</th>\n",
       "      <th>Sofia - Orlov Most</th>\n",
       "      <th>Sofia -Hipodrome</th>\n",
       "    </tr>\n",
       "  </thead>\n",
       "  <tbody>\n",
       "    <tr>\n",
       "      <th>0</th>\n",
       "      <td>1/1/2015</td>\n",
       "      <td>1:00</td>\n",
       "      <td>1.09</td>\n",
       "      <td>0.21</td>\n",
       "      <td>NaN</td>\n",
       "      <td>1.34</td>\n",
       "      <td>0.87</td>\n",
       "    </tr>\n",
       "    <tr>\n",
       "      <th>1</th>\n",
       "      <td>1/1/2015</td>\n",
       "      <td>2:00</td>\n",
       "      <td>1.7</td>\n",
       "      <td>0.23</td>\n",
       "      <td>NaN</td>\n",
       "      <td>1.84</td>\n",
       "      <td>1.43</td>\n",
       "    </tr>\n",
       "    <tr>\n",
       "      <th>2</th>\n",
       "      <td>1/1/2015</td>\n",
       "      <td>3:00</td>\n",
       "      <td>1.71</td>\n",
       "      <td>0.2</td>\n",
       "      <td>NaN</td>\n",
       "      <td>1.74</td>\n",
       "      <td>1.84</td>\n",
       "    </tr>\n",
       "    <tr>\n",
       "      <th>3</th>\n",
       "      <td>1/1/2015</td>\n",
       "      <td>4:00</td>\n",
       "      <td>1.96</td>\n",
       "      <td>0.21</td>\n",
       "      <td>NaN</td>\n",
       "      <td>2.16</td>\n",
       "      <td>1.75</td>\n",
       "    </tr>\n",
       "    <tr>\n",
       "      <th>4</th>\n",
       "      <td>1/1/2015</td>\n",
       "      <td>5:00</td>\n",
       "      <td>1.28</td>\n",
       "      <td>0.24</td>\n",
       "      <td>NaN</td>\n",
       "      <td>1.16</td>\n",
       "      <td>1.72</td>\n",
       "    </tr>\n",
       "  </tbody>\n",
       "</table>\n",
       "</div>"
      ],
      "text/plain": [
       "0      Date  Hour Sofia-EEA Pavlovo Sofia - Kopitoto Sofia - Mladost  \\\n",
       "0  1/1/2015  1:00              1.09             0.21             NaN   \n",
       "1  1/1/2015  2:00               1.7             0.23             NaN   \n",
       "2  1/1/2015  3:00              1.71              0.2             NaN   \n",
       "3  1/1/2015  4:00              1.96             0.21             NaN   \n",
       "4  1/1/2015  5:00              1.28             0.24             NaN   \n",
       "\n",
       "0 Sofia - Orlov Most Sofia -Hipodrome  \n",
       "0               1.34             0.87  \n",
       "1               1.84             1.43  \n",
       "2               1.74             1.84  \n",
       "3               2.16             1.75  \n",
       "4               1.16             1.72  "
      ]
     },
     "execution_count": 238,
     "metadata": {},
     "output_type": "execute_result"
    }
   ],
   "source": [
    "fdp_dataset.head()"
   ]
  },
  {
   "cell_type": "code",
   "execution_count": 239,
   "id": "e700a85f",
   "metadata": {},
   "outputs": [
    {
     "data": {
      "text/plain": [
       "(43824, 7)"
      ]
     },
     "execution_count": 239,
     "metadata": {},
     "output_type": "execute_result"
    }
   ],
   "source": [
    "# И двата дейта сета имат еднакъв брой редове и колони\n",
    "co_dataset.shape"
   ]
  },
  {
   "cell_type": "code",
   "execution_count": 240,
   "id": "ed443a0b",
   "metadata": {},
   "outputs": [
    {
     "data": {
      "text/plain": [
       "(43824, 7)"
      ]
     },
     "execution_count": 240,
     "metadata": {},
     "output_type": "execute_result"
    }
   ],
   "source": [
    "fdp_dataset.shape"
   ]
  },
  {
   "cell_type": "code",
   "execution_count": 241,
   "id": "b667244f",
   "metadata": {},
   "outputs": [
    {
     "data": {
      "text/plain": [
       "Index(['Date', 'Hour', 'Sofia-EEA Pavlovo', 'Sofia - Kopitoto',\n",
       "       'Sofia - Mladost', 'Sofia - Orlov Most', 'Sofia -Hipodrome'],\n",
       "      dtype='object', name=0)"
      ]
     },
     "execution_count": 241,
     "metadata": {},
     "output_type": "execute_result"
    }
   ],
   "source": [
    "# И двата дейта сета имат колони с еднакви имена\n",
    "co_dataset.columns"
   ]
  },
  {
   "cell_type": "code",
   "execution_count": 242,
   "id": "da77c5ba",
   "metadata": {},
   "outputs": [
    {
     "data": {
      "text/plain": [
       "Index(['Date', 'Hour', 'Sofia-EEA Pavlovo', 'Sofia - Kopitoto',\n",
       "       'Sofia - Mladost', 'Sofia - Orlov Most', 'Sofia -Hipodrome'],\n",
       "      dtype='object', name=0)"
      ]
     },
     "execution_count": 242,
     "metadata": {},
     "output_type": "execute_result"
    }
   ],
   "source": [
    "fdp_dataset.columns"
   ]
  },
  {
   "cell_type": "code",
   "execution_count": 243,
   "id": "270d022f",
   "metadata": {},
   "outputs": [
    {
     "data": {
      "text/html": [
       "<div>\n",
       "<style scoped>\n",
       "    .dataframe tbody tr th:only-of-type {\n",
       "        vertical-align: middle;\n",
       "    }\n",
       "\n",
       "    .dataframe tbody tr th {\n",
       "        vertical-align: top;\n",
       "    }\n",
       "\n",
       "    .dataframe thead th {\n",
       "        text-align: right;\n",
       "    }\n",
       "</style>\n",
       "<table border=\"1\" class=\"dataframe\">\n",
       "  <thead>\n",
       "    <tr style=\"text-align: right;\">\n",
       "      <th></th>\n",
       "      <th>Date</th>\n",
       "      <th>Hour</th>\n",
       "      <th>Sofia-EEA Pavlovo</th>\n",
       "      <th>Sofia - Kopitoto</th>\n",
       "      <th>Sofia - Mladost</th>\n",
       "      <th>Sofia - Orlov Most</th>\n",
       "      <th>Sofia -Hipodrome</th>\n",
       "    </tr>\n",
       "  </thead>\n",
       "  <tbody>\n",
       "    <tr>\n",
       "      <th>count</th>\n",
       "      <td>43824</td>\n",
       "      <td>43824</td>\n",
       "      <td>42444</td>\n",
       "      <td>39922</td>\n",
       "      <td>35947</td>\n",
       "      <td>6569</td>\n",
       "      <td>42989</td>\n",
       "    </tr>\n",
       "    <tr>\n",
       "      <th>unique</th>\n",
       "      <td>1826</td>\n",
       "      <td>24</td>\n",
       "      <td>521</td>\n",
       "      <td>172</td>\n",
       "      <td>416</td>\n",
       "      <td>391</td>\n",
       "      <td>541</td>\n",
       "    </tr>\n",
       "    <tr>\n",
       "      <th>top</th>\n",
       "      <td>1/1/2015</td>\n",
       "      <td>1:00</td>\n",
       "      <td>0.31</td>\n",
       "      <td>0.23</td>\n",
       "      <td>0.36</td>\n",
       "      <td>0.34</td>\n",
       "      <td>0.35</td>\n",
       "    </tr>\n",
       "    <tr>\n",
       "      <th>freq</th>\n",
       "      <td>24</td>\n",
       "      <td>1826</td>\n",
       "      <td>984</td>\n",
       "      <td>975</td>\n",
       "      <td>759</td>\n",
       "      <td>119</td>\n",
       "      <td>792</td>\n",
       "    </tr>\n",
       "  </tbody>\n",
       "</table>\n",
       "</div>"
      ],
      "text/plain": [
       "0           Date   Hour Sofia-EEA Pavlovo Sofia - Kopitoto Sofia - Mladost  \\\n",
       "count      43824  43824             42444            39922           35947   \n",
       "unique      1826     24               521              172             416   \n",
       "top     1/1/2015   1:00              0.31             0.23            0.36   \n",
       "freq          24   1826               984              975             759   \n",
       "\n",
       "0      Sofia - Orlov Most Sofia -Hipodrome  \n",
       "count                6569            42989  \n",
       "unique                391              541  \n",
       "top                  0.34             0.35  \n",
       "freq                  119              792  "
      ]
     },
     "execution_count": 243,
     "metadata": {},
     "output_type": "execute_result"
    }
   ],
   "source": [
    "co_dataset.describe()"
   ]
  },
  {
   "cell_type": "code",
   "execution_count": 244,
   "id": "8a7bbc94",
   "metadata": {},
   "outputs": [
    {
     "data": {
      "text/html": [
       "<div>\n",
       "<style scoped>\n",
       "    .dataframe tbody tr th:only-of-type {\n",
       "        vertical-align: middle;\n",
       "    }\n",
       "\n",
       "    .dataframe tbody tr th {\n",
       "        vertical-align: top;\n",
       "    }\n",
       "\n",
       "    .dataframe thead th {\n",
       "        text-align: right;\n",
       "    }\n",
       "</style>\n",
       "<table border=\"1\" class=\"dataframe\">\n",
       "  <thead>\n",
       "    <tr style=\"text-align: right;\">\n",
       "      <th></th>\n",
       "      <th>Date</th>\n",
       "      <th>Hour</th>\n",
       "      <th>Sofia-EEA Pavlovo</th>\n",
       "      <th>Sofia - Kopitoto</th>\n",
       "      <th>Sofia - Mladost</th>\n",
       "      <th>Sofia - Orlov Most</th>\n",
       "      <th>Sofia -Hipodrome</th>\n",
       "    </tr>\n",
       "  </thead>\n",
       "  <tbody>\n",
       "    <tr>\n",
       "      <th>count</th>\n",
       "      <td>43824</td>\n",
       "      <td>43824</td>\n",
       "      <td>42444</td>\n",
       "      <td>39922</td>\n",
       "      <td>35947</td>\n",
       "      <td>6569</td>\n",
       "      <td>42989</td>\n",
       "    </tr>\n",
       "    <tr>\n",
       "      <th>unique</th>\n",
       "      <td>1826</td>\n",
       "      <td>24</td>\n",
       "      <td>521</td>\n",
       "      <td>172</td>\n",
       "      <td>416</td>\n",
       "      <td>391</td>\n",
       "      <td>541</td>\n",
       "    </tr>\n",
       "    <tr>\n",
       "      <th>top</th>\n",
       "      <td>1/1/2015</td>\n",
       "      <td>1:00</td>\n",
       "      <td>0.31</td>\n",
       "      <td>0.23</td>\n",
       "      <td>0.36</td>\n",
       "      <td>0.34</td>\n",
       "      <td>0.35</td>\n",
       "    </tr>\n",
       "    <tr>\n",
       "      <th>freq</th>\n",
       "      <td>24</td>\n",
       "      <td>1826</td>\n",
       "      <td>984</td>\n",
       "      <td>975</td>\n",
       "      <td>759</td>\n",
       "      <td>119</td>\n",
       "      <td>792</td>\n",
       "    </tr>\n",
       "  </tbody>\n",
       "</table>\n",
       "</div>"
      ],
      "text/plain": [
       "0           Date   Hour Sofia-EEA Pavlovo Sofia - Kopitoto Sofia - Mladost  \\\n",
       "count      43824  43824             42444            39922           35947   \n",
       "unique      1826     24               521              172             416   \n",
       "top     1/1/2015   1:00              0.31             0.23            0.36   \n",
       "freq          24   1826               984              975             759   \n",
       "\n",
       "0      Sofia - Orlov Most Sofia -Hipodrome  \n",
       "count                6569            42989  \n",
       "unique                391              541  \n",
       "top                  0.34             0.35  \n",
       "freq                  119              792  "
      ]
     },
     "execution_count": 244,
     "metadata": {},
     "output_type": "execute_result"
    }
   ],
   "source": [
    "fdp_dataset.describe()"
   ]
  },
  {
   "cell_type": "code",
   "execution_count": 245,
   "id": "6616ad1a",
   "metadata": {},
   "outputs": [],
   "source": [
    "co_dataset = co_dataset.rename(columns={\"Sofia-EEA Pavlovo\":\"Pavlovo\", \"Sofia - Kopitoto\":\"Kopitoto\", \"Sofia - Mladost\":\"Mladost\", \"Sofia - Orlov Most\":\"OrlovMost\", \"Sofia -Hipodrome\":\"Hipodrome\"})"
   ]
  },
  {
   "cell_type": "code",
   "execution_count": 246,
   "id": "54321eb8",
   "metadata": {},
   "outputs": [],
   "source": [
    "fdp_dataset = co_dataset.rename(columns={\"Sofia-EEA Pavlovo\":\"Pavlovo\", \"Sofia - Kopitoto\":\"Kopitoto\", \"Sofia - Mladost\":\"Mladost\", \"Sofia - Orlov Most\":\"OrlovMost\", \"Sofia -Hipodrome\":\"Hipodrome\"})"
   ]
  },
  {
   "cell_type": "code",
   "execution_count": 247,
   "id": "c7dc876b",
   "metadata": {},
   "outputs": [
    {
     "data": {
      "text/plain": [
       "0"
      ]
     },
     "execution_count": 247,
     "metadata": {},
     "output_type": "execute_result"
    }
   ],
   "source": [
    "sum(co_dataset.duplicated())"
   ]
  },
  {
   "cell_type": "code",
   "execution_count": 248,
   "id": "9ec270aa",
   "metadata": {},
   "outputs": [
    {
     "data": {
      "text/plain": [
       "0"
      ]
     },
     "execution_count": 248,
     "metadata": {},
     "output_type": "execute_result"
    }
   ],
   "source": [
    "sum(fdp_dataset.duplicated())"
   ]
  },
  {
   "cell_type": "code",
   "execution_count": 249,
   "id": "451d1dba",
   "metadata": {},
   "outputs": [
    {
     "data": {
      "text/plain": [
       "0\n",
       "Date             0\n",
       "Hour             0\n",
       "Pavlovo       1380\n",
       "Kopitoto      3902\n",
       "Mladost       7877\n",
       "OrlovMost    37255\n",
       "Hipodrome      835\n",
       "dtype: int64"
      ]
     },
     "execution_count": 249,
     "metadata": {},
     "output_type": "execute_result"
    }
   ],
   "source": [
    "co_dataset.isnull().sum()"
   ]
  },
  {
   "cell_type": "code",
   "execution_count": 250,
   "id": "ee5f76d0",
   "metadata": {},
   "outputs": [
    {
     "data": {
      "text/plain": [
       "0\n",
       "Date             0\n",
       "Hour             0\n",
       "Pavlovo       1380\n",
       "Kopitoto      3902\n",
       "Mladost       7877\n",
       "OrlovMost    37255\n",
       "Hipodrome      835\n",
       "dtype: int64"
      ]
     },
     "execution_count": 250,
     "metadata": {},
     "output_type": "execute_result"
    }
   ],
   "source": [
    "fdp_dataset.isnull().sum()"
   ]
  },
  {
   "cell_type": "code",
   "execution_count": 251,
   "id": "460b513a",
   "metadata": {},
   "outputs": [],
   "source": [
    "# Convert string values to float\n",
    "co_dataset[\"OrlovMost\"] = pd.to_numeric(co_dataset[\"OrlovMost\"], downcast=\"float\")\n",
    "co_dataset[\"Pavlovo\"] = pd.to_numeric(co_dataset[\"Pavlovo\"], downcast=\"float\")\n",
    "co_dataset[\"Kopitoto\"] = pd.to_numeric(co_dataset[\"Kopitoto\"], downcast=\"float\")\n",
    "co_dataset[\"Mladost\"] = pd.to_numeric(co_dataset[\"Mladost\"], downcast=\"float\")\n",
    "co_dataset[\"Hipodrome\"] = pd.to_numeric(co_dataset[\"Hipodrome\"], downcast=\"float\")\n",
    "\n",
    "fdp_dataset[\"OrlovMost\"] = pd.to_numeric(fdp_dataset[\"OrlovMost\"], downcast=\"float\")\n",
    "fdp_dataset[\"Pavlovo\"] = pd.to_numeric(fdp_dataset[\"Pavlovo\"], downcast=\"float\")\n",
    "fdp_dataset[\"Kopitoto\"] = pd.to_numeric(fdp_dataset[\"Kopitoto\"], downcast=\"float\")\n",
    "fdp_dataset[\"Mladost\"] = pd.to_numeric(fdp_dataset[\"Mladost\"], downcast=\"float\")\n",
    "fdp_dataset[\"Hipodrome\"] = pd.to_numeric(fdp_dataset[\"Hipodrome\"], downcast=\"float\")"
   ]
  },
  {
   "cell_type": "code",
   "execution_count": 252,
   "id": "a54dd38a",
   "metadata": {},
   "outputs": [],
   "source": [
    "# Запълваме нълл стойсностите със средното, а не медианата, тъй като нямаме стойности много-над, много-по между останалите стойности за тази колона\n",
    "# Fill null's for the column's\n",
    "co_dataset['OrlovMost'].fillna((co_dataset['OrlovMost'].mean()), inplace=True)\n",
    "co_dataset['Pavlovo'].fillna(method = 'backfill', inplace=True)\n",
    "co_dataset['Kopitoto'].fillna(method = 'backfill', inplace=True)\n",
    "co_dataset['Mladost'].fillna(method = 'backfill', inplace=True)\n",
    "co_dataset['Hipodrome'].fillna(method = 'backfill', inplace=True)\n",
    "\n",
    "fdp_dataset['OrlovMost'].fillna((fdp_dataset['OrlovMost'].mean()), inplace=True)\n",
    "fdp_dataset['Pavlovo'].fillna(method = 'backfill', inplace=True)\n",
    "fdp_dataset['Kopitoto'].fillna(method = 'backfill', inplace=True)\n",
    "fdp_dataset['Mladost'].fillna(method = 'backfill', inplace=True)\n",
    "fdp_dataset['Hipodrome'].fillna(method = 'backfill', inplace=True)"
   ]
  },
  {
   "cell_type": "code",
   "execution_count": 253,
   "id": "35fea5ed",
   "metadata": {},
   "outputs": [
    {
     "data": {
      "text/plain": [
       "0\n",
       "Date         0\n",
       "Hour         0\n",
       "Pavlovo      0\n",
       "Kopitoto     0\n",
       "Mladost      0\n",
       "OrlovMost    0\n",
       "Hipodrome    0\n",
       "dtype: int64"
      ]
     },
     "execution_count": 253,
     "metadata": {},
     "output_type": "execute_result"
    }
   ],
   "source": [
    "co_dataset.isnull().sum()"
   ]
  },
  {
   "cell_type": "code",
   "execution_count": 254,
   "id": "5827267f",
   "metadata": {},
   "outputs": [
    {
     "data": {
      "text/plain": [
       "0\n",
       "Date         0\n",
       "Hour         0\n",
       "Pavlovo      0\n",
       "Kopitoto     0\n",
       "Mladost      0\n",
       "OrlovMost    0\n",
       "Hipodrome    0\n",
       "dtype: int64"
      ]
     },
     "execution_count": 254,
     "metadata": {},
     "output_type": "execute_result"
    }
   ],
   "source": [
    "fdp_dataset.isnull().sum()"
   ]
  },
  {
   "cell_type": "code",
   "execution_count": 255,
   "id": "58fedc69",
   "metadata": {},
   "outputs": [
    {
     "data": {
      "text/plain": [
       "521"
      ]
     },
     "execution_count": 255,
     "metadata": {},
     "output_type": "execute_result"
    }
   ],
   "source": []
  },
  {
   "cell_type": "code",
   "execution_count": 256,
   "id": "d1b6588e",
   "metadata": {},
   "outputs": [
    {
     "data": {
      "text/plain": [
       "(43824, 7)"
      ]
     },
     "execution_count": 256,
     "metadata": {},
     "output_type": "execute_result"
    }
   ],
   "source": []
  },
  {
   "cell_type": "code",
   "execution_count": null,
   "id": "a5990e6d",
   "metadata": {},
   "outputs": [],
   "source": []
  }
 ],
 "metadata": {
  "kernelspec": {
   "display_name": "Python 3 (ipykernel)",
   "language": "python",
   "name": "python3"
  },
  "language_info": {
   "codemirror_mode": {
    "name": "ipython",
    "version": 3
   },
   "file_extension": ".py",
   "mimetype": "text/x-python",
   "name": "python",
   "nbconvert_exporter": "python",
   "pygments_lexer": "ipython3",
   "version": "3.9.10"
  }
 },
 "nbformat": 4,
 "nbformat_minor": 5
}
