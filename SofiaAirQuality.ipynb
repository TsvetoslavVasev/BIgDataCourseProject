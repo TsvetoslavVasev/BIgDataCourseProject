{
 "cells": [
  {
   "cell_type": "code",
   "execution_count": 2,
   "id": "4a6d484b",
   "metadata": {},
   "outputs": [],
   "source": [
    "import pandas as pd\n",
    "import numpy as np\n",
    "from matplotlib import pyplot as plt\n",
    "import seaborn as sns\n",
    "from sklearn.preprocessing import StandardScaler"
   ]
  },
  {
   "cell_type": "code",
   "execution_count": 3,
   "id": "c64f2cd9",
   "metadata": {},
   "outputs": [],
   "source": [
    "scaler = StandardScaler()\n",
    "\n",
    "co_dataset = pd.read_csv('./datasets/CO-2015-2019.csv')\n",
    "co_headers = co_dataset.iloc[0]\n",
    "co_dataset  = pd.DataFrame(co_dataset.values[1:], columns = co_headers)\n",
    "\n",
    "fdp_dataset = pd.read_csv('./datasets/FDP-2015-2019.csv')\n",
    "fdp_headers = fdp_dataset.iloc[0]\n",
    "fdp_dataset  = pd.DataFrame(fdp_dataset.values[1:], columns = fdp_headers)\n",
    "\n",
    "no2_dataset = pd.read_csv('./datasets/NO2-2015-2019.csv')\n",
    "no2_headers = no2_dataset.iloc[0]\n",
    "no2_dataset  = pd.DataFrame(no2_dataset.values[1:], columns = no2_headers)"
   ]
  },
  {
   "cell_type": "code",
   "execution_count": 4,
   "id": "cdc01cc6",
   "metadata": {},
   "outputs": [
    {
     "data": {
      "text/html": [
       "<div>\n",
       "<style scoped>\n",
       "    .dataframe tbody tr th:only-of-type {\n",
       "        vertical-align: middle;\n",
       "    }\n",
       "\n",
       "    .dataframe tbody tr th {\n",
       "        vertical-align: top;\n",
       "    }\n",
       "\n",
       "    .dataframe thead th {\n",
       "        text-align: right;\n",
       "    }\n",
       "</style>\n",
       "<table border=\"1\" class=\"dataframe\">\n",
       "  <thead>\n",
       "    <tr style=\"text-align: right;\">\n",
       "      <th></th>\n",
       "      <th>Date</th>\n",
       "      <th>Hour</th>\n",
       "      <th>Sofia-EEA Pavlovo</th>\n",
       "      <th>Sofia - Kopitoto</th>\n",
       "      <th>Sofia - Mladost</th>\n",
       "      <th>Sofia - Orlov Most</th>\n",
       "      <th>Sofia -Hipodrome</th>\n",
       "    </tr>\n",
       "  </thead>\n",
       "  <tbody>\n",
       "    <tr>\n",
       "      <th>0</th>\n",
       "      <td>1/1/2015</td>\n",
       "      <td>1:00</td>\n",
       "      <td>1.09</td>\n",
       "      <td>0.21</td>\n",
       "      <td>NaN</td>\n",
       "      <td>1.34</td>\n",
       "      <td>0.87</td>\n",
       "    </tr>\n",
       "    <tr>\n",
       "      <th>1</th>\n",
       "      <td>1/1/2015</td>\n",
       "      <td>2:00</td>\n",
       "      <td>1.7</td>\n",
       "      <td>0.23</td>\n",
       "      <td>NaN</td>\n",
       "      <td>1.84</td>\n",
       "      <td>1.43</td>\n",
       "    </tr>\n",
       "    <tr>\n",
       "      <th>2</th>\n",
       "      <td>1/1/2015</td>\n",
       "      <td>3:00</td>\n",
       "      <td>1.71</td>\n",
       "      <td>0.2</td>\n",
       "      <td>NaN</td>\n",
       "      <td>1.74</td>\n",
       "      <td>1.84</td>\n",
       "    </tr>\n",
       "    <tr>\n",
       "      <th>3</th>\n",
       "      <td>1/1/2015</td>\n",
       "      <td>4:00</td>\n",
       "      <td>1.96</td>\n",
       "      <td>0.21</td>\n",
       "      <td>NaN</td>\n",
       "      <td>2.16</td>\n",
       "      <td>1.75</td>\n",
       "    </tr>\n",
       "    <tr>\n",
       "      <th>4</th>\n",
       "      <td>1/1/2015</td>\n",
       "      <td>5:00</td>\n",
       "      <td>1.28</td>\n",
       "      <td>0.24</td>\n",
       "      <td>NaN</td>\n",
       "      <td>1.16</td>\n",
       "      <td>1.72</td>\n",
       "    </tr>\n",
       "  </tbody>\n",
       "</table>\n",
       "</div>"
      ],
      "text/plain": [
       "0      Date  Hour Sofia-EEA Pavlovo Sofia - Kopitoto Sofia - Mladost  \\\n",
       "0  1/1/2015  1:00              1.09             0.21             NaN   \n",
       "1  1/1/2015  2:00               1.7             0.23             NaN   \n",
       "2  1/1/2015  3:00              1.71              0.2             NaN   \n",
       "3  1/1/2015  4:00              1.96             0.21             NaN   \n",
       "4  1/1/2015  5:00              1.28             0.24             NaN   \n",
       "\n",
       "0 Sofia - Orlov Most Sofia -Hipodrome  \n",
       "0               1.34             0.87  \n",
       "1               1.84             1.43  \n",
       "2               1.74             1.84  \n",
       "3               2.16             1.75  \n",
       "4               1.16             1.72  "
      ]
     },
     "execution_count": 4,
     "metadata": {},
     "output_type": "execute_result"
    }
   ],
   "source": [
    "co_dataset.head()"
   ]
  },
  {
   "cell_type": "code",
   "execution_count": 5,
   "id": "7c03e442",
   "metadata": {},
   "outputs": [
    {
     "data": {
      "text/html": [
       "<div>\n",
       "<style scoped>\n",
       "    .dataframe tbody tr th:only-of-type {\n",
       "        vertical-align: middle;\n",
       "    }\n",
       "\n",
       "    .dataframe tbody tr th {\n",
       "        vertical-align: top;\n",
       "    }\n",
       "\n",
       "    .dataframe thead th {\n",
       "        text-align: right;\n",
       "    }\n",
       "</style>\n",
       "<table border=\"1\" class=\"dataframe\">\n",
       "  <thead>\n",
       "    <tr style=\"text-align: right;\">\n",
       "      <th></th>\n",
       "      <th>Date</th>\n",
       "      <th>Time</th>\n",
       "      <th>Sofia-Druzhba</th>\n",
       "      <th>Sofia - EEA/Pavlovo</th>\n",
       "      <th>Sofia-Kopitoto</th>\n",
       "      <th>Sofia - Mladost</th>\n",
       "      <th>Sofia-Nadezhda</th>\n",
       "      <th>Sofia - Orlov Most</th>\n",
       "      <th>Sofia - Hipodrome</th>\n",
       "      <th>Gara Yana</th>\n",
       "    </tr>\n",
       "  </thead>\n",
       "  <tbody>\n",
       "    <tr>\n",
       "      <th>0</th>\n",
       "      <td>1/1/2015</td>\n",
       "      <td>1:00</td>\n",
       "      <td>78.55</td>\n",
       "      <td>110.01</td>\n",
       "      <td>13.3</td>\n",
       "      <td>NaN</td>\n",
       "      <td>95.53</td>\n",
       "      <td>49.33</td>\n",
       "      <td>31.79</td>\n",
       "      <td>77.30</td>\n",
       "    </tr>\n",
       "    <tr>\n",
       "      <th>1</th>\n",
       "      <td>1/1/2015</td>\n",
       "      <td>2:00</td>\n",
       "      <td>159.85</td>\n",
       "      <td>206.11</td>\n",
       "      <td>14.42</td>\n",
       "      <td>NaN</td>\n",
       "      <td>64.11</td>\n",
       "      <td>100.33</td>\n",
       "      <td>94.59</td>\n",
       "      <td>91.20</td>\n",
       "    </tr>\n",
       "    <tr>\n",
       "      <th>2</th>\n",
       "      <td>1/1/2015</td>\n",
       "      <td>3:00</td>\n",
       "      <td>100.8</td>\n",
       "      <td>205.72</td>\n",
       "      <td>13.44</td>\n",
       "      <td>NaN</td>\n",
       "      <td>21.53</td>\n",
       "      <td>63.58</td>\n",
       "      <td>98.81</td>\n",
       "      <td>47.60</td>\n",
       "    </tr>\n",
       "    <tr>\n",
       "      <th>3</th>\n",
       "      <td>1/1/2015</td>\n",
       "      <td>4:00</td>\n",
       "      <td>53.33</td>\n",
       "      <td>179.01</td>\n",
       "      <td>12.45</td>\n",
       "      <td>NaN</td>\n",
       "      <td>11.17</td>\n",
       "      <td>70.5</td>\n",
       "      <td>89.95</td>\n",
       "      <td>29.40</td>\n",
       "    </tr>\n",
       "    <tr>\n",
       "      <th>4</th>\n",
       "      <td>1/1/2015</td>\n",
       "      <td>5:00</td>\n",
       "      <td>32.93</td>\n",
       "      <td>86.91</td>\n",
       "      <td>12.66</td>\n",
       "      <td>NaN</td>\n",
       "      <td>14.32</td>\n",
       "      <td>21.47</td>\n",
       "      <td>70.26</td>\n",
       "      <td>31.30</td>\n",
       "    </tr>\n",
       "  </tbody>\n",
       "</table>\n",
       "</div>"
      ],
      "text/plain": [
       "0      Date  Time Sofia-Druzhba Sofia - EEA/Pavlovo Sofia-Kopitoto  \\\n",
       "0  1/1/2015  1:00         78.55              110.01           13.3   \n",
       "1  1/1/2015  2:00        159.85              206.11          14.42   \n",
       "2  1/1/2015  3:00         100.8              205.72          13.44   \n",
       "3  1/1/2015  4:00         53.33              179.01          12.45   \n",
       "4  1/1/2015  5:00         32.93               86.91          12.66   \n",
       "\n",
       "0 Sofia - Mladost Sofia-Nadezhda Sofia - Orlov Most Sofia - Hipodrome  \\\n",
       "0             NaN          95.53              49.33             31.79   \n",
       "1             NaN          64.11             100.33             94.59   \n",
       "2             NaN          21.53              63.58             98.81   \n",
       "3             NaN          11.17               70.5             89.95   \n",
       "4             NaN          14.32              21.47             70.26   \n",
       "\n",
       "0 Gara Yana  \n",
       "0     77.30  \n",
       "1     91.20  \n",
       "2     47.60  \n",
       "3     29.40  \n",
       "4     31.30  "
      ]
     },
     "execution_count": 5,
     "metadata": {},
     "output_type": "execute_result"
    }
   ],
   "source": [
    "fdp_dataset.head()"
   ]
  },
  {
   "cell_type": "code",
   "execution_count": 6,
   "id": "1fbfcc47",
   "metadata": {},
   "outputs": [
    {
     "data": {
      "text/html": [
       "<div>\n",
       "<style scoped>\n",
       "    .dataframe tbody tr th:only-of-type {\n",
       "        vertical-align: middle;\n",
       "    }\n",
       "\n",
       "    .dataframe tbody tr th {\n",
       "        vertical-align: top;\n",
       "    }\n",
       "\n",
       "    .dataframe thead th {\n",
       "        text-align: right;\n",
       "    }\n",
       "</style>\n",
       "<table border=\"1\" class=\"dataframe\">\n",
       "  <thead>\n",
       "    <tr style=\"text-align: right;\">\n",
       "      <th></th>\n",
       "      <th>Date</th>\n",
       "      <th>Hour</th>\n",
       "      <th>Sofia - Druzhba</th>\n",
       "      <th>Sofia - EEA Pavlovo</th>\n",
       "      <th>Sofia - Kopitoto</th>\n",
       "      <th>Sofia - Mladost</th>\n",
       "      <th>Sofia - Nadezhda</th>\n",
       "      <th>Sofia-Orlov Most</th>\n",
       "      <th>Sofia - Hipodrome</th>\n",
       "    </tr>\n",
       "  </thead>\n",
       "  <tbody>\n",
       "    <tr>\n",
       "      <th>0</th>\n",
       "      <td>1/1/2015</td>\n",
       "      <td>1:00</td>\n",
       "      <td>30.66</td>\n",
       "      <td>39.73</td>\n",
       "      <td>1.45</td>\n",
       "      <td>NaN</td>\n",
       "      <td>18.75</td>\n",
       "      <td>34.82</td>\n",
       "      <td>18.83</td>\n",
       "    </tr>\n",
       "    <tr>\n",
       "      <th>1</th>\n",
       "      <td>1/1/2015</td>\n",
       "      <td>2:00</td>\n",
       "      <td>27.2</td>\n",
       "      <td>53.75</td>\n",
       "      <td>1.75</td>\n",
       "      <td>NaN</td>\n",
       "      <td>15.12</td>\n",
       "      <td>45.55</td>\n",
       "      <td>34.33</td>\n",
       "    </tr>\n",
       "    <tr>\n",
       "      <th>2</th>\n",
       "      <td>1/1/2015</td>\n",
       "      <td>3:00</td>\n",
       "      <td>27.49</td>\n",
       "      <td>49.35</td>\n",
       "      <td>1.55</td>\n",
       "      <td>NaN</td>\n",
       "      <td>11.15</td>\n",
       "      <td>45.54</td>\n",
       "      <td>54.43</td>\n",
       "    </tr>\n",
       "    <tr>\n",
       "      <th>3</th>\n",
       "      <td>1/1/2015</td>\n",
       "      <td>4:00</td>\n",
       "      <td>29.55</td>\n",
       "      <td>56.91</td>\n",
       "      <td>1.62</td>\n",
       "      <td>NaN</td>\n",
       "      <td>11.5</td>\n",
       "      <td>47.88</td>\n",
       "      <td>52.89</td>\n",
       "    </tr>\n",
       "    <tr>\n",
       "      <th>4</th>\n",
       "      <td>1/1/2015</td>\n",
       "      <td>5:00</td>\n",
       "      <td>13.05</td>\n",
       "      <td>48.33</td>\n",
       "      <td>1.48</td>\n",
       "      <td>NaN</td>\n",
       "      <td>20.87</td>\n",
       "      <td>29.3</td>\n",
       "      <td>47.85</td>\n",
       "    </tr>\n",
       "  </tbody>\n",
       "</table>\n",
       "</div>"
      ],
      "text/plain": [
       "0      Date  Hour Sofia - Druzhba Sofia - EEA Pavlovo Sofia - Kopitoto  \\\n",
       "0  1/1/2015  1:00           30.66               39.73             1.45   \n",
       "1  1/1/2015  2:00            27.2               53.75             1.75   \n",
       "2  1/1/2015  3:00           27.49               49.35             1.55   \n",
       "3  1/1/2015  4:00           29.55               56.91             1.62   \n",
       "4  1/1/2015  5:00           13.05               48.33             1.48   \n",
       "\n",
       "0 Sofia - Mladost Sofia - Nadezhda Sofia-Orlov Most Sofia - Hipodrome  \n",
       "0             NaN            18.75            34.82             18.83  \n",
       "1             NaN            15.12            45.55             34.33  \n",
       "2             NaN            11.15            45.54             54.43  \n",
       "3             NaN             11.5            47.88             52.89  \n",
       "4             NaN            20.87             29.3             47.85  "
      ]
     },
     "execution_count": 6,
     "metadata": {},
     "output_type": "execute_result"
    }
   ],
   "source": [
    "no2_dataset.head()"
   ]
  },
  {
   "cell_type": "code",
   "execution_count": 7,
   "id": "c5559d7d",
   "metadata": {},
   "outputs": [
    {
     "data": {
      "text/plain": [
       "(43824, 7)"
      ]
     },
     "execution_count": 7,
     "metadata": {},
     "output_type": "execute_result"
    }
   ],
   "source": [
    "# И двата дейта сета имат еднакъв брой редове и колони\n",
    "co_dataset.shape"
   ]
  },
  {
   "cell_type": "code",
   "execution_count": 8,
   "id": "727a06b2",
   "metadata": {},
   "outputs": [
    {
     "data": {
      "text/plain": [
       "(43824, 10)"
      ]
     },
     "execution_count": 8,
     "metadata": {},
     "output_type": "execute_result"
    }
   ],
   "source": [
    "fdp_dataset.shape"
   ]
  },
  {
   "cell_type": "code",
   "execution_count": 9,
   "id": "396e0041",
   "metadata": {},
   "outputs": [
    {
     "data": {
      "text/plain": [
       "(43824, 9)"
      ]
     },
     "execution_count": 9,
     "metadata": {},
     "output_type": "execute_result"
    }
   ],
   "source": [
    "no2_dataset.shape"
   ]
  },
  {
   "cell_type": "code",
   "execution_count": 10,
   "id": "1459ca5a",
   "metadata": {},
   "outputs": [
    {
     "data": {
      "text/html": [
       "<div>\n",
       "<style scoped>\n",
       "    .dataframe tbody tr th:only-of-type {\n",
       "        vertical-align: middle;\n",
       "    }\n",
       "\n",
       "    .dataframe tbody tr th {\n",
       "        vertical-align: top;\n",
       "    }\n",
       "\n",
       "    .dataframe thead th {\n",
       "        text-align: right;\n",
       "    }\n",
       "</style>\n",
       "<table border=\"1\" class=\"dataframe\">\n",
       "  <thead>\n",
       "    <tr style=\"text-align: right;\">\n",
       "      <th></th>\n",
       "      <th>Date</th>\n",
       "      <th>Hour</th>\n",
       "      <th>Sofia-EEA Pavlovo</th>\n",
       "      <th>Sofia - Kopitoto</th>\n",
       "      <th>Sofia - Mladost</th>\n",
       "      <th>Sofia - Orlov Most</th>\n",
       "      <th>Sofia -Hipodrome</th>\n",
       "    </tr>\n",
       "  </thead>\n",
       "  <tbody>\n",
       "    <tr>\n",
       "      <th>count</th>\n",
       "      <td>43824</td>\n",
       "      <td>43824</td>\n",
       "      <td>42444</td>\n",
       "      <td>39922</td>\n",
       "      <td>35947</td>\n",
       "      <td>6569</td>\n",
       "      <td>42989</td>\n",
       "    </tr>\n",
       "    <tr>\n",
       "      <th>unique</th>\n",
       "      <td>1826</td>\n",
       "      <td>24</td>\n",
       "      <td>521</td>\n",
       "      <td>172</td>\n",
       "      <td>416</td>\n",
       "      <td>391</td>\n",
       "      <td>541</td>\n",
       "    </tr>\n",
       "    <tr>\n",
       "      <th>top</th>\n",
       "      <td>1/1/2015</td>\n",
       "      <td>1:00</td>\n",
       "      <td>0.31</td>\n",
       "      <td>0.23</td>\n",
       "      <td>0.36</td>\n",
       "      <td>0.34</td>\n",
       "      <td>0.35</td>\n",
       "    </tr>\n",
       "    <tr>\n",
       "      <th>freq</th>\n",
       "      <td>24</td>\n",
       "      <td>1826</td>\n",
       "      <td>984</td>\n",
       "      <td>975</td>\n",
       "      <td>759</td>\n",
       "      <td>119</td>\n",
       "      <td>792</td>\n",
       "    </tr>\n",
       "  </tbody>\n",
       "</table>\n",
       "</div>"
      ],
      "text/plain": [
       "0           Date   Hour Sofia-EEA Pavlovo Sofia - Kopitoto Sofia - Mladost  \\\n",
       "count      43824  43824             42444            39922           35947   \n",
       "unique      1826     24               521              172             416   \n",
       "top     1/1/2015   1:00              0.31             0.23            0.36   \n",
       "freq          24   1826               984              975             759   \n",
       "\n",
       "0      Sofia - Orlov Most Sofia -Hipodrome  \n",
       "count                6569            42989  \n",
       "unique                391              541  \n",
       "top                  0.34             0.35  \n",
       "freq                  119              792  "
      ]
     },
     "execution_count": 10,
     "metadata": {},
     "output_type": "execute_result"
    }
   ],
   "source": [
    "co_dataset.describe()"
   ]
  },
  {
   "cell_type": "code",
   "execution_count": 11,
   "id": "62f79c47",
   "metadata": {},
   "outputs": [
    {
     "data": {
      "text/html": [
       "<div>\n",
       "<style scoped>\n",
       "    .dataframe tbody tr th:only-of-type {\n",
       "        vertical-align: middle;\n",
       "    }\n",
       "\n",
       "    .dataframe tbody tr th {\n",
       "        vertical-align: top;\n",
       "    }\n",
       "\n",
       "    .dataframe thead th {\n",
       "        text-align: right;\n",
       "    }\n",
       "</style>\n",
       "<table border=\"1\" class=\"dataframe\">\n",
       "  <thead>\n",
       "    <tr style=\"text-align: right;\">\n",
       "      <th></th>\n",
       "      <th>Date</th>\n",
       "      <th>Time</th>\n",
       "      <th>Sofia-Druzhba</th>\n",
       "      <th>Sofia - EEA/Pavlovo</th>\n",
       "      <th>Sofia-Kopitoto</th>\n",
       "      <th>Sofia - Mladost</th>\n",
       "      <th>Sofia-Nadezhda</th>\n",
       "      <th>Sofia - Orlov Most</th>\n",
       "      <th>Sofia - Hipodrome</th>\n",
       "      <th>Gara Yana</th>\n",
       "    </tr>\n",
       "  </thead>\n",
       "  <tbody>\n",
       "    <tr>\n",
       "      <th>count</th>\n",
       "      <td>43824</td>\n",
       "      <td>43824</td>\n",
       "      <td>42550</td>\n",
       "      <td>42098</td>\n",
       "      <td>39898</td>\n",
       "      <td>35618</td>\n",
       "      <td>40855</td>\n",
       "      <td>6326</td>\n",
       "      <td>43098</td>\n",
       "      <td>1720</td>\n",
       "    </tr>\n",
       "    <tr>\n",
       "      <th>unique</th>\n",
       "      <td>1826</td>\n",
       "      <td>24</td>\n",
       "      <td>9059</td>\n",
       "      <td>10282</td>\n",
       "      <td>4932</td>\n",
       "      <td>8156</td>\n",
       "      <td>10638</td>\n",
       "      <td>4042</td>\n",
       "      <td>9879</td>\n",
       "      <td>628</td>\n",
       "    </tr>\n",
       "    <tr>\n",
       "      <th>top</th>\n",
       "      <td>1/1/2015</td>\n",
       "      <td>1:00</td>\n",
       "      <td>16.53</td>\n",
       "      <td>25.87</td>\n",
       "      <td>3.63</td>\n",
       "      <td>21.56</td>\n",
       "      <td>2.64</td>\n",
       "      <td>25.29</td>\n",
       "      <td>19.78</td>\n",
       "      <td>21.90</td>\n",
       "    </tr>\n",
       "    <tr>\n",
       "      <th>freq</th>\n",
       "      <td>24</td>\n",
       "      <td>1826</td>\n",
       "      <td>27</td>\n",
       "      <td>24</td>\n",
       "      <td>93</td>\n",
       "      <td>23</td>\n",
       "      <td>570</td>\n",
       "      <td>7</td>\n",
       "      <td>24</td>\n",
       "      <td>12</td>\n",
       "    </tr>\n",
       "  </tbody>\n",
       "</table>\n",
       "</div>"
      ],
      "text/plain": [
       "0           Date   Time Sofia-Druzhba Sofia - EEA/Pavlovo Sofia-Kopitoto  \\\n",
       "count      43824  43824         42550               42098          39898   \n",
       "unique      1826     24          9059               10282           4932   \n",
       "top     1/1/2015   1:00         16.53               25.87           3.63   \n",
       "freq          24   1826            27                  24             93   \n",
       "\n",
       "0      Sofia - Mladost Sofia-Nadezhda Sofia - Orlov Most Sofia - Hipodrome  \\\n",
       "count            35618          40855               6326             43098   \n",
       "unique            8156          10638               4042              9879   \n",
       "top              21.56           2.64              25.29             19.78   \n",
       "freq                23            570                  7                24   \n",
       "\n",
       "0      Gara Yana  \n",
       "count       1720  \n",
       "unique       628  \n",
       "top        21.90  \n",
       "freq          12  "
      ]
     },
     "execution_count": 11,
     "metadata": {},
     "output_type": "execute_result"
    }
   ],
   "source": [
    "fdp_dataset.describe()"
   ]
  },
  {
   "cell_type": "code",
   "execution_count": 12,
   "id": "8e024375",
   "metadata": {},
   "outputs": [
    {
     "data": {
      "text/html": [
       "<div>\n",
       "<style scoped>\n",
       "    .dataframe tbody tr th:only-of-type {\n",
       "        vertical-align: middle;\n",
       "    }\n",
       "\n",
       "    .dataframe tbody tr th {\n",
       "        vertical-align: top;\n",
       "    }\n",
       "\n",
       "    .dataframe thead th {\n",
       "        text-align: right;\n",
       "    }\n",
       "</style>\n",
       "<table border=\"1\" class=\"dataframe\">\n",
       "  <thead>\n",
       "    <tr style=\"text-align: right;\">\n",
       "      <th></th>\n",
       "      <th>Date</th>\n",
       "      <th>Hour</th>\n",
       "      <th>Sofia - Druzhba</th>\n",
       "      <th>Sofia - EEA Pavlovo</th>\n",
       "      <th>Sofia - Kopitoto</th>\n",
       "      <th>Sofia - Mladost</th>\n",
       "      <th>Sofia - Nadezhda</th>\n",
       "      <th>Sofia-Orlov Most</th>\n",
       "      <th>Sofia - Hipodrome</th>\n",
       "    </tr>\n",
       "  </thead>\n",
       "  <tbody>\n",
       "    <tr>\n",
       "      <th>count</th>\n",
       "      <td>43824</td>\n",
       "      <td>43824</td>\n",
       "      <td>43561</td>\n",
       "      <td>41216</td>\n",
       "      <td>39510</td>\n",
       "      <td>33272</td>\n",
       "      <td>41624</td>\n",
       "      <td>6447</td>\n",
       "      <td>43533</td>\n",
       "    </tr>\n",
       "    <tr>\n",
       "      <th>unique</th>\n",
       "      <td>1826</td>\n",
       "      <td>24</td>\n",
       "      <td>7600</td>\n",
       "      <td>9275</td>\n",
       "      <td>2775</td>\n",
       "      <td>8400</td>\n",
       "      <td>7842</td>\n",
       "      <td>4554</td>\n",
       "      <td>8842</td>\n",
       "    </tr>\n",
       "    <tr>\n",
       "      <th>top</th>\n",
       "      <td>1/1/2015</td>\n",
       "      <td>1:00</td>\n",
       "      <td>10.75</td>\n",
       "      <td>-1.67</td>\n",
       "      <td>1.49</td>\n",
       "      <td>10.85</td>\n",
       "      <td>0</td>\n",
       "      <td>22.39</td>\n",
       "      <td>16.84</td>\n",
       "    </tr>\n",
       "    <tr>\n",
       "      <th>freq</th>\n",
       "      <td>24</td>\n",
       "      <td>1826</td>\n",
       "      <td>29</td>\n",
       "      <td>63</td>\n",
       "      <td>254</td>\n",
       "      <td>20</td>\n",
       "      <td>244</td>\n",
       "      <td>6</td>\n",
       "      <td>28</td>\n",
       "    </tr>\n",
       "  </tbody>\n",
       "</table>\n",
       "</div>"
      ],
      "text/plain": [
       "0           Date   Hour Sofia - Druzhba Sofia - EEA Pavlovo Sofia - Kopitoto  \\\n",
       "count      43824  43824           43561               41216            39510   \n",
       "unique      1826     24            7600                9275             2775   \n",
       "top     1/1/2015   1:00           10.75               -1.67             1.49   \n",
       "freq          24   1826              29                  63              254   \n",
       "\n",
       "0      Sofia - Mladost Sofia - Nadezhda Sofia-Orlov Most Sofia - Hipodrome  \n",
       "count            33272            41624             6447             43533  \n",
       "unique            8400             7842             4554              8842  \n",
       "top              10.85                0            22.39             16.84  \n",
       "freq                20              244                6                28  "
      ]
     },
     "execution_count": 12,
     "metadata": {},
     "output_type": "execute_result"
    }
   ],
   "source": [
    "no2_dataset.describe()"
   ]
  },
  {
   "cell_type": "code",
   "execution_count": 13,
   "id": "26b6b7d7",
   "metadata": {},
   "outputs": [],
   "source": [
    "co_dataset = co_dataset.rename(columns={\"Date\": \"Date-Time\", \"Sofia-EEA Pavlovo\":\"Pavlovo-CO\", \"Sofia - Kopitoto\":\"Kopitoto-CO\", \"Sofia - Mladost\":\"Mladost-CO\", \"Sofia - Orlov Most\":\"OrlovMost\", \"Sofia -Hipodrome\":\"Hipodrome-CO\"})"
   ]
  },
  {
   "cell_type": "code",
   "execution_count": 14,
   "id": "c192d862",
   "metadata": {},
   "outputs": [],
   "source": [
    "fdp_dataset = fdp_dataset.rename(columns={\"Date\": \"Date-Time\", \"Time\": \"Hour\", \"Sofia-Druzhba\":\"Druzhba-FDP\", \"Sofia - EEA/Pavlovo\":\"Pavlovo-FDP\", \"Sofia-Kopitoto\":\"Kopitoto-FDP\", \"Sofia - Mladost\":\"Mladost-FDP\", \"Sofia-Nadezhda\":\"Nadezhda-FDP\", \"Sofia - Orlov Most\":\"OrlovMost\", \"Sofia - Hipodrome\":\"Hipodrome-FDP\", \"Gara Yana\":\"GaraYana\"})"
   ]
  },
  {
   "cell_type": "code",
   "execution_count": 15,
   "id": "40f94ad1",
   "metadata": {},
   "outputs": [],
   "source": [
    "no2_dataset = no2_dataset.rename(columns={\"Date\": \"Date-Time\", \"Sofia - EEA Pavlovo\":\"Pavlovo-NO2\", \"Sofia - Kopitoto\":\"Kopitoto-NO2\", \"Sofia - Mladost\":\"Mladost-NO2\", \"Sofia-Orlov Most\":\"OrlovMost\", \"Sofia - Hipodrome\":\"Hipodrome-NO2\", \"Sofia - Druzhba\":\"Druzhba-NO2\", \"Sofia - Nadezhda\":\"Nadezhda-NO2\"})"
   ]
  },
  {
   "cell_type": "code",
   "execution_count": 16,
   "id": "4576846f",
   "metadata": {},
   "outputs": [
    {
     "data": {
      "text/plain": [
       "0"
      ]
     },
     "execution_count": 16,
     "metadata": {},
     "output_type": "execute_result"
    }
   ],
   "source": [
    "sum(co_dataset.duplicated())"
   ]
  },
  {
   "cell_type": "code",
   "execution_count": 17,
   "id": "74505120",
   "metadata": {},
   "outputs": [
    {
     "data": {
      "text/plain": [
       "0"
      ]
     },
     "execution_count": 17,
     "metadata": {},
     "output_type": "execute_result"
    }
   ],
   "source": [
    "sum(fdp_dataset.duplicated())"
   ]
  },
  {
   "cell_type": "code",
   "execution_count": 18,
   "id": "75c5cf5a",
   "metadata": {},
   "outputs": [
    {
     "data": {
      "text/plain": [
       "0"
      ]
     },
     "execution_count": 18,
     "metadata": {},
     "output_type": "execute_result"
    }
   ],
   "source": [
    "sum(no2_dataset.duplicated())"
   ]
  },
  {
   "cell_type": "code",
   "execution_count": 19,
   "id": "b4693fde",
   "metadata": {},
   "outputs": [
    {
     "data": {
      "text/plain": [
       "0\n",
       "Date-Time           0\n",
       "Hour                0\n",
       "Pavlovo-CO       1380\n",
       "Kopitoto-CO      3902\n",
       "Mladost-CO       7877\n",
       "OrlovMost       37255\n",
       "Hipodrome-CO      835\n",
       "dtype: int64"
      ]
     },
     "execution_count": 19,
     "metadata": {},
     "output_type": "execute_result"
    }
   ],
   "source": [
    "co_dataset.isnull().sum()"
   ]
  },
  {
   "cell_type": "code",
   "execution_count": 20,
   "id": "2e45bbe7",
   "metadata": {},
   "outputs": [
    {
     "data": {
      "text/plain": [
       "0\n",
       "Date-Time            0\n",
       "Hour                 0\n",
       "Druzhba-FDP       1274\n",
       "Pavlovo-FDP       1726\n",
       "Kopitoto-FDP      3926\n",
       "Mladost-FDP       8206\n",
       "Nadezhda-FDP      2969\n",
       "OrlovMost        37498\n",
       "Hipodrome-FDP      726\n",
       "GaraYana         42104\n",
       "dtype: int64"
      ]
     },
     "execution_count": 20,
     "metadata": {},
     "output_type": "execute_result"
    }
   ],
   "source": [
    "fdp_dataset.isnull().sum()"
   ]
  },
  {
   "cell_type": "code",
   "execution_count": 21,
   "id": "33b34209",
   "metadata": {},
   "outputs": [
    {
     "data": {
      "text/plain": [
       "0\n",
       "Date-Time            0\n",
       "Hour                 0\n",
       "Druzhba-NO2        263\n",
       "Pavlovo-NO2       2608\n",
       "Kopitoto-NO2      4314\n",
       "Mladost-NO2      10552\n",
       "Nadezhda-NO2      2200\n",
       "OrlovMost        37377\n",
       "Hipodrome-NO2      291\n",
       "dtype: int64"
      ]
     },
     "execution_count": 21,
     "metadata": {},
     "output_type": "execute_result"
    }
   ],
   "source": [
    "no2_dataset.isnull().sum()"
   ]
  },
  {
   "cell_type": "code",
   "execution_count": 22,
   "id": "939c3b8c",
   "metadata": {},
   "outputs": [],
   "source": [
    "# Convert string values to float\n",
    "co_dataset[\"Pavlovo-CO\"] = pd.to_numeric(co_dataset[\"Pavlovo-CO\"], downcast=\"float\")\n",
    "co_dataset[\"Kopitoto-CO\"] = pd.to_numeric(co_dataset[\"Kopitoto-CO\"], downcast=\"float\")\n",
    "co_dataset[\"Mladost-CO\"] = pd.to_numeric(co_dataset[\"Mladost-CO\"], downcast=\"float\")\n",
    "co_dataset[\"Hipodrome-CO\"] = pd.to_numeric(co_dataset[\"Hipodrome-CO\"], downcast=\"float\")\n",
    "\n",
    "fdp_dataset[\"Pavlovo-FDP\"] = pd.to_numeric(fdp_dataset[\"Pavlovo-FDP\"], downcast=\"float\")\n",
    "fdp_dataset[\"Kopitoto-FDP\"] = pd.to_numeric(fdp_dataset[\"Kopitoto-FDP\"], downcast=\"float\")\n",
    "fdp_dataset[\"Mladost-FDP\"] = pd.to_numeric(fdp_dataset[\"Mladost-FDP\"], downcast=\"float\")\n",
    "fdp_dataset[\"Hipodrome-FDP\"] = pd.to_numeric(fdp_dataset[\"Hipodrome-FDP\"], downcast=\"float\")\n",
    "fdp_dataset[\"Druzhba-FDP\"] = pd.to_numeric(fdp_dataset[\"Druzhba-FDP\"], downcast=\"float\")\n",
    "fdp_dataset[\"Nadezhda-FDP\"] = pd.to_numeric(fdp_dataset[\"Nadezhda-FDP\"], downcast=\"float\")\n",
    "\n",
    "no2_dataset[\"Pavlovo-NO2\"] = pd.to_numeric(no2_dataset[\"Pavlovo-NO2\"], downcast=\"float\")\n",
    "no2_dataset[\"Kopitoto-NO2\"] = pd.to_numeric(no2_dataset[\"Kopitoto-NO2\"], downcast=\"float\")\n",
    "no2_dataset[\"Mladost-NO2\"] = pd.to_numeric(no2_dataset[\"Mladost-NO2\"], downcast=\"float\")\n",
    "no2_dataset[\"Hipodrome-NO2\"] = pd.to_numeric(no2_dataset[\"Hipodrome-NO2\"], downcast=\"float\")\n",
    "no2_dataset[\"Druzhba-NO2\"] = pd.to_numeric(no2_dataset[\"Druzhba-NO2\"], downcast=\"float\")\n",
    "no2_dataset[\"Nadezhda-NO2\"] = pd.to_numeric(no2_dataset[\"Nadezhda-NO2\"], downcast=\"float\")"
   ]
  },
  {
   "cell_type": "code",
   "execution_count": 23,
   "id": "260726e0",
   "metadata": {},
   "outputs": [],
   "source": [
    "# Запълваме нълл стойсностите със средното, а не медианата, тъй като нямаме стойности много-над, много-по между останалите стойности за тази колона\n",
    "# Fill null's for the column's\n",
    "co_dataset.drop('OrlovMost',axis='columns', inplace=True)\n",
    "#co_dataset['OrlovMost'].fillna((co_dataset['OrlovMost'].mean()), inplace=True)\n",
    "co_dataset['Pavlovo-CO'].fillna(method = 'backfill', inplace=True)\n",
    "co_dataset['Kopitoto-CO'].fillna(method = 'backfill', inplace=True)\n",
    "co_dataset['Mladost-CO'].fillna(method = 'backfill', inplace=True)\n",
    "co_dataset['Hipodrome-CO'].fillna(method = 'backfill', inplace=True)\n",
    "\n",
    "fdp_dataset.drop('OrlovMost',axis='columns', inplace=True)\n",
    "fdp_dataset.drop('GaraYana',axis='columns', inplace=True)\n",
    "#fdp_dataset['OrlovMost'].fillna((fdp_dataset['OrlovMost'].mean()), inplace=True)\n",
    "fdp_dataset['Pavlovo-FDP'].fillna(method = 'backfill', inplace=True)\n",
    "fdp_dataset['Kopitoto-FDP'].fillna(method = 'backfill', inplace=True)\n",
    "fdp_dataset['Mladost-FDP'].fillna(method = 'backfill', inplace=True)\n",
    "fdp_dataset['Hipodrome-FDP'].fillna(method = 'backfill', inplace=True)\n",
    "fdp_dataset['Druzhba-FDP'].fillna(method = 'backfill', inplace=True)\n",
    "fdp_dataset['Nadezhda-FDP'].fillna(method = 'backfill', inplace=True)\n",
    "#fdp_dataset['GaraYana'].fillna((fdp_dataset['GaraYana'].mean()), inplace=True)\n",
    "\n",
    "no2_dataset.drop('OrlovMost',axis='columns', inplace=True)\n",
    "#fdp_dataset['OrlovMost'].fillna((fdp_dataset['OrlovMost'].mean()), inplace=True)\n",
    "no2_dataset['Pavlovo-NO2'].fillna(method = 'backfill', inplace=True)\n",
    "no2_dataset['Kopitoto-NO2'].fillna(method = 'backfill', inplace=True)\n",
    "no2_dataset['Mladost-NO2'].fillna(method = 'backfill', inplace=True)\n",
    "no2_dataset['Hipodrome-NO2'].fillna(method = 'backfill', inplace=True)\n",
    "no2_dataset['Druzhba-NO2'].fillna(method = 'backfill', inplace=True)\n",
    "no2_dataset['Nadezhda-NO2'].fillna(method = 'backfill', inplace=True)"
   ]
  },
  {
   "cell_type": "code",
   "execution_count": 24,
   "id": "d0dc2850",
   "metadata": {},
   "outputs": [
    {
     "data": {
      "text/plain": [
       "0\n",
       "Date-Time       0\n",
       "Hour            0\n",
       "Pavlovo-CO      0\n",
       "Kopitoto-CO     0\n",
       "Mladost-CO      0\n",
       "Hipodrome-CO    0\n",
       "dtype: int64"
      ]
     },
     "execution_count": 24,
     "metadata": {},
     "output_type": "execute_result"
    }
   ],
   "source": [
    "co_dataset.isnull().sum()"
   ]
  },
  {
   "cell_type": "code",
   "execution_count": 25,
   "id": "00e24405",
   "metadata": {},
   "outputs": [
    {
     "data": {
      "text/plain": [
       "0\n",
       "Date-Time        0\n",
       "Hour             0\n",
       "Druzhba-FDP      0\n",
       "Pavlovo-FDP      0\n",
       "Kopitoto-FDP     0\n",
       "Mladost-FDP      0\n",
       "Nadezhda-FDP     0\n",
       "Hipodrome-FDP    0\n",
       "dtype: int64"
      ]
     },
     "execution_count": 25,
     "metadata": {},
     "output_type": "execute_result"
    }
   ],
   "source": [
    "fdp_dataset.isnull().sum()"
   ]
  },
  {
   "cell_type": "code",
   "execution_count": 26,
   "id": "55e42d2c",
   "metadata": {},
   "outputs": [
    {
     "data": {
      "text/plain": [
       "0\n",
       "Date-Time        0\n",
       "Hour             0\n",
       "Druzhba-NO2      0\n",
       "Pavlovo-NO2      0\n",
       "Kopitoto-NO2     0\n",
       "Mladost-NO2      0\n",
       "Nadezhda-NO2     0\n",
       "Hipodrome-NO2    0\n",
       "dtype: int64"
      ]
     },
     "execution_count": 26,
     "metadata": {},
     "output_type": "execute_result"
    }
   ],
   "source": [
    "no2_dataset.isnull().sum()"
   ]
  },
  {
   "cell_type": "code",
   "execution_count": 27,
   "id": "938e9995",
   "metadata": {},
   "outputs": [],
   "source": [
    "co_dataset.loc[co_dataset[\"Hour\"] == \"24:00:00\", \"Hour\"] = \"00:00:00\"\n",
    "co_dataset[\"Date-Time\"] = pd.to_datetime(co_dataset['Date-Time'] + ' ' + co_dataset['Hour'])\n",
    "co_dataset.drop('Hour',axis='columns', inplace=True)\n",
    "\n",
    "fdp_dataset.loc[fdp_dataset[\"Hour\"] == \"24:00:00\", \"Hour\"] = \"00:00:00\"\n",
    "fdp_dataset[\"Date-Time\"] = pd.to_datetime(fdp_dataset['Date-Time'] + ' ' + fdp_dataset['Hour'])\n",
    "fdp_dataset.drop('Hour',axis='columns', inplace=True)\n",
    "\n",
    "no2_dataset.loc[no2_dataset[\"Hour\"] == \"24:00:00\", \"Hour\"] = \"00:00:00\"\n",
    "no2_dataset[\"Date-Time\"] = pd.to_datetime(no2_dataset['Date-Time'] + ' ' + no2_dataset['Hour'])\n",
    "no2_dataset.drop('Hour',axis='columns', inplace=True)\n"
   ]
  },
  {
   "cell_type": "code",
   "execution_count": 28,
   "id": "419ce7c2",
   "metadata": {},
   "outputs": [
    {
     "data": {
      "text/html": [
       "<div>\n",
       "<style scoped>\n",
       "    .dataframe tbody tr th:only-of-type {\n",
       "        vertical-align: middle;\n",
       "    }\n",
       "\n",
       "    .dataframe tbody tr th {\n",
       "        vertical-align: top;\n",
       "    }\n",
       "\n",
       "    .dataframe thead th {\n",
       "        text-align: right;\n",
       "    }\n",
       "</style>\n",
       "<table border=\"1\" class=\"dataframe\">\n",
       "  <thead>\n",
       "    <tr style=\"text-align: right;\">\n",
       "      <th></th>\n",
       "      <th>Date-Time</th>\n",
       "      <th>Pavlovo-CO</th>\n",
       "      <th>Kopitoto-CO</th>\n",
       "      <th>Mladost-CO</th>\n",
       "      <th>Hipodrome-CO</th>\n",
       "    </tr>\n",
       "  </thead>\n",
       "  <tbody>\n",
       "    <tr>\n",
       "      <th>0</th>\n",
       "      <td>2015-01-01 01:00:00</td>\n",
       "      <td>1.09</td>\n",
       "      <td>0.21</td>\n",
       "      <td>0.51</td>\n",
       "      <td>0.87</td>\n",
       "    </tr>\n",
       "    <tr>\n",
       "      <th>1</th>\n",
       "      <td>2015-01-01 02:00:00</td>\n",
       "      <td>1.70</td>\n",
       "      <td>0.23</td>\n",
       "      <td>0.51</td>\n",
       "      <td>1.43</td>\n",
       "    </tr>\n",
       "    <tr>\n",
       "      <th>2</th>\n",
       "      <td>2015-01-01 03:00:00</td>\n",
       "      <td>1.71</td>\n",
       "      <td>0.20</td>\n",
       "      <td>0.51</td>\n",
       "      <td>1.84</td>\n",
       "    </tr>\n",
       "    <tr>\n",
       "      <th>3</th>\n",
       "      <td>2015-01-01 04:00:00</td>\n",
       "      <td>1.96</td>\n",
       "      <td>0.21</td>\n",
       "      <td>0.51</td>\n",
       "      <td>1.75</td>\n",
       "    </tr>\n",
       "    <tr>\n",
       "      <th>4</th>\n",
       "      <td>2015-01-01 05:00:00</td>\n",
       "      <td>1.28</td>\n",
       "      <td>0.24</td>\n",
       "      <td>0.51</td>\n",
       "      <td>1.72</td>\n",
       "    </tr>\n",
       "  </tbody>\n",
       "</table>\n",
       "</div>"
      ],
      "text/plain": [
       "0           Date-Time  Pavlovo-CO  Kopitoto-CO  Mladost-CO  Hipodrome-CO\n",
       "0 2015-01-01 01:00:00        1.09         0.21        0.51          0.87\n",
       "1 2015-01-01 02:00:00        1.70         0.23        0.51          1.43\n",
       "2 2015-01-01 03:00:00        1.71         0.20        0.51          1.84\n",
       "3 2015-01-01 04:00:00        1.96         0.21        0.51          1.75\n",
       "4 2015-01-01 05:00:00        1.28         0.24        0.51          1.72"
      ]
     },
     "execution_count": 28,
     "metadata": {},
     "output_type": "execute_result"
    }
   ],
   "source": [
    "co_dataset.head()"
   ]
  },
  {
   "cell_type": "code",
   "execution_count": 29,
   "id": "baa67655",
   "metadata": {},
   "outputs": [
    {
     "data": {
      "text/html": [
       "<div>\n",
       "<style scoped>\n",
       "    .dataframe tbody tr th:only-of-type {\n",
       "        vertical-align: middle;\n",
       "    }\n",
       "\n",
       "    .dataframe tbody tr th {\n",
       "        vertical-align: top;\n",
       "    }\n",
       "\n",
       "    .dataframe thead th {\n",
       "        text-align: right;\n",
       "    }\n",
       "</style>\n",
       "<table border=\"1\" class=\"dataframe\">\n",
       "  <thead>\n",
       "    <tr style=\"text-align: right;\">\n",
       "      <th></th>\n",
       "      <th>Date-Time</th>\n",
       "      <th>Druzhba-FDP</th>\n",
       "      <th>Pavlovo-FDP</th>\n",
       "      <th>Kopitoto-FDP</th>\n",
       "      <th>Mladost-FDP</th>\n",
       "      <th>Nadezhda-FDP</th>\n",
       "      <th>Hipodrome-FDP</th>\n",
       "    </tr>\n",
       "  </thead>\n",
       "  <tbody>\n",
       "    <tr>\n",
       "      <th>0</th>\n",
       "      <td>2015-01-01 01:00:00</td>\n",
       "      <td>78.550003</td>\n",
       "      <td>110.010002</td>\n",
       "      <td>13.30</td>\n",
       "      <td>36.880001</td>\n",
       "      <td>95.529999</td>\n",
       "      <td>31.790001</td>\n",
       "    </tr>\n",
       "    <tr>\n",
       "      <th>1</th>\n",
       "      <td>2015-01-01 02:00:00</td>\n",
       "      <td>159.850006</td>\n",
       "      <td>206.110001</td>\n",
       "      <td>14.42</td>\n",
       "      <td>36.880001</td>\n",
       "      <td>64.110001</td>\n",
       "      <td>94.589996</td>\n",
       "    </tr>\n",
       "    <tr>\n",
       "      <th>2</th>\n",
       "      <td>2015-01-01 03:00:00</td>\n",
       "      <td>100.800003</td>\n",
       "      <td>205.720001</td>\n",
       "      <td>13.44</td>\n",
       "      <td>36.880001</td>\n",
       "      <td>21.530001</td>\n",
       "      <td>98.809998</td>\n",
       "    </tr>\n",
       "    <tr>\n",
       "      <th>3</th>\n",
       "      <td>2015-01-01 04:00:00</td>\n",
       "      <td>53.330002</td>\n",
       "      <td>179.009995</td>\n",
       "      <td>12.45</td>\n",
       "      <td>36.880001</td>\n",
       "      <td>11.170000</td>\n",
       "      <td>89.949997</td>\n",
       "    </tr>\n",
       "    <tr>\n",
       "      <th>4</th>\n",
       "      <td>2015-01-01 05:00:00</td>\n",
       "      <td>32.930000</td>\n",
       "      <td>86.910004</td>\n",
       "      <td>12.66</td>\n",
       "      <td>36.880001</td>\n",
       "      <td>14.320000</td>\n",
       "      <td>70.260002</td>\n",
       "    </tr>\n",
       "  </tbody>\n",
       "</table>\n",
       "</div>"
      ],
      "text/plain": [
       "0           Date-Time  Druzhba-FDP  Pavlovo-FDP  Kopitoto-FDP  Mladost-FDP  \\\n",
       "0 2015-01-01 01:00:00    78.550003   110.010002         13.30    36.880001   \n",
       "1 2015-01-01 02:00:00   159.850006   206.110001         14.42    36.880001   \n",
       "2 2015-01-01 03:00:00   100.800003   205.720001         13.44    36.880001   \n",
       "3 2015-01-01 04:00:00    53.330002   179.009995         12.45    36.880001   \n",
       "4 2015-01-01 05:00:00    32.930000    86.910004         12.66    36.880001   \n",
       "\n",
       "0  Nadezhda-FDP  Hipodrome-FDP  \n",
       "0     95.529999      31.790001  \n",
       "1     64.110001      94.589996  \n",
       "2     21.530001      98.809998  \n",
       "3     11.170000      89.949997  \n",
       "4     14.320000      70.260002  "
      ]
     },
     "execution_count": 29,
     "metadata": {},
     "output_type": "execute_result"
    }
   ],
   "source": [
    "fdp_dataset.head()"
   ]
  },
  {
   "cell_type": "code",
   "execution_count": 30,
   "id": "69763593",
   "metadata": {},
   "outputs": [
    {
     "data": {
      "text/html": [
       "<div>\n",
       "<style scoped>\n",
       "    .dataframe tbody tr th:only-of-type {\n",
       "        vertical-align: middle;\n",
       "    }\n",
       "\n",
       "    .dataframe tbody tr th {\n",
       "        vertical-align: top;\n",
       "    }\n",
       "\n",
       "    .dataframe thead th {\n",
       "        text-align: right;\n",
       "    }\n",
       "</style>\n",
       "<table border=\"1\" class=\"dataframe\">\n",
       "  <thead>\n",
       "    <tr style=\"text-align: right;\">\n",
       "      <th></th>\n",
       "      <th>Date-Time</th>\n",
       "      <th>Druzhba-NO2</th>\n",
       "      <th>Pavlovo-NO2</th>\n",
       "      <th>Kopitoto-NO2</th>\n",
       "      <th>Mladost-NO2</th>\n",
       "      <th>Nadezhda-NO2</th>\n",
       "      <th>Hipodrome-NO2</th>\n",
       "    </tr>\n",
       "  </thead>\n",
       "  <tbody>\n",
       "    <tr>\n",
       "      <th>0</th>\n",
       "      <td>2015-01-01 01:00:00</td>\n",
       "      <td>30.660000</td>\n",
       "      <td>39.730000</td>\n",
       "      <td>1.45</td>\n",
       "      <td>6.72</td>\n",
       "      <td>18.750000</td>\n",
       "      <td>18.830000</td>\n",
       "    </tr>\n",
       "    <tr>\n",
       "      <th>1</th>\n",
       "      <td>2015-01-01 02:00:00</td>\n",
       "      <td>27.200001</td>\n",
       "      <td>53.750000</td>\n",
       "      <td>1.75</td>\n",
       "      <td>6.72</td>\n",
       "      <td>15.120000</td>\n",
       "      <td>34.330002</td>\n",
       "    </tr>\n",
       "    <tr>\n",
       "      <th>2</th>\n",
       "      <td>2015-01-01 03:00:00</td>\n",
       "      <td>27.490000</td>\n",
       "      <td>49.349998</td>\n",
       "      <td>1.55</td>\n",
       "      <td>6.72</td>\n",
       "      <td>11.150000</td>\n",
       "      <td>54.430000</td>\n",
       "    </tr>\n",
       "    <tr>\n",
       "      <th>3</th>\n",
       "      <td>2015-01-01 04:00:00</td>\n",
       "      <td>29.549999</td>\n",
       "      <td>56.910000</td>\n",
       "      <td>1.62</td>\n",
       "      <td>6.72</td>\n",
       "      <td>11.500000</td>\n",
       "      <td>52.889999</td>\n",
       "    </tr>\n",
       "    <tr>\n",
       "      <th>4</th>\n",
       "      <td>2015-01-01 05:00:00</td>\n",
       "      <td>13.050000</td>\n",
       "      <td>48.330002</td>\n",
       "      <td>1.48</td>\n",
       "      <td>6.72</td>\n",
       "      <td>20.870001</td>\n",
       "      <td>47.849998</td>\n",
       "    </tr>\n",
       "  </tbody>\n",
       "</table>\n",
       "</div>"
      ],
      "text/plain": [
       "0           Date-Time  Druzhba-NO2  Pavlovo-NO2  Kopitoto-NO2  Mladost-NO2  \\\n",
       "0 2015-01-01 01:00:00    30.660000    39.730000          1.45         6.72   \n",
       "1 2015-01-01 02:00:00    27.200001    53.750000          1.75         6.72   \n",
       "2 2015-01-01 03:00:00    27.490000    49.349998          1.55         6.72   \n",
       "3 2015-01-01 04:00:00    29.549999    56.910000          1.62         6.72   \n",
       "4 2015-01-01 05:00:00    13.050000    48.330002          1.48         6.72   \n",
       "\n",
       "0  Nadezhda-NO2  Hipodrome-NO2  \n",
       "0     18.750000      18.830000  \n",
       "1     15.120000      34.330002  \n",
       "2     11.150000      54.430000  \n",
       "3     11.500000      52.889999  \n",
       "4     20.870001      47.849998  "
      ]
     },
     "execution_count": 30,
     "metadata": {},
     "output_type": "execute_result"
    }
   ],
   "source": [
    "no2_dataset.head()"
   ]
  },
  {
   "cell_type": "code",
   "execution_count": 52,
   "id": "6eff3be6",
   "metadata": {},
   "outputs": [
    {
     "data": {
      "text/html": [
       "<div>\n",
       "<style scoped>\n",
       "    .dataframe tbody tr th:only-of-type {\n",
       "        vertical-align: middle;\n",
       "    }\n",
       "\n",
       "    .dataframe tbody tr th {\n",
       "        vertical-align: top;\n",
       "    }\n",
       "\n",
       "    .dataframe thead th {\n",
       "        text-align: right;\n",
       "    }\n",
       "</style>\n",
       "<table border=\"1\" class=\"dataframe\">\n",
       "  <thead>\n",
       "    <tr style=\"text-align: right;\">\n",
       "      <th></th>\n",
       "      <th>Date-Time</th>\n",
       "      <th>Pavlovo-CO</th>\n",
       "      <th>Kopitoto-CO</th>\n",
       "      <th>Mladost-CO</th>\n",
       "      <th>Hipodrome-CO</th>\n",
       "      <th>Druzhba-FDP</th>\n",
       "      <th>Pavlovo-FDP</th>\n",
       "      <th>Kopitoto-FDP</th>\n",
       "      <th>Mladost-FDP</th>\n",
       "      <th>Nadezhda-FDP</th>\n",
       "      <th>Hipodrome-FDP</th>\n",
       "      <th>Druzhba-NO2</th>\n",
       "      <th>Pavlovo-NO2</th>\n",
       "      <th>Kopitoto-NO2</th>\n",
       "      <th>Mladost-NO2</th>\n",
       "      <th>Nadezhda-NO2</th>\n",
       "      <th>Hipodrome-NO2</th>\n",
       "    </tr>\n",
       "  </thead>\n",
       "  <tbody>\n",
       "    <tr>\n",
       "      <th>0</th>\n",
       "      <td>2015-01-01 01:00:00</td>\n",
       "      <td>1.09</td>\n",
       "      <td>0.21</td>\n",
       "      <td>0.51</td>\n",
       "      <td>0.87</td>\n",
       "      <td>78.550003</td>\n",
       "      <td>110.010002</td>\n",
       "      <td>13.30</td>\n",
       "      <td>36.880001</td>\n",
       "      <td>95.529999</td>\n",
       "      <td>31.790001</td>\n",
       "      <td>30.660000</td>\n",
       "      <td>39.730000</td>\n",
       "      <td>1.45</td>\n",
       "      <td>6.72</td>\n",
       "      <td>18.750000</td>\n",
       "      <td>18.830000</td>\n",
       "    </tr>\n",
       "    <tr>\n",
       "      <th>1</th>\n",
       "      <td>2015-01-01 02:00:00</td>\n",
       "      <td>1.70</td>\n",
       "      <td>0.23</td>\n",
       "      <td>0.51</td>\n",
       "      <td>1.43</td>\n",
       "      <td>159.850006</td>\n",
       "      <td>206.110001</td>\n",
       "      <td>14.42</td>\n",
       "      <td>36.880001</td>\n",
       "      <td>64.110001</td>\n",
       "      <td>94.589996</td>\n",
       "      <td>27.200001</td>\n",
       "      <td>53.750000</td>\n",
       "      <td>1.75</td>\n",
       "      <td>6.72</td>\n",
       "      <td>15.120000</td>\n",
       "      <td>34.330002</td>\n",
       "    </tr>\n",
       "    <tr>\n",
       "      <th>2</th>\n",
       "      <td>2015-01-01 03:00:00</td>\n",
       "      <td>1.71</td>\n",
       "      <td>0.20</td>\n",
       "      <td>0.51</td>\n",
       "      <td>1.84</td>\n",
       "      <td>100.800003</td>\n",
       "      <td>205.720001</td>\n",
       "      <td>13.44</td>\n",
       "      <td>36.880001</td>\n",
       "      <td>21.530001</td>\n",
       "      <td>98.809998</td>\n",
       "      <td>27.490000</td>\n",
       "      <td>49.349998</td>\n",
       "      <td>1.55</td>\n",
       "      <td>6.72</td>\n",
       "      <td>11.150000</td>\n",
       "      <td>54.430000</td>\n",
       "    </tr>\n",
       "    <tr>\n",
       "      <th>3</th>\n",
       "      <td>2015-01-01 04:00:00</td>\n",
       "      <td>1.96</td>\n",
       "      <td>0.21</td>\n",
       "      <td>0.51</td>\n",
       "      <td>1.75</td>\n",
       "      <td>53.330002</td>\n",
       "      <td>179.009995</td>\n",
       "      <td>12.45</td>\n",
       "      <td>36.880001</td>\n",
       "      <td>11.170000</td>\n",
       "      <td>89.949997</td>\n",
       "      <td>29.549999</td>\n",
       "      <td>56.910000</td>\n",
       "      <td>1.62</td>\n",
       "      <td>6.72</td>\n",
       "      <td>11.500000</td>\n",
       "      <td>52.889999</td>\n",
       "    </tr>\n",
       "    <tr>\n",
       "      <th>4</th>\n",
       "      <td>2015-01-01 05:00:00</td>\n",
       "      <td>1.28</td>\n",
       "      <td>0.24</td>\n",
       "      <td>0.51</td>\n",
       "      <td>1.72</td>\n",
       "      <td>32.930000</td>\n",
       "      <td>86.910004</td>\n",
       "      <td>12.66</td>\n",
       "      <td>36.880001</td>\n",
       "      <td>14.320000</td>\n",
       "      <td>70.260002</td>\n",
       "      <td>13.050000</td>\n",
       "      <td>48.330002</td>\n",
       "      <td>1.48</td>\n",
       "      <td>6.72</td>\n",
       "      <td>20.870001</td>\n",
       "      <td>47.849998</td>\n",
       "    </tr>\n",
       "  </tbody>\n",
       "</table>\n",
       "</div>"
      ],
      "text/plain": [
       "0           Date-Time  Pavlovo-CO  Kopitoto-CO  Mladost-CO  Hipodrome-CO  \\\n",
       "0 2015-01-01 01:00:00        1.09         0.21        0.51          0.87   \n",
       "1 2015-01-01 02:00:00        1.70         0.23        0.51          1.43   \n",
       "2 2015-01-01 03:00:00        1.71         0.20        0.51          1.84   \n",
       "3 2015-01-01 04:00:00        1.96         0.21        0.51          1.75   \n",
       "4 2015-01-01 05:00:00        1.28         0.24        0.51          1.72   \n",
       "\n",
       "0  Druzhba-FDP  Pavlovo-FDP  Kopitoto-FDP  Mladost-FDP  Nadezhda-FDP  \\\n",
       "0    78.550003   110.010002         13.30    36.880001     95.529999   \n",
       "1   159.850006   206.110001         14.42    36.880001     64.110001   \n",
       "2   100.800003   205.720001         13.44    36.880001     21.530001   \n",
       "3    53.330002   179.009995         12.45    36.880001     11.170000   \n",
       "4    32.930000    86.910004         12.66    36.880001     14.320000   \n",
       "\n",
       "0  Hipodrome-FDP  Druzhba-NO2  Pavlovo-NO2  Kopitoto-NO2  Mladost-NO2  \\\n",
       "0      31.790001    30.660000    39.730000          1.45         6.72   \n",
       "1      94.589996    27.200001    53.750000          1.75         6.72   \n",
       "2      98.809998    27.490000    49.349998          1.55         6.72   \n",
       "3      89.949997    29.549999    56.910000          1.62         6.72   \n",
       "4      70.260002    13.050000    48.330002          1.48         6.72   \n",
       "\n",
       "0  Nadezhda-NO2  Hipodrome-NO2  \n",
       "0     18.750000      18.830000  \n",
       "1     15.120000      34.330002  \n",
       "2     11.150000      54.430000  \n",
       "3     11.500000      52.889999  \n",
       "4     20.870001      47.849998  "
      ]
     },
     "execution_count": 52,
     "metadata": {},
     "output_type": "execute_result"
    }
   ],
   "source": [
    "air_quality_df = pd.merge(co_dataset, fdp_dataset, on=\"Date-Time\")\n",
    "air_quality_df = pd.merge(air_quality_df, no2_dataset, on=\"Date-Time\")\n",
    "air_quality_df.head()"
   ]
  },
  {
   "cell_type": "code",
   "execution_count": 53,
   "id": "6246998e",
   "metadata": {},
   "outputs": [
    {
     "data": {
      "text/plain": [
       "(43824, 17)"
      ]
     },
     "execution_count": 53,
     "metadata": {},
     "output_type": "execute_result"
    }
   ],
   "source": [
    "air_quality_df.shape"
   ]
  },
  {
   "cell_type": "code",
   "execution_count": 54,
   "id": "ad9e9033",
   "metadata": {},
   "outputs": [
    {
     "data": {
      "text/html": [
       "<div>\n",
       "<style scoped>\n",
       "    .dataframe tbody tr th:only-of-type {\n",
       "        vertical-align: middle;\n",
       "    }\n",
       "\n",
       "    .dataframe tbody tr th {\n",
       "        vertical-align: top;\n",
       "    }\n",
       "\n",
       "    .dataframe thead th {\n",
       "        text-align: right;\n",
       "    }\n",
       "</style>\n",
       "<table border=\"1\" class=\"dataframe\">\n",
       "  <thead>\n",
       "    <tr style=\"text-align: right;\">\n",
       "      <th></th>\n",
       "      <th>dt</th>\n",
       "      <th>dt_iso</th>\n",
       "      <th>timezone</th>\n",
       "      <th>city_name</th>\n",
       "      <th>lat</th>\n",
       "      <th>lon</th>\n",
       "      <th>temp</th>\n",
       "      <th>feels_like</th>\n",
       "      <th>temp_min</th>\n",
       "      <th>temp_max</th>\n",
       "      <th>...</th>\n",
       "      <th>wind_deg</th>\n",
       "      <th>rain_1h</th>\n",
       "      <th>rain_3h</th>\n",
       "      <th>snow_1h</th>\n",
       "      <th>snow_3h</th>\n",
       "      <th>clouds_all</th>\n",
       "      <th>weather_id</th>\n",
       "      <th>weather_main</th>\n",
       "      <th>weather_description</th>\n",
       "      <th>weather_icon</th>\n",
       "    </tr>\n",
       "  </thead>\n",
       "  <tbody>\n",
       "    <tr>\n",
       "      <th>0</th>\n",
       "      <td>1262304000</td>\n",
       "      <td>2010-01-01 00:00:00 +0000 UTC</td>\n",
       "      <td>7200</td>\n",
       "      <td>Sofia</td>\n",
       "      <td>42.697708</td>\n",
       "      <td>23.321867</td>\n",
       "      <td>5.77</td>\n",
       "      <td>3.05</td>\n",
       "      <td>0.6</td>\n",
       "      <td>10.4</td>\n",
       "      <td>...</td>\n",
       "      <td>130</td>\n",
       "      <td>NaN</td>\n",
       "      <td>NaN</td>\n",
       "      <td>NaN</td>\n",
       "      <td>NaN</td>\n",
       "      <td>0</td>\n",
       "      <td>800</td>\n",
       "      <td>Clear</td>\n",
       "      <td>sky is clear</td>\n",
       "      <td>01n</td>\n",
       "    </tr>\n",
       "    <tr>\n",
       "      <th>1</th>\n",
       "      <td>1262307600</td>\n",
       "      <td>2010-01-01 01:00:00 +0000 UTC</td>\n",
       "      <td>7200</td>\n",
       "      <td>Sofia</td>\n",
       "      <td>42.697708</td>\n",
       "      <td>23.321867</td>\n",
       "      <td>5.34</td>\n",
       "      <td>1.45</td>\n",
       "      <td>0.6</td>\n",
       "      <td>10.4</td>\n",
       "      <td>...</td>\n",
       "      <td>90</td>\n",
       "      <td>NaN</td>\n",
       "      <td>NaN</td>\n",
       "      <td>NaN</td>\n",
       "      <td>NaN</td>\n",
       "      <td>0</td>\n",
       "      <td>800</td>\n",
       "      <td>Clear</td>\n",
       "      <td>sky is clear</td>\n",
       "      <td>01n</td>\n",
       "    </tr>\n",
       "    <tr>\n",
       "      <th>2</th>\n",
       "      <td>1262311200</td>\n",
       "      <td>2010-01-01 02:00:00 +0000 UTC</td>\n",
       "      <td>7200</td>\n",
       "      <td>Sofia</td>\n",
       "      <td>42.697708</td>\n",
       "      <td>23.321867</td>\n",
       "      <td>4.92</td>\n",
       "      <td>0.12</td>\n",
       "      <td>-2.7</td>\n",
       "      <td>11.6</td>\n",
       "      <td>...</td>\n",
       "      <td>0</td>\n",
       "      <td>NaN</td>\n",
       "      <td>NaN</td>\n",
       "      <td>NaN</td>\n",
       "      <td>NaN</td>\n",
       "      <td>0</td>\n",
       "      <td>800</td>\n",
       "      <td>Clear</td>\n",
       "      <td>sky is clear</td>\n",
       "      <td>01n</td>\n",
       "    </tr>\n",
       "    <tr>\n",
       "      <th>3</th>\n",
       "      <td>1262314800</td>\n",
       "      <td>2010-01-01 03:00:00 +0000 UTC</td>\n",
       "      <td>7200</td>\n",
       "      <td>Sofia</td>\n",
       "      <td>42.697708</td>\n",
       "      <td>23.321867</td>\n",
       "      <td>3.82</td>\n",
       "      <td>0.56</td>\n",
       "      <td>-2.7</td>\n",
       "      <td>7.4</td>\n",
       "      <td>...</td>\n",
       "      <td>144</td>\n",
       "      <td>NaN</td>\n",
       "      <td>NaN</td>\n",
       "      <td>NaN</td>\n",
       "      <td>NaN</td>\n",
       "      <td>0</td>\n",
       "      <td>800</td>\n",
       "      <td>Clear</td>\n",
       "      <td>sky is clear</td>\n",
       "      <td>01n</td>\n",
       "    </tr>\n",
       "    <tr>\n",
       "      <th>4</th>\n",
       "      <td>1262318400</td>\n",
       "      <td>2010-01-01 04:00:00 +0000 UTC</td>\n",
       "      <td>7200</td>\n",
       "      <td>Sofia</td>\n",
       "      <td>42.697708</td>\n",
       "      <td>23.321867</td>\n",
       "      <td>5.22</td>\n",
       "      <td>0.90</td>\n",
       "      <td>-2.7</td>\n",
       "      <td>11.6</td>\n",
       "      <td>...</td>\n",
       "      <td>80</td>\n",
       "      <td>NaN</td>\n",
       "      <td>NaN</td>\n",
       "      <td>NaN</td>\n",
       "      <td>NaN</td>\n",
       "      <td>0</td>\n",
       "      <td>800</td>\n",
       "      <td>Clear</td>\n",
       "      <td>sky is clear</td>\n",
       "      <td>01n</td>\n",
       "    </tr>\n",
       "  </tbody>\n",
       "</table>\n",
       "<p>5 rows × 25 columns</p>\n",
       "</div>"
      ],
      "text/plain": [
       "           dt                         dt_iso  timezone city_name        lat  \\\n",
       "0  1262304000  2010-01-01 00:00:00 +0000 UTC      7200     Sofia  42.697708   \n",
       "1  1262307600  2010-01-01 01:00:00 +0000 UTC      7200     Sofia  42.697708   \n",
       "2  1262311200  2010-01-01 02:00:00 +0000 UTC      7200     Sofia  42.697708   \n",
       "3  1262314800  2010-01-01 03:00:00 +0000 UTC      7200     Sofia  42.697708   \n",
       "4  1262318400  2010-01-01 04:00:00 +0000 UTC      7200     Sofia  42.697708   \n",
       "\n",
       "         lon  temp  feels_like  temp_min  temp_max  ...  wind_deg  rain_1h  \\\n",
       "0  23.321867  5.77        3.05       0.6      10.4  ...       130      NaN   \n",
       "1  23.321867  5.34        1.45       0.6      10.4  ...        90      NaN   \n",
       "2  23.321867  4.92        0.12      -2.7      11.6  ...         0      NaN   \n",
       "3  23.321867  3.82        0.56      -2.7       7.4  ...       144      NaN   \n",
       "4  23.321867  5.22        0.90      -2.7      11.6  ...        80      NaN   \n",
       "\n",
       "   rain_3h  snow_1h  snow_3h  clouds_all  weather_id  weather_main  \\\n",
       "0      NaN      NaN      NaN           0         800         Clear   \n",
       "1      NaN      NaN      NaN           0         800         Clear   \n",
       "2      NaN      NaN      NaN           0         800         Clear   \n",
       "3      NaN      NaN      NaN           0         800         Clear   \n",
       "4      NaN      NaN      NaN           0         800         Clear   \n",
       "\n",
       "   weather_description  weather_icon  \n",
       "0         sky is clear           01n  \n",
       "1         sky is clear           01n  \n",
       "2         sky is clear           01n  \n",
       "3         sky is clear           01n  \n",
       "4         sky is clear           01n  \n",
       "\n",
       "[5 rows x 25 columns]"
      ]
     },
     "execution_count": 54,
     "metadata": {},
     "output_type": "execute_result"
    }
   ],
   "source": [
    "#Interesuvat li ni date time\n",
    "\n",
    "#fdp_dataset.head()\n",
    "# Meteorological dataset\n",
    "meteorological_dataset = pd.read_csv('./datasets/Sofia_Weather_History.csv')\n",
    "meteorological_dataset.head()\n"
   ]
  },
  {
   "cell_type": "code",
   "execution_count": 55,
   "id": "2904b064",
   "metadata": {},
   "outputs": [
    {
     "data": {
      "text/plain": [
       "(97263, 25)"
      ]
     },
     "execution_count": 55,
     "metadata": {},
     "output_type": "execute_result"
    }
   ],
   "source": [
    "meteorological_dataset.shape"
   ]
  },
  {
   "cell_type": "code",
   "execution_count": 56,
   "id": "8ccfde01",
   "metadata": {},
   "outputs": [
    {
     "data": {
      "text/plain": [
       "dt                         0\n",
       "dt_iso                     0\n",
       "timezone                   0\n",
       "city_name                  0\n",
       "lat                        0\n",
       "lon                        0\n",
       "temp                       0\n",
       "feels_like                 0\n",
       "temp_min                   0\n",
       "temp_max                   0\n",
       "pressure                   0\n",
       "sea_level              97263\n",
       "grnd_level             97263\n",
       "humidity                   0\n",
       "wind_speed                 0\n",
       "wind_deg                   0\n",
       "rain_1h                90692\n",
       "rain_3h                97263\n",
       "snow_1h                95425\n",
       "snow_3h                97263\n",
       "clouds_all                 0\n",
       "weather_id                 0\n",
       "weather_main               0\n",
       "weather_description        0\n",
       "weather_icon               0\n",
       "dtype: int64"
      ]
     },
     "execution_count": 56,
     "metadata": {},
     "output_type": "execute_result"
    }
   ],
   "source": [
    "meteorological_dataset.isnull().sum()"
   ]
  },
  {
   "cell_type": "code",
   "execution_count": 57,
   "id": "9cd6532e",
   "metadata": {},
   "outputs": [
    {
     "data": {
      "text/html": [
       "<div>\n",
       "<style scoped>\n",
       "    .dataframe tbody tr th:only-of-type {\n",
       "        vertical-align: middle;\n",
       "    }\n",
       "\n",
       "    .dataframe tbody tr th {\n",
       "        vertical-align: top;\n",
       "    }\n",
       "\n",
       "    .dataframe thead th {\n",
       "        text-align: right;\n",
       "    }\n",
       "</style>\n",
       "<table border=\"1\" class=\"dataframe\">\n",
       "  <thead>\n",
       "    <tr style=\"text-align: right;\">\n",
       "      <th></th>\n",
       "      <th>Date-Time</th>\n",
       "      <th>temp</th>\n",
       "      <th>feels_like</th>\n",
       "      <th>temp_min</th>\n",
       "      <th>temp_max</th>\n",
       "      <th>pressure</th>\n",
       "      <th>humidity</th>\n",
       "      <th>wind_speed</th>\n",
       "      <th>wind_deg</th>\n",
       "      <th>clouds_all</th>\n",
       "      <th>weather_main</th>\n",
       "    </tr>\n",
       "  </thead>\n",
       "  <tbody>\n",
       "    <tr>\n",
       "      <th>0</th>\n",
       "      <td>2010-01-01 00:00:00</td>\n",
       "      <td>5.77</td>\n",
       "      <td>3.05</td>\n",
       "      <td>0.6</td>\n",
       "      <td>10.4</td>\n",
       "      <td>1000</td>\n",
       "      <td>64</td>\n",
       "      <td>0.94</td>\n",
       "      <td>130</td>\n",
       "      <td>0</td>\n",
       "      <td>Clear</td>\n",
       "    </tr>\n",
       "    <tr>\n",
       "      <th>1</th>\n",
       "      <td>2010-01-01 01:00:00</td>\n",
       "      <td>5.34</td>\n",
       "      <td>1.45</td>\n",
       "      <td>0.6</td>\n",
       "      <td>10.4</td>\n",
       "      <td>999</td>\n",
       "      <td>75</td>\n",
       "      <td>3.00</td>\n",
       "      <td>90</td>\n",
       "      <td>0</td>\n",
       "      <td>Clear</td>\n",
       "    </tr>\n",
       "    <tr>\n",
       "      <th>2</th>\n",
       "      <td>2010-01-01 02:00:00</td>\n",
       "      <td>4.92</td>\n",
       "      <td>0.12</td>\n",
       "      <td>-2.7</td>\n",
       "      <td>11.6</td>\n",
       "      <td>997</td>\n",
       "      <td>70</td>\n",
       "      <td>4.00</td>\n",
       "      <td>0</td>\n",
       "      <td>0</td>\n",
       "      <td>Clear</td>\n",
       "    </tr>\n",
       "    <tr>\n",
       "      <th>3</th>\n",
       "      <td>2010-01-01 03:00:00</td>\n",
       "      <td>3.82</td>\n",
       "      <td>0.56</td>\n",
       "      <td>-2.7</td>\n",
       "      <td>7.4</td>\n",
       "      <td>996</td>\n",
       "      <td>69</td>\n",
       "      <td>1.55</td>\n",
       "      <td>144</td>\n",
       "      <td>0</td>\n",
       "      <td>Clear</td>\n",
       "    </tr>\n",
       "    <tr>\n",
       "      <th>4</th>\n",
       "      <td>2010-01-01 04:00:00</td>\n",
       "      <td>5.22</td>\n",
       "      <td>0.90</td>\n",
       "      <td>-2.7</td>\n",
       "      <td>11.6</td>\n",
       "      <td>996</td>\n",
       "      <td>61</td>\n",
       "      <td>3.00</td>\n",
       "      <td>80</td>\n",
       "      <td>0</td>\n",
       "      <td>Clear</td>\n",
       "    </tr>\n",
       "  </tbody>\n",
       "</table>\n",
       "</div>"
      ],
      "text/plain": [
       "            Date-Time  temp  feels_like  temp_min  temp_max  pressure  \\\n",
       "0 2010-01-01 00:00:00  5.77        3.05       0.6      10.4      1000   \n",
       "1 2010-01-01 01:00:00  5.34        1.45       0.6      10.4       999   \n",
       "2 2010-01-01 02:00:00  4.92        0.12      -2.7      11.6       997   \n",
       "3 2010-01-01 03:00:00  3.82        0.56      -2.7       7.4       996   \n",
       "4 2010-01-01 04:00:00  5.22        0.90      -2.7      11.6       996   \n",
       "\n",
       "   humidity  wind_speed  wind_deg  clouds_all weather_main  \n",
       "0        64        0.94       130           0        Clear  \n",
       "1        75        3.00        90           0        Clear  \n",
       "2        70        4.00         0           0        Clear  \n",
       "3        69        1.55       144           0        Clear  \n",
       "4        61        3.00        80           0        Clear  "
      ]
     },
     "execution_count": 57,
     "metadata": {},
     "output_type": "execute_result"
    }
   ],
   "source": [
    "meteorological_dataset.drop('sea_level',axis='columns', inplace=True)\n",
    "meteorological_dataset.drop('grnd_level',axis='columns', inplace=True)\n",
    "meteorological_dataset.drop('rain_1h',axis='columns', inplace=True)\n",
    "meteorological_dataset.drop('rain_3h',axis='columns', inplace=True)\n",
    "meteorological_dataset.drop('snow_1h',axis='columns', inplace=True)\n",
    "meteorological_dataset.drop('snow_3h',axis='columns', inplace=True)\n",
    "meteorological_dataset.drop('lon',axis='columns', inplace=True)\n",
    "meteorological_dataset.drop('lat',axis='columns', inplace=True)\n",
    "meteorological_dataset.drop('weather_id',axis='columns', inplace=True)\n",
    "meteorological_dataset.drop('weather_icon',axis='columns', inplace=True)\n",
    "meteorological_dataset.drop('weather_description',axis='columns', inplace=True)\n",
    "meteorological_dataset.drop('timezone',axis='columns', inplace=True)\n",
    "meteorological_dataset.drop('dt_iso',axis='columns', inplace=True)\n",
    "meteorological_dataset.drop('city_name',axis='columns', inplace=True)\n",
    "\n",
    "meteorological_dataset = meteorological_dataset.rename(columns={\"dt\": \"Date-Time\"})\n",
    "meteorological_dataset['Date-Time'] = pd.to_datetime(meteorological_dataset['Date-Time'], unit = 's')\n",
    "meteorological_dataset.head()"
   ]
  },
  {
   "cell_type": "code",
   "execution_count": 58,
   "id": "af0de137",
   "metadata": {},
   "outputs": [
    {
     "data": {
      "text/plain": [
       "807"
      ]
     },
     "execution_count": 58,
     "metadata": {},
     "output_type": "execute_result"
    }
   ],
   "source": [
    "sum(meteorological_dataset['Date-Time'].duplicated())"
   ]
  },
  {
   "cell_type": "code",
   "execution_count": 59,
   "id": "5e73d1b8",
   "metadata": {},
   "outputs": [],
   "source": [
    "meteorological_dataset = meteorological_dataset.drop_duplicates(subset='Date-Time', keep=\"last\")"
   ]
  },
  {
   "cell_type": "code",
   "execution_count": 60,
   "id": "f9421ae2",
   "metadata": {},
   "outputs": [
    {
     "data": {
      "text/plain": [
       "0"
      ]
     },
     "execution_count": 60,
     "metadata": {},
     "output_type": "execute_result"
    }
   ],
   "source": [
    "sum(meteorological_dataset['Date-Time'].duplicated())"
   ]
  },
  {
   "cell_type": "code",
   "execution_count": 61,
   "id": "a25a895d",
   "metadata": {},
   "outputs": [
    {
     "data": {
      "text/plain": [
       "(43824, 23)"
      ]
     },
     "execution_count": 61,
     "metadata": {},
     "output_type": "execute_result"
    }
   ],
   "source": [
    "df_to_merge = meteorological_dataset[['Date-Time', 'temp', 'pressure', 'humidity', 'wind_speed', 'clouds_all', 'weather_main']]\n",
    "air_quality_df = pd.merge(air_quality_df, df_to_merge, on=\"Date-Time\")\n",
    "air_quality_df.shape"
   ]
  },
  {
   "cell_type": "code",
   "execution_count": 62,
   "id": "32b62926",
   "metadata": {},
   "outputs": [
    {
     "data": {
      "text/plain": [
       "(43824, 23)"
      ]
     },
     "execution_count": 62,
     "metadata": {},
     "output_type": "execute_result"
    }
   ],
   "source": [
    "air_quality_df.shape"
   ]
  },
  {
   "cell_type": "code",
   "execution_count": 63,
   "id": "d96838fa",
   "metadata": {},
   "outputs": [
    {
     "data": {
      "text/html": [
       "<div>\n",
       "<style scoped>\n",
       "    .dataframe tbody tr th:only-of-type {\n",
       "        vertical-align: middle;\n",
       "    }\n",
       "\n",
       "    .dataframe tbody tr th {\n",
       "        vertical-align: top;\n",
       "    }\n",
       "\n",
       "    .dataframe thead th {\n",
       "        text-align: right;\n",
       "    }\n",
       "</style>\n",
       "<table border=\"1\" class=\"dataframe\">\n",
       "  <thead>\n",
       "    <tr style=\"text-align: right;\">\n",
       "      <th></th>\n",
       "      <th>Date-Time</th>\n",
       "      <th>Pavlovo-CO</th>\n",
       "      <th>Kopitoto-CO</th>\n",
       "      <th>Mladost-CO</th>\n",
       "      <th>Hipodrome-CO</th>\n",
       "      <th>Pavlovo-FDP</th>\n",
       "      <th>Kopitoto-FDP</th>\n",
       "      <th>Mladost-FDP</th>\n",
       "      <th>Hipodrome-FDP</th>\n",
       "      <th>Pavlovo-NO2</th>\n",
       "      <th>Kopitoto-NO2</th>\n",
       "      <th>Mladost-NO2</th>\n",
       "      <th>Hipodrome-NO2</th>\n",
       "      <th>temp</th>\n",
       "      <th>pressure</th>\n",
       "      <th>humidity</th>\n",
       "      <th>wind_speed</th>\n",
       "      <th>clouds_all</th>\n",
       "      <th>weather_main</th>\n",
       "    </tr>\n",
       "  </thead>\n",
       "  <tbody>\n",
       "    <tr>\n",
       "      <th>0</th>\n",
       "      <td>2015-01-01 01:00:00</td>\n",
       "      <td>1.09</td>\n",
       "      <td>0.21</td>\n",
       "      <td>0.51</td>\n",
       "      <td>0.87</td>\n",
       "      <td>110.010002</td>\n",
       "      <td>13.30</td>\n",
       "      <td>36.880001</td>\n",
       "      <td>31.790001</td>\n",
       "      <td>39.730000</td>\n",
       "      <td>1.45</td>\n",
       "      <td>6.72</td>\n",
       "      <td>18.830000</td>\n",
       "      <td>-16.99</td>\n",
       "      <td>1035</td>\n",
       "      <td>84</td>\n",
       "      <td>40.0</td>\n",
       "      <td>40</td>\n",
       "      <td>Clouds</td>\n",
       "    </tr>\n",
       "    <tr>\n",
       "      <th>1</th>\n",
       "      <td>2015-01-01 02:00:00</td>\n",
       "      <td>1.70</td>\n",
       "      <td>0.23</td>\n",
       "      <td>0.51</td>\n",
       "      <td>1.43</td>\n",
       "      <td>206.110001</td>\n",
       "      <td>14.42</td>\n",
       "      <td>36.880001</td>\n",
       "      <td>94.589996</td>\n",
       "      <td>53.750000</td>\n",
       "      <td>1.75</td>\n",
       "      <td>6.72</td>\n",
       "      <td>34.330002</td>\n",
       "      <td>-17.67</td>\n",
       "      <td>1034</td>\n",
       "      <td>84</td>\n",
       "      <td>40.0</td>\n",
       "      <td>40</td>\n",
       "      <td>Clouds</td>\n",
       "    </tr>\n",
       "    <tr>\n",
       "      <th>2</th>\n",
       "      <td>2015-01-01 03:00:00</td>\n",
       "      <td>1.71</td>\n",
       "      <td>0.20</td>\n",
       "      <td>0.51</td>\n",
       "      <td>1.84</td>\n",
       "      <td>205.720001</td>\n",
       "      <td>13.44</td>\n",
       "      <td>36.880001</td>\n",
       "      <td>98.809998</td>\n",
       "      <td>49.349998</td>\n",
       "      <td>1.55</td>\n",
       "      <td>6.72</td>\n",
       "      <td>54.430000</td>\n",
       "      <td>-17.60</td>\n",
       "      <td>1034</td>\n",
       "      <td>84</td>\n",
       "      <td>40.0</td>\n",
       "      <td>40</td>\n",
       "      <td>Clouds</td>\n",
       "    </tr>\n",
       "    <tr>\n",
       "      <th>3</th>\n",
       "      <td>2015-01-01 04:00:00</td>\n",
       "      <td>1.96</td>\n",
       "      <td>0.21</td>\n",
       "      <td>0.51</td>\n",
       "      <td>1.75</td>\n",
       "      <td>179.009995</td>\n",
       "      <td>12.45</td>\n",
       "      <td>36.880001</td>\n",
       "      <td>89.949997</td>\n",
       "      <td>56.910000</td>\n",
       "      <td>1.62</td>\n",
       "      <td>6.72</td>\n",
       "      <td>52.889999</td>\n",
       "      <td>-17.86</td>\n",
       "      <td>1035</td>\n",
       "      <td>84</td>\n",
       "      <td>40.0</td>\n",
       "      <td>40</td>\n",
       "      <td>Clouds</td>\n",
       "    </tr>\n",
       "    <tr>\n",
       "      <th>4</th>\n",
       "      <td>2015-01-01 05:00:00</td>\n",
       "      <td>1.28</td>\n",
       "      <td>0.24</td>\n",
       "      <td>0.51</td>\n",
       "      <td>1.72</td>\n",
       "      <td>86.910004</td>\n",
       "      <td>12.66</td>\n",
       "      <td>36.880001</td>\n",
       "      <td>70.260002</td>\n",
       "      <td>48.330002</td>\n",
       "      <td>1.48</td>\n",
       "      <td>6.72</td>\n",
       "      <td>47.849998</td>\n",
       "      <td>-16.58</td>\n",
       "      <td>1033</td>\n",
       "      <td>65</td>\n",
       "      <td>3.1</td>\n",
       "      <td>0</td>\n",
       "      <td>Clear</td>\n",
       "    </tr>\n",
       "  </tbody>\n",
       "</table>\n",
       "</div>"
      ],
      "text/plain": [
       "            Date-Time  Pavlovo-CO  Kopitoto-CO  Mladost-CO  Hipodrome-CO  \\\n",
       "0 2015-01-01 01:00:00        1.09         0.21        0.51          0.87   \n",
       "1 2015-01-01 02:00:00        1.70         0.23        0.51          1.43   \n",
       "2 2015-01-01 03:00:00        1.71         0.20        0.51          1.84   \n",
       "3 2015-01-01 04:00:00        1.96         0.21        0.51          1.75   \n",
       "4 2015-01-01 05:00:00        1.28         0.24        0.51          1.72   \n",
       "\n",
       "   Pavlovo-FDP  Kopitoto-FDP  Mladost-FDP  Hipodrome-FDP  Pavlovo-NO2  \\\n",
       "0   110.010002         13.30    36.880001      31.790001    39.730000   \n",
       "1   206.110001         14.42    36.880001      94.589996    53.750000   \n",
       "2   205.720001         13.44    36.880001      98.809998    49.349998   \n",
       "3   179.009995         12.45    36.880001      89.949997    56.910000   \n",
       "4    86.910004         12.66    36.880001      70.260002    48.330002   \n",
       "\n",
       "   Kopitoto-NO2  Mladost-NO2  Hipodrome-NO2   temp  pressure  humidity  \\\n",
       "0          1.45         6.72      18.830000 -16.99      1035        84   \n",
       "1          1.75         6.72      34.330002 -17.67      1034        84   \n",
       "2          1.55         6.72      54.430000 -17.60      1034        84   \n",
       "3          1.62         6.72      52.889999 -17.86      1035        84   \n",
       "4          1.48         6.72      47.849998 -16.58      1033        65   \n",
       "\n",
       "   wind_speed  clouds_all weather_main  \n",
       "0        40.0          40       Clouds  \n",
       "1        40.0          40       Clouds  \n",
       "2        40.0          40       Clouds  \n",
       "3        40.0          40       Clouds  \n",
       "4         3.1           0        Clear  "
      ]
     },
     "execution_count": 63,
     "metadata": {},
     "output_type": "execute_result"
    }
   ],
   "source": [
    "# Тък като нямаме данни за въглероден оксид за надежда и дружба ще махнем тези записи\n",
    "air_quality_df.drop('Druzhba-FDP', axis='columns', inplace=True)\n",
    "air_quality_df.drop('Nadezhda-FDP', axis='columns', inplace=True)\n",
    "air_quality_df.drop('Druzhba-NO2', axis='columns', inplace=True)\n",
    "air_quality_df.drop('Nadezhda-NO2', axis='columns', inplace=True)\n",
    "\n",
    "air_quality_df.head()"
   ]
  },
  {
   "cell_type": "code",
   "execution_count": 64,
   "id": "8fe46b79",
   "metadata": {},
   "outputs": [],
   "source": [
    "air_quality_df.to_csv('./datasets/clean-air-quality.csv', index = False)"
   ]
  },
  {
   "cell_type": "code",
   "execution_count": 70,
   "id": "546785d8",
   "metadata": {},
   "outputs": [
    {
     "data": {
      "text/plain": [
       "<AxesSubplot:xlabel='Date-Time'>"
      ]
     },
     "execution_count": 70,
     "metadata": {},
     "output_type": "execute_result"
    },
    {
     "data": {
      "image/png": "[encoded data removed]",
      "text/plain": [
       "<Figure size 432x288 with 1 Axes>"
      ]
     },
     "metadata": {
      "needs_background": "light"
     },
     "output_type": "display_data"
    }
   ],
   "source": [
    "date_indexed_air_quality = air_quality_df.set_index('Date-Time')\n",
    "date_indexed_air_quality['Mladost-CO'].plot()"
   ]
  },
  {
   "cell_type": "code",
   "execution_count": 73,
   "id": "008ceb0f",
   "metadata": {},
   "outputs": [
    {
     "data": {
      "text/plain": [
       "<AxesSubplot:xlabel='Date-Time'>"
      ]
     },
     "execution_count": 73,
     "metadata": {},
     "output_type": "execute_result"
    },
    {
     "data": {
      "image/png": "[encoded data removed]",
      "text/plain": [
       "<Figure size 432x288 with 1 Axes>"
      ]
     },
     "metadata": {
      "needs_background": "light"
     },
     "output_type": "display_data"
    }
   ],
   "source": [
    "# use moving average\n",
    "date_indexed_air_quality['Mladost-CO'].rolling(365).mean().plot()"
   ]
  },
  {
   "cell_type": "code",
   "execution_count": 79,
   "id": "9a1a74b4",
   "metadata": {},
   "outputs": [
    {
     "data": {
      "text/plain": [
       "<AxesSubplot:xlabel='Date-Time'>"
      ]
     },
     "execution_count": 79,
     "metadata": {},
     "output_type": "execute_result"
    },
    {
     "data": {
      "image/png": "[encoded data removed]",
      "text/plain": [
       "<Figure size 432x288 with 1 Axes>"
      ]
     },
     "metadata": {
      "needs_background": "light"
     },
     "output_type": "display_data"
    }
   ],
   "source": [
    "date_indexed_air_quality['Mladost-FDP'].rolling(365).mean().plot()"
   ]
  },
  {
   "cell_type": "code",
   "execution_count": 77,
   "id": "918b5ec0",
   "metadata": {},
   "outputs": [
    {
     "data": {
      "text/plain": [
       "<AxesSubplot:xlabel='Date-Time'>"
      ]
     },
     "execution_count": 77,
     "metadata": {},
     "output_type": "execute_result"
    },
    {
     "data": {
      "image/png": "[encoded data removed]",
      "text/plain": [
       "<Figure size 432x288 with 1 Axes>"
      ]
     },
     "metadata": {
      "needs_background": "light"
     },
     "output_type": "display_data"
    }
   ],
   "source": [
    "date_indexed_air_quality['Mladost-NO2'].rolling(365).mean().plot()"
   ]
  },
  {
   "cell_type": "code",
   "execution_count": null,
   "id": "ac48fa1a",
   "metadata": {},
   "outputs": [],
   "source": [
    "# As we see there is no relevant data for Mladost emissons in 2015\n",
    "#Either delete 2015 entries or just drop MLadost Data"
   ]
  },
  {
   "cell_type": "code",
   "execution_count": null,
   "id": "39b1a6d2",
   "metadata": {},
   "outputs": [],
   "source": []
  },
  {
   "cell_type": "code",
   "execution_count": null,
   "id": "4c2239e2",
   "metadata": {},
   "outputs": [],
   "source": []
  },
  {
   "cell_type": "code",
   "execution_count": null,
   "id": "e7f383b7",
   "metadata": {},
   "outputs": [],
   "source": []
  },
  {
   "cell_type": "code",
   "execution_count": null,
   "id": "2d65caad",
   "metadata": {},
   "outputs": [],
   "source": []
  },
  {
   "cell_type": "code",
   "execution_count": null,
   "id": "ac872ad1",
   "metadata": {},
   "outputs": [],
   "source": []
  },
  {
   "cell_type": "code",
   "execution_count": 51,
   "id": "ce833caa",
   "metadata": {},
   "outputs": [
    {
     "ename": "KeyError",
     "evalue": "'Date-Time'",
     "output_type": "error",
     "traceback": [
      "\u001b[0;31m---------------------------------------------------------------------------\u001b[0m",
      "\u001b[0;31mKeyError\u001b[0m                                  Traceback (most recent call last)",
      "File \u001b[0;32m/usr/local/lib/python3.9/site-packages/pandas/core/indexes/base.py:3621\u001b[0m, in \u001b[0;36mIndex.get_loc\u001b[0;34m(self, key, method, tolerance)\u001b[0m\n\u001b[1;32m   3620\u001b[0m \u001b[38;5;28;01mtry\u001b[39;00m:\n\u001b[0;32m-> 3621\u001b[0m     \u001b[38;5;28;01mreturn\u001b[39;00m \u001b[38;5;28;43mself\u001b[39;49m\u001b[38;5;241;43m.\u001b[39;49m\u001b[43m_engine\u001b[49m\u001b[38;5;241;43m.\u001b[39;49m\u001b[43mget_loc\u001b[49m\u001b[43m(\u001b[49m\u001b[43mcasted_key\u001b[49m\u001b[43m)\u001b[49m\n\u001b[1;32m   3622\u001b[0m \u001b[38;5;28;01mexcept\u001b[39;00m \u001b[38;5;167;01mKeyError\u001b[39;00m \u001b[38;5;28;01mas\u001b[39;00m err:\n",
      "File \u001b[0;32m/usr/local/lib/python3.9/site-packages/pandas/_libs/index.pyx:136\u001b[0m, in \u001b[0;36mpandas._libs.index.IndexEngine.get_loc\u001b[0;34m()\u001b[0m\n",
      "File \u001b[0;32m/usr/local/lib/python3.9/site-packages/pandas/_libs/index.pyx:163\u001b[0m, in \u001b[0;36mpandas._libs.index.IndexEngine.get_loc\u001b[0;34m()\u001b[0m\n",
      "File \u001b[0;32mpandas/_libs/hashtable_class_helper.pxi:5198\u001b[0m, in \u001b[0;36mpandas._libs.hashtable.PyObjectHashTable.get_item\u001b[0;34m()\u001b[0m\n",
      "File \u001b[0;32mpandas/_libs/hashtable_class_helper.pxi:5206\u001b[0m, in \u001b[0;36mpandas._libs.hashtable.PyObjectHashTable.get_item\u001b[0;34m()\u001b[0m\n",
      "\u001b[0;31mKeyError\u001b[0m: 'Date-Time'",
      "\nThe above exception was the direct cause of the following exception:\n",
      "\u001b[0;31mKeyError\u001b[0m                                  Traceback (most recent call last)",
      "Input \u001b[0;32mIn [51]\u001b[0m, in \u001b[0;36m<module>\u001b[0;34m\u001b[0m\n\u001b[0;32m----> 1\u001b[0m \u001b[43mair_quality_df\u001b[49m\u001b[43m[\u001b[49m\u001b[38;5;124;43m'\u001b[39;49m\u001b[38;5;124;43mDate-Time\u001b[39;49m\u001b[38;5;124;43m'\u001b[39;49m\u001b[43m]\u001b[49m\u001b[38;5;241m.\u001b[39mhead()\n",
      "File \u001b[0;32m/usr/local/lib/python3.9/site-packages/pandas/core/frame.py:3506\u001b[0m, in \u001b[0;36mDataFrame.__getitem__\u001b[0;34m(self, key)\u001b[0m\n\u001b[1;32m   3504\u001b[0m \u001b[38;5;28;01mif\u001b[39;00m \u001b[38;5;28mself\u001b[39m\u001b[38;5;241m.\u001b[39mcolumns\u001b[38;5;241m.\u001b[39mnlevels \u001b[38;5;241m>\u001b[39m \u001b[38;5;241m1\u001b[39m:\n\u001b[1;32m   3505\u001b[0m     \u001b[38;5;28;01mreturn\u001b[39;00m \u001b[38;5;28mself\u001b[39m\u001b[38;5;241m.\u001b[39m_getitem_multilevel(key)\n\u001b[0;32m-> 3506\u001b[0m indexer \u001b[38;5;241m=\u001b[39m \u001b[38;5;28;43mself\u001b[39;49m\u001b[38;5;241;43m.\u001b[39;49m\u001b[43mcolumns\u001b[49m\u001b[38;5;241;43m.\u001b[39;49m\u001b[43mget_loc\u001b[49m\u001b[43m(\u001b[49m\u001b[43mkey\u001b[49m\u001b[43m)\u001b[49m\n\u001b[1;32m   3507\u001b[0m \u001b[38;5;28;01mif\u001b[39;00m is_integer(indexer):\n\u001b[1;32m   3508\u001b[0m     indexer \u001b[38;5;241m=\u001b[39m [indexer]\n",
      "File \u001b[0;32m/usr/local/lib/python3.9/site-packages/pandas/core/indexes/base.py:3623\u001b[0m, in \u001b[0;36mIndex.get_loc\u001b[0;34m(self, key, method, tolerance)\u001b[0m\n\u001b[1;32m   3621\u001b[0m     \u001b[38;5;28;01mreturn\u001b[39;00m \u001b[38;5;28mself\u001b[39m\u001b[38;5;241m.\u001b[39m_engine\u001b[38;5;241m.\u001b[39mget_loc(casted_key)\n\u001b[1;32m   3622\u001b[0m \u001b[38;5;28;01mexcept\u001b[39;00m \u001b[38;5;167;01mKeyError\u001b[39;00m \u001b[38;5;28;01mas\u001b[39;00m err:\n\u001b[0;32m-> 3623\u001b[0m     \u001b[38;5;28;01mraise\u001b[39;00m \u001b[38;5;167;01mKeyError\u001b[39;00m(key) \u001b[38;5;28;01mfrom\u001b[39;00m \u001b[38;5;21;01merr\u001b[39;00m\n\u001b[1;32m   3624\u001b[0m \u001b[38;5;28;01mexcept\u001b[39;00m \u001b[38;5;167;01mTypeError\u001b[39;00m:\n\u001b[1;32m   3625\u001b[0m     \u001b[38;5;66;03m# If we have a listlike key, _check_indexing_error will raise\u001b[39;00m\n\u001b[1;32m   3626\u001b[0m     \u001b[38;5;66;03m#  InvalidIndexError. Otherwise we fall through and re-raise\u001b[39;00m\n\u001b[1;32m   3627\u001b[0m     \u001b[38;5;66;03m#  the TypeError.\u001b[39;00m\n\u001b[1;32m   3628\u001b[0m     \u001b[38;5;28mself\u001b[39m\u001b[38;5;241m.\u001b[39m_check_indexing_error(key)\n",
      "\u001b[0;31mKeyError\u001b[0m: 'Date-Time'"
     ]
    }
   ],
   "source": [
    "air_quality_df['Date-Time'].head()"
   ]
  },
  {
   "cell_type": "code",
   "execution_count": 399,
   "id": "5ddc01b7",
   "metadata": {},
   "outputs": [
    {
     "data": {
      "text/plain": [
       "[Text(0, 0, 'Pavlovo'),\n",
       " Text(1, 0, 'Kopitoto'),\n",
       " Text(2, 0, 'Mladost'),\n",
       " Text(3, 0, 'Hipodrome')]"
      ]
     },
     "execution_count": 399,
     "metadata": {},
     "output_type": "execute_result"
    },
    {
     "data": {
      "image/png": "[encoded data removed]",
      "text/plain": [
       "<Figure size 720x576 with 1 Axes>"
      ]
     },
     "metadata": {
      "needs_background": "light"
     },
     "output_type": "display_data"
    }
   ],
   "source": [
    "# Cleanup DONE\n",
    "#TODO: Process data\n",
    "#      Analyze data\n",
    "\n",
    "co_measures = co_dataset[[\"Pavlovo\", 'Kopitoto', 'Mladost', 'Hipodrome']]\n",
    "fdp_measures = fdp_dataset[[\"Pavlovo\", 'Kopitoto', 'Mladost', 'Hipodrome', 'Druzhba', 'Nadezhda']]\n",
    "\n",
    "fig, ax=plt.subplots(figsize=(10,8))\n",
    "bp = sns.boxplot(data = co_measures)\n",
    "bp.set_xticklabels(bp.get_xticklabels(), rotation = 90)"
   ]
  },
  {
   "cell_type": "code",
   "execution_count": 400,
   "id": "9baf1c95",
   "metadata": {},
   "outputs": [
    {
     "data": {
      "text/plain": [
       "[Text(0, 0, 'Pavlovo'),\n",
       " Text(1, 0, 'Kopitoto'),\n",
       " Text(2, 0, 'Mladost'),\n",
       " Text(3, 0, 'Hipodrome'),\n",
       " Text(4, 0, 'Druzhba'),\n",
       " Text(5, 0, 'Nadezhda')]"
      ]
     },
     "execution_count": 400,
     "metadata": {},
     "output_type": "execute_result"
    },
    {
     "data": {
      "image/png": "[encoded data removed]",
      "text/plain": [
       "<Figure size 720x576 with 1 Axes>"
      ]
     },
     "metadata": {
      "needs_background": "light"
     },
     "output_type": "display_data"
    }
   ],
   "source": [
    "fig, ax=plt.subplots(figsize=(10,8))\n",
    "bp = sns.boxplot(data = fdp_measures)\n",
    "bp.set_xticklabels(bp.get_xticklabels(), rotation = 90)"
   ]
  },
  {
   "cell_type": "code",
   "execution_count": 401,
   "id": "87075e91",
   "metadata": {},
   "outputs": [
    {
     "data": {
      "text/html": [
       "<div>\n",
       "<style scoped>\n",
       "    .dataframe tbody tr th:only-of-type {\n",
       "        vertical-align: middle;\n",
       "    }\n",
       "\n",
       "    .dataframe tbody tr th {\n",
       "        vertical-align: top;\n",
       "    }\n",
       "\n",
       "    .dataframe thead th {\n",
       "        text-align: right;\n",
       "    }\n",
       "</style>\n",
       "<table border=\"1\" class=\"dataframe\">\n",
       "  <thead>\n",
       "    <tr style=\"text-align: right;\">\n",
       "      <th></th>\n",
       "      <th>Pavlovo</th>\n",
       "      <th>Kopitoto</th>\n",
       "      <th>Mladost</th>\n",
       "      <th>Hipodrome</th>\n",
       "    </tr>\n",
       "  </thead>\n",
       "  <tbody>\n",
       "    <tr>\n",
       "      <th>0</th>\n",
       "      <td>0.727569</td>\n",
       "      <td>-0.578410</td>\n",
       "      <td>-0.163685</td>\n",
       "      <td>0.368238</td>\n",
       "    </tr>\n",
       "    <tr>\n",
       "      <th>1</th>\n",
       "      <td>1.755446</td>\n",
       "      <td>-0.479434</td>\n",
       "      <td>-0.163685</td>\n",
       "      <td>1.241833</td>\n",
       "    </tr>\n",
       "    <tr>\n",
       "      <th>2</th>\n",
       "      <td>1.772296</td>\n",
       "      <td>-0.627898</td>\n",
       "      <td>-0.163685</td>\n",
       "      <td>1.881430</td>\n",
       "    </tr>\n",
       "    <tr>\n",
       "      <th>3</th>\n",
       "      <td>2.193557</td>\n",
       "      <td>-0.578410</td>\n",
       "      <td>-0.163685</td>\n",
       "      <td>1.741031</td>\n",
       "    </tr>\n",
       "    <tr>\n",
       "      <th>4</th>\n",
       "      <td>1.047727</td>\n",
       "      <td>-0.429947</td>\n",
       "      <td>-0.163685</td>\n",
       "      <td>1.694231</td>\n",
       "    </tr>\n",
       "  </tbody>\n",
       "</table>\n",
       "</div>"
      ],
      "text/plain": [
       "0   Pavlovo  Kopitoto   Mladost  Hipodrome\n",
       "0  0.727569 -0.578410 -0.163685   0.368238\n",
       "1  1.755446 -0.479434 -0.163685   1.241833\n",
       "2  1.772296 -0.627898 -0.163685   1.881430\n",
       "3  2.193557 -0.578410 -0.163685   1.741031\n",
       "4  1.047727 -0.429947 -0.163685   1.694231"
      ]
     },
     "execution_count": 401,
     "metadata": {},
     "output_type": "execute_result"
    }
   ],
   "source": [
    "scaled_co_measures = scaler.fit_transform(co_measures)\n",
    "scaled_fdp_measures = scaler.fit_transform(fdp_measures)\n",
    "\n",
    "scaled_co_data =pd.DataFrame(scaled_co_measures, columns = co_measures.columns)\n",
    "scaled_fdp_data =pd.DataFrame(scaled_fdp_measures, columns = fdp_measures.columns)\n",
    "\n",
    "scaled_co_data.head()"
   ]
  },
  {
   "cell_type": "code",
   "execution_count": 402,
   "id": "dab6308f",
   "metadata": {},
   "outputs": [
    {
     "data": {
      "text/html": [
       "<div>\n",
       "<style scoped>\n",
       "    .dataframe tbody tr th:only-of-type {\n",
       "        vertical-align: middle;\n",
       "    }\n",
       "\n",
       "    .dataframe tbody tr th {\n",
       "        vertical-align: top;\n",
       "    }\n",
       "\n",
       "    .dataframe thead th {\n",
       "        text-align: right;\n",
       "    }\n",
       "</style>\n",
       "<table border=\"1\" class=\"dataframe\">\n",
       "  <thead>\n",
       "    <tr style=\"text-align: right;\">\n",
       "      <th></th>\n",
       "      <th>Pavlovo</th>\n",
       "      <th>Kopitoto</th>\n",
       "      <th>Mladost</th>\n",
       "      <th>Hipodrome</th>\n",
       "      <th>Druzhba</th>\n",
       "      <th>Nadezhda</th>\n",
       "    </tr>\n",
       "  </thead>\n",
       "  <tbody>\n",
       "    <tr>\n",
       "      <th>0</th>\n",
       "      <td>1.712591</td>\n",
       "      <td>-0.190866</td>\n",
       "      <td>0.069035</td>\n",
       "      <td>-0.166107</td>\n",
       "      <td>1.310458</td>\n",
       "      <td>1.208685</td>\n",
       "    </tr>\n",
       "    <tr>\n",
       "      <th>1</th>\n",
       "      <td>4.018960</td>\n",
       "      <td>-0.105507</td>\n",
       "      <td>0.069035</td>\n",
       "      <td>1.224238</td>\n",
       "      <td>3.648155</td>\n",
       "      <td>0.501434</td>\n",
       "    </tr>\n",
       "    <tr>\n",
       "      <th>2</th>\n",
       "      <td>4.009600</td>\n",
       "      <td>-0.180196</td>\n",
       "      <td>0.069035</td>\n",
       "      <td>1.317665</td>\n",
       "      <td>1.950234</td>\n",
       "      <td>-0.457025</td>\n",
       "    </tr>\n",
       "    <tr>\n",
       "      <th>3</th>\n",
       "      <td>3.368569</td>\n",
       "      <td>-0.255647</td>\n",
       "      <td>0.069035</td>\n",
       "      <td>1.121512</td>\n",
       "      <td>0.585283</td>\n",
       "      <td>-0.690224</td>\n",
       "    </tr>\n",
       "    <tr>\n",
       "      <th>4</th>\n",
       "      <td>1.158198</td>\n",
       "      <td>-0.239642</td>\n",
       "      <td>0.069035</td>\n",
       "      <td>0.685590</td>\n",
       "      <td>-0.001298</td>\n",
       "      <td>-0.619319</td>\n",
       "    </tr>\n",
       "  </tbody>\n",
       "</table>\n",
       "</div>"
      ],
      "text/plain": [
       "0   Pavlovo  Kopitoto   Mladost  Hipodrome   Druzhba  Nadezhda\n",
       "0  1.712591 -0.190866  0.069035  -0.166107  1.310458  1.208685\n",
       "1  4.018960 -0.105507  0.069035   1.224238  3.648155  0.501434\n",
       "2  4.009600 -0.180196  0.069035   1.317665  1.950234 -0.457025\n",
       "3  3.368569 -0.255647  0.069035   1.121512  0.585283 -0.690224\n",
       "4  1.158198 -0.239642  0.069035   0.685590 -0.001298 -0.619319"
      ]
     },
     "execution_count": 402,
     "metadata": {},
     "output_type": "execute_result"
    }
   ],
   "source": [
    "scaled_fdp_data.head()"
   ]
  },
  {
   "cell_type": "code",
   "execution_count": 403,
   "id": "91559d9e",
   "metadata": {},
   "outputs": [
    {
     "data": {
      "text/html": [
       "<div>\n",
       "<style scoped>\n",
       "    .dataframe tbody tr th:only-of-type {\n",
       "        vertical-align: middle;\n",
       "    }\n",
       "\n",
       "    .dataframe tbody tr th {\n",
       "        vertical-align: top;\n",
       "    }\n",
       "\n",
       "    .dataframe thead th {\n",
       "        text-align: right;\n",
       "    }\n",
       "</style>\n",
       "<table border=\"1\" class=\"dataframe\">\n",
       "  <thead>\n",
       "    <tr style=\"text-align: right;\">\n",
       "      <th></th>\n",
       "      <th>Pavlovo</th>\n",
       "      <th>Kopitoto</th>\n",
       "      <th>Mladost</th>\n",
       "      <th>Hipodrome</th>\n",
       "    </tr>\n",
       "  </thead>\n",
       "  <tbody>\n",
       "    <tr>\n",
       "      <th>count</th>\n",
       "      <td>4.382400e+04</td>\n",
       "      <td>4.382400e+04</td>\n",
       "      <td>4.382400e+04</td>\n",
       "      <td>43824.000000</td>\n",
       "    </tr>\n",
       "    <tr>\n",
       "      <th>mean</th>\n",
       "      <td>6.963668e-09</td>\n",
       "      <td>-5.570934e-09</td>\n",
       "      <td>1.392734e-08</td>\n",
       "      <td>0.000000</td>\n",
       "    </tr>\n",
       "    <tr>\n",
       "      <th>std</th>\n",
       "      <td>1.000011e+00</td>\n",
       "      <td>1.000011e+00</td>\n",
       "      <td>1.000011e+00</td>\n",
       "      <td>1.000011</td>\n",
       "    </tr>\n",
       "    <tr>\n",
       "      <th>min</th>\n",
       "      <td>-1.345034e+00</td>\n",
       "      <td>-2.805361e+00</td>\n",
       "      <td>-1.245135e+00</td>\n",
       "      <td>-0.988955</td>\n",
       "    </tr>\n",
       "    <tr>\n",
       "      <th>25%</th>\n",
       "      <td>-5.193627e-01</td>\n",
       "      <td>-6.773856e-01</td>\n",
       "      <td>-5.241683e-01</td>\n",
       "      <td>-0.520958</td>\n",
       "    </tr>\n",
       "    <tr>\n",
       "      <th>50%</th>\n",
       "      <td>-3.171575e-01</td>\n",
       "      <td>-1.330198e-01</td>\n",
       "      <td>-1.636852e-01</td>\n",
       "      <td>-0.286959</td>\n",
       "    </tr>\n",
       "    <tr>\n",
       "      <th>75%</th>\n",
       "      <td>8.725278e-02</td>\n",
       "      <td>6.092969e-01</td>\n",
       "      <td>1.331833e-01</td>\n",
       "      <td>0.118639</td>\n",
       "    </tr>\n",
       "    <tr>\n",
       "      <th>max</th>\n",
       "      <td>1.085468e+01</td>\n",
       "      <td>1.055634e+01</td>\n",
       "      <td>1.207154e+01</td>\n",
       "      <td>11.428580</td>\n",
       "    </tr>\n",
       "  </tbody>\n",
       "</table>\n",
       "</div>"
      ],
      "text/plain": [
       "0           Pavlovo      Kopitoto       Mladost     Hipodrome\n",
       "count  4.382400e+04  4.382400e+04  4.382400e+04  43824.000000\n",
       "mean   6.963668e-09 -5.570934e-09  1.392734e-08      0.000000\n",
       "std    1.000011e+00  1.000011e+00  1.000011e+00      1.000011\n",
       "min   -1.345034e+00 -2.805361e+00 -1.245135e+00     -0.988955\n",
       "25%   -5.193627e-01 -6.773856e-01 -5.241683e-01     -0.520958\n",
       "50%   -3.171575e-01 -1.330198e-01 -1.636852e-01     -0.286959\n",
       "75%    8.725278e-02  6.092969e-01  1.331833e-01      0.118639\n",
       "max    1.085468e+01  1.055634e+01  1.207154e+01     11.428580"
      ]
     },
     "execution_count": 403,
     "metadata": {},
     "output_type": "execute_result"
    }
   ],
   "source": [
    "scaled_co_data.describe()"
   ]
  },
  {
   "cell_type": "code",
   "execution_count": 404,
   "id": "e8cafd27",
   "metadata": {},
   "outputs": [
    {
     "data": {
      "text/html": [
       "<div>\n",
       "<style scoped>\n",
       "    .dataframe tbody tr th:only-of-type {\n",
       "        vertical-align: middle;\n",
       "    }\n",
       "\n",
       "    .dataframe tbody tr th {\n",
       "        vertical-align: top;\n",
       "    }\n",
       "\n",
       "    .dataframe thead th {\n",
       "        text-align: right;\n",
       "    }\n",
       "</style>\n",
       "<table border=\"1\" class=\"dataframe\">\n",
       "  <thead>\n",
       "    <tr style=\"text-align: right;\">\n",
       "      <th></th>\n",
       "      <th>Pavlovo</th>\n",
       "      <th>Kopitoto</th>\n",
       "      <th>Mladost</th>\n",
       "      <th>Hipodrome</th>\n",
       "      <th>Druzhba</th>\n",
       "      <th>Nadezhda</th>\n",
       "    </tr>\n",
       "  </thead>\n",
       "  <tbody>\n",
       "    <tr>\n",
       "      <th>count</th>\n",
       "      <td>4.382400e+04</td>\n",
       "      <td>4.382400e+04</td>\n",
       "      <td>4.382400e+04</td>\n",
       "      <td>4.382400e+04</td>\n",
       "      <td>4.382400e+04</td>\n",
       "      <td>4.382400e+04</td>\n",
       "    </tr>\n",
       "    <tr>\n",
       "      <th>mean</th>\n",
       "      <td>2.089100e-09</td>\n",
       "      <td>-6.963668e-10</td>\n",
       "      <td>3.133650e-09</td>\n",
       "      <td>-2.089100e-09</td>\n",
       "      <td>2.785467e-09</td>\n",
       "      <td>-1.183824e-08</td>\n",
       "    </tr>\n",
       "    <tr>\n",
       "      <th>std</th>\n",
       "      <td>1.000011e+00</td>\n",
       "      <td>1.000011e+00</td>\n",
       "      <td>1.000011e+00</td>\n",
       "      <td>1.000011e+00</td>\n",
       "      <td>1.000011e+00</td>\n",
       "      <td>1.000011e+00</td>\n",
       "    </tr>\n",
       "    <tr>\n",
       "      <th>min</th>\n",
       "      <td>-1.124892e+00</td>\n",
       "      <td>-1.526883e+00</td>\n",
       "      <td>-1.133089e+00</td>\n",
       "      <td>-8.603935e-01</td>\n",
       "      <td>-8.808824e-01</td>\n",
       "      <td>-9.349035e-01</td>\n",
       "    </tr>\n",
       "    <tr>\n",
       "      <th>25%</th>\n",
       "      <td>-5.193797e-01</td>\n",
       "      <td>-6.727238e-01</td>\n",
       "      <td>-5.020729e-01</td>\n",
       "      <td>-4.798199e-01</td>\n",
       "      <td>-5.297964e-01</td>\n",
       "      <td>-5.718800e-01</td>\n",
       "    </tr>\n",
       "    <tr>\n",
       "      <th>50%</th>\n",
       "      <td>-2.592231e-01</td>\n",
       "      <td>-1.801960e-01</td>\n",
       "      <td>-1.620416e-01</td>\n",
       "      <td>-2.721538e-01</td>\n",
       "      <td>-2.783429e-01</td>\n",
       "      <td>-2.852766e-01</td>\n",
       "    </tr>\n",
       "    <tr>\n",
       "      <th>75%</th>\n",
       "      <td>1.182919e-01</td>\n",
       "      <td>4.478010e-01</td>\n",
       "      <td>6.903487e-02</td>\n",
       "      <td>5.373593e-02</td>\n",
       "      <td>1.433340e-01</td>\n",
       "      <td>1.460073e-01</td>\n",
       "    </tr>\n",
       "    <tr>\n",
       "      <th>max</th>\n",
       "      <td>1.234685e+01</td>\n",
       "      <td>2.690827e+01</td>\n",
       "      <td>1.476609e+01</td>\n",
       "      <td>1.439842e+01</td>\n",
       "      <td>1.938664e+01</td>\n",
       "      <td>1.317771e+01</td>\n",
       "    </tr>\n",
       "  </tbody>\n",
       "</table>\n",
       "</div>"
      ],
      "text/plain": [
       "0           Pavlovo      Kopitoto       Mladost     Hipodrome       Druzhba  \\\n",
       "count  4.382400e+04  4.382400e+04  4.382400e+04  4.382400e+04  4.382400e+04   \n",
       "mean   2.089100e-09 -6.963668e-10  3.133650e-09 -2.089100e-09  2.785467e-09   \n",
       "std    1.000011e+00  1.000011e+00  1.000011e+00  1.000011e+00  1.000011e+00   \n",
       "min   -1.124892e+00 -1.526883e+00 -1.133089e+00 -8.603935e-01 -8.808824e-01   \n",
       "25%   -5.193797e-01 -6.727238e-01 -5.020729e-01 -4.798199e-01 -5.297964e-01   \n",
       "50%   -2.592231e-01 -1.801960e-01 -1.620416e-01 -2.721538e-01 -2.783429e-01   \n",
       "75%    1.182919e-01  4.478010e-01  6.903487e-02  5.373593e-02  1.433340e-01   \n",
       "max    1.234685e+01  2.690827e+01  1.476609e+01  1.439842e+01  1.938664e+01   \n",
       "\n",
       "0          Nadezhda  \n",
       "count  4.382400e+04  \n",
       "mean  -1.183824e-08  \n",
       "std    1.000011e+00  \n",
       "min   -9.349035e-01  \n",
       "25%   -5.718800e-01  \n",
       "50%   -2.852766e-01  \n",
       "75%    1.460073e-01  \n",
       "max    1.317771e+01  "
      ]
     },
     "execution_count": 404,
     "metadata": {},
     "output_type": "execute_result"
    }
   ],
   "source": [
    "scaled_fdp_data.describe()"
   ]
  },
  {
   "cell_type": "code",
   "execution_count": 405,
   "id": "b6884245",
   "metadata": {},
   "outputs": [
    {
     "data": {
      "text/plain": [
       "[Text(0, 0, 'Pavlovo'),\n",
       " Text(1, 0, 'Kopitoto'),\n",
       " Text(2, 0, 'Mladost'),\n",
       " Text(3, 0, 'Hipodrome')]"
      ]
     },
     "execution_count": 405,
     "metadata": {},
     "output_type": "execute_result"
    },
    {
     "data": {
      "image/png": "[encoded data removed]",
      "text/plain": [
       "<Figure size 720x576 with 1 Axes>"
      ]
     },
     "metadata": {
      "needs_background": "light"
     },
     "output_type": "display_data"
    }
   ],
   "source": [
    "fig, ax=plt.subplots(figsize=(10,8))\n",
    "bp = sns.boxplot(data = scaled_co_data)\n",
    "bp.set_xticklabels(bp.get_xticklabels(), rotation = 90)"
   ]
  },
  {
   "cell_type": "code",
   "execution_count": 406,
   "id": "6e974e36",
   "metadata": {},
   "outputs": [
    {
     "data": {
      "text/plain": [
       "[Text(0, 0, 'Pavlovo'),\n",
       " Text(1, 0, 'Kopitoto'),\n",
       " Text(2, 0, 'Mladost'),\n",
       " Text(3, 0, 'Hipodrome'),\n",
       " Text(4, 0, 'Druzhba'),\n",
       " Text(5, 0, 'Nadezhda')]"
      ]
     },
     "execution_count": 406,
     "metadata": {},
     "output_type": "execute_result"
    },
    {
     "data": {
      "image/png": "[encoded data removed]",
      "text/plain": [
       "<Figure size 720x576 with 1 Axes>"
      ]
     },
     "metadata": {
      "needs_background": "light"
     },
     "output_type": "display_data"
    }
   ],
   "source": [
    "fig, ax=plt.subplots(figsize=(10,8))\n",
    "bp = sns.boxplot(data = scaled_fdp_data)\n",
    "bp.set_xticklabels(bp.get_xticklabels(), rotation = 90)"
   ]
  },
  {
   "cell_type": "code",
   "execution_count": 407,
   "id": "edd386f9",
   "metadata": {},
   "outputs": [
    {
     "name": "stdout",
     "output_type": "stream",
     "text": [
      "0\n",
      "Pavlovo      0.36\n",
      "Kopitoto     0.26\n",
      "Mladost      0.31\n",
      "Hipodrome    0.41\n",
      "dtype: float64\n"
     ]
    }
   ],
   "source": [
    "coQ1 = co_measures.quantile(0.25)\n",
    "coQ3 = co_measures.quantile(0.75)\n",
    "co_IQR = coQ3 - coQ1\n",
    "print(co_IQR)"
   ]
  },
  {
   "cell_type": "code",
   "execution_count": 408,
   "id": "7d341544",
   "metadata": {},
   "outputs": [
    {
     "name": "stdout",
     "output_type": "stream",
     "text": [
      "0\n",
      "Pavlovo      26.570002\n",
      "Kopitoto     14.702500\n",
      "Mladost      17.350000\n",
      "Hipodrome    24.100000\n",
      "Druzhba      23.409999\n",
      "Nadezhda     31.892499\n",
      "dtype: float64\n"
     ]
    }
   ],
   "source": [
    "fdpQ1 = fdp_measures.quantile(0.25)\n",
    "fdpQ3 = fdp_measures.quantile(0.75)\n",
    "fdp_IQR = fdpQ3 - fdpQ1\n",
    "print(fdp_IQR)"
   ]
  },
  {
   "cell_type": "code",
   "execution_count": 409,
   "id": "37d4c34d",
   "metadata": {},
   "outputs": [
    {
     "data": {
      "text/plain": [
       "(37090, 4)"
      ]
     },
     "execution_count": 409,
     "metadata": {},
     "output_type": "execute_result"
    }
   ],
   "source": [
    "co_outliers_removed_data = co_measures[~((co_measures<(coQ1-1.5*co_IQR))\\\n",
    "                                        | (co_measures>(coQ3+1.5*co_IQR))).any(axis=1)]\n",
    "co_outliers_removed_data.shape"
   ]
  },
  {
   "cell_type": "code",
   "execution_count": 410,
   "id": "1ab8315f",
   "metadata": {},
   "outputs": [
    {
     "data": {
      "text/plain": [
       "(35336, 6)"
      ]
     },
     "execution_count": 410,
     "metadata": {},
     "output_type": "execute_result"
    }
   ],
   "source": [
    "fdp_outliers_removed_data = fdp_measures[~((fdp_measures<(fdpQ1-1.5*fdp_IQR))\\\n",
    "                                        | (fdp_measures>(fdpQ3+1.5*fdp_IQR))).any(axis=1)]\n",
    "fdp_outliers_removed_data.shape"
   ]
  },
  {
   "cell_type": "code",
   "execution_count": 411,
   "id": "45b8c879",
   "metadata": {},
   "outputs": [
    {
     "data": {
      "text/plain": [
       "[Text(0, 0, 'Pavlovo'),\n",
       " Text(1, 0, 'Kopitoto'),\n",
       " Text(2, 0, 'Mladost'),\n",
       " Text(3, 0, 'Hipodrome')]"
      ]
     },
     "execution_count": 411,
     "metadata": {},
     "output_type": "execute_result"
    },
    {
     "data": {
      "image/png": "[encoded data removed]",
      "text/plain": [
       "<Figure size 720x576 with 1 Axes>"
      ]
     },
     "metadata": {
      "needs_background": "light"
     },
     "output_type": "display_data"
    }
   ],
   "source": [
    "fig, ax=plt.subplots(figsize=(10,8))\n",
    "bp = sns.boxplot(data = co_outliers_removed_data)\n",
    "bp.set_xticklabels(bp.get_xticklabels(), rotation = 90)"
   ]
  },
  {
   "cell_type": "code",
   "execution_count": 412,
   "id": "498c2812",
   "metadata": {},
   "outputs": [
    {
     "data": {
      "text/plain": [
       "[Text(0, 0, 'Pavlovo'),\n",
       " Text(1, 0, 'Kopitoto'),\n",
       " Text(2, 0, 'Mladost'),\n",
       " Text(3, 0, 'Hipodrome'),\n",
       " Text(4, 0, 'Druzhba'),\n",
       " Text(5, 0, 'Nadezhda')]"
      ]
     },
     "execution_count": 412,
     "metadata": {},
     "output_type": "execute_result"
    },
    {
     "data": {
      "image/png": "[encoded data removed]",
      "text/plain": [
       "<Figure size 720x576 with 1 Axes>"
      ]
     },
     "metadata": {
      "needs_background": "light"
     },
     "output_type": "display_data"
    }
   ],
   "source": [
    "fig, ax=plt.subplots(figsize=(10,8))\n",
    "bp = sns.boxplot(data = fdp_outliers_removed_data)\n",
    "bp.set_xticklabels(bp.get_xticklabels(), rotation = 90)"
   ]
  },
  {
   "cell_type": "code",
   "execution_count": null,
   "id": "5af987b8",
   "metadata": {},
   "outputs": [],
   "source": []
  },
  {
   "cell_type": "code",
   "execution_count": null,
   "id": "bcd24bc9",
   "metadata": {},
   "outputs": [],
   "source": []
  }
 ],
 "metadata": {
  "kernelspec": {
   "display_name": "Python 3 (ipykernel)",
   "language": "python",
   "name": "python3"
  },
  "language_info": {
   "codemirror_mode": {
    "name": "ipython",
    "version": 3
   },
   "file_extension": ".py",
   "mimetype": "text/x-python",
   "name": "python",
   "nbconvert_exporter": "python",
   "pygments_lexer": "ipython3",
   "version": "3.9.10"
  }
 },
 "nbformat": 4,
 "nbformat_minor": 5
}
