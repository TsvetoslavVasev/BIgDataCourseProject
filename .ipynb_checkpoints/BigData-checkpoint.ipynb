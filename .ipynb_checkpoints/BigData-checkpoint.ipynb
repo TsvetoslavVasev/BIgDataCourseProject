{
 "cells": [
  {
   "cell_type": "code",
   "execution_count": 2,
   "id": "4a6d484b",
   "metadata": {},
   "outputs": [],
   "source": [
    "import pandas as pd\n",
    "import numpy as np\n",
    "from matplotlib import pyplot as plt\n",
    "import seaborn as sns\n",
    "from sklearn.preprocessing import StandardScaler"
   ]
  },
  {
   "cell_type": "code",
   "execution_count": 3,
   "id": "c64f2cd9",
   "metadata": {},
   "outputs": [],
   "source": [
    "scaler = StandardScaler()\n",
    "\n",
    "co_dataset = pd.read_csv('./datasets/CO-2015-2019.csv')\n",
    "co_headers = co_dataset.iloc[0]\n",
    "co_dataset  = pd.DataFrame(co_dataset.values[1:], columns=co_headers)\n",
    "\n",
    "fdp_dataset = pd.read_csv('./datasets/FDP-2015-2019.csv')\n",
    "fdp_headers = fdp_dataset.iloc[0]\n",
    "fdp_dataset  = pd.DataFrame(fdp_dataset.values[1:], columns=fdp_headers)"
   ]
  },
  {
   "cell_type": "code",
   "execution_count": 4,
   "id": "cdc01cc6",
   "metadata": {},
   "outputs": [
    {
     "data": {
      "text/html": [
       "<div>\n",
       "<style scoped>\n",
       "    .dataframe tbody tr th:only-of-type {\n",
       "        vertical-align: middle;\n",
       "    }\n",
       "\n",
       "    .dataframe tbody tr th {\n",
       "        vertical-align: top;\n",
       "    }\n",
       "\n",
       "    .dataframe thead th {\n",
       "        text-align: right;\n",
       "    }\n",
       "</style>\n",
       "<table border=\"1\" class=\"dataframe\">\n",
       "  <thead>\n",
       "    <tr style=\"text-align: right;\">\n",
       "      <th></th>\n",
       "      <th>Date</th>\n",
       "      <th>Hour</th>\n",
       "      <th>Sofia-EEA Pavlovo</th>\n",
       "      <th>Sofia - Kopitoto</th>\n",
       "      <th>Sofia - Mladost</th>\n",
       "      <th>Sofia - Orlov Most</th>\n",
       "      <th>Sofia -Hipodrome</th>\n",
       "    </tr>\n",
       "  </thead>\n",
       "  <tbody>\n",
       "    <tr>\n",
       "      <th>0</th>\n",
       "      <td>1/1/2015</td>\n",
       "      <td>1:00</td>\n",
       "      <td>1.09</td>\n",
       "      <td>0.21</td>\n",
       "      <td>NaN</td>\n",
       "      <td>1.34</td>\n",
       "      <td>0.87</td>\n",
       "    </tr>\n",
       "    <tr>\n",
       "      <th>1</th>\n",
       "      <td>1/1/2015</td>\n",
       "      <td>2:00</td>\n",
       "      <td>1.7</td>\n",
       "      <td>0.23</td>\n",
       "      <td>NaN</td>\n",
       "      <td>1.84</td>\n",
       "      <td>1.43</td>\n",
       "    </tr>\n",
       "    <tr>\n",
       "      <th>2</th>\n",
       "      <td>1/1/2015</td>\n",
       "      <td>3:00</td>\n",
       "      <td>1.71</td>\n",
       "      <td>0.2</td>\n",
       "      <td>NaN</td>\n",
       "      <td>1.74</td>\n",
       "      <td>1.84</td>\n",
       "    </tr>\n",
       "    <tr>\n",
       "      <th>3</th>\n",
       "      <td>1/1/2015</td>\n",
       "      <td>4:00</td>\n",
       "      <td>1.96</td>\n",
       "      <td>0.21</td>\n",
       "      <td>NaN</td>\n",
       "      <td>2.16</td>\n",
       "      <td>1.75</td>\n",
       "    </tr>\n",
       "    <tr>\n",
       "      <th>4</th>\n",
       "      <td>1/1/2015</td>\n",
       "      <td>5:00</td>\n",
       "      <td>1.28</td>\n",
       "      <td>0.24</td>\n",
       "      <td>NaN</td>\n",
       "      <td>1.16</td>\n",
       "      <td>1.72</td>\n",
       "    </tr>\n",
       "  </tbody>\n",
       "</table>\n",
       "</div>"
      ],
      "text/plain": [
       "0      Date  Hour Sofia-EEA Pavlovo Sofia - Kopitoto Sofia - Mladost  \\\n",
       "0  1/1/2015  1:00              1.09             0.21             NaN   \n",
       "1  1/1/2015  2:00               1.7             0.23             NaN   \n",
       "2  1/1/2015  3:00              1.71              0.2             NaN   \n",
       "3  1/1/2015  4:00              1.96             0.21             NaN   \n",
       "4  1/1/2015  5:00              1.28             0.24             NaN   \n",
       "\n",
       "0 Sofia - Orlov Most Sofia -Hipodrome  \n",
       "0               1.34             0.87  \n",
       "1               1.84             1.43  \n",
       "2               1.74             1.84  \n",
       "3               2.16             1.75  \n",
       "4               1.16             1.72  "
      ]
     },
     "execution_count": 4,
     "metadata": {},
     "output_type": "execute_result"
    }
   ],
   "source": [
    "co_dataset.head()"
   ]
  },
  {
   "cell_type": "code",
   "execution_count": 5,
   "id": "7c03e442",
   "metadata": {},
   "outputs": [
    {
     "data": {
      "text/html": [
       "<div>\n",
       "<style scoped>\n",
       "    .dataframe tbody tr th:only-of-type {\n",
       "        vertical-align: middle;\n",
       "    }\n",
       "\n",
       "    .dataframe tbody tr th {\n",
       "        vertical-align: top;\n",
       "    }\n",
       "\n",
       "    .dataframe thead th {\n",
       "        text-align: right;\n",
       "    }\n",
       "</style>\n",
       "<table border=\"1\" class=\"dataframe\">\n",
       "  <thead>\n",
       "    <tr style=\"text-align: right;\">\n",
       "      <th></th>\n",
       "      <th>Date</th>\n",
       "      <th>Time</th>\n",
       "      <th>Sofia-Druzhba</th>\n",
       "      <th>Sofia - EEA/Pavlovo</th>\n",
       "      <th>Sofia-Kopitoto</th>\n",
       "      <th>Sofia - Mladost</th>\n",
       "      <th>Sofia-Nadezhda</th>\n",
       "      <th>Sofia - Orlov Most</th>\n",
       "      <th>Sofia - Hipodrome</th>\n",
       "      <th>Gara Yana</th>\n",
       "    </tr>\n",
       "  </thead>\n",
       "  <tbody>\n",
       "    <tr>\n",
       "      <th>0</th>\n",
       "      <td>1/1/2015</td>\n",
       "      <td>1:00</td>\n",
       "      <td>78.55</td>\n",
       "      <td>110.01</td>\n",
       "      <td>13.3</td>\n",
       "      <td>NaN</td>\n",
       "      <td>95.53</td>\n",
       "      <td>49.33</td>\n",
       "      <td>31.79</td>\n",
       "      <td>77.30</td>\n",
       "    </tr>\n",
       "    <tr>\n",
       "      <th>1</th>\n",
       "      <td>1/1/2015</td>\n",
       "      <td>2:00</td>\n",
       "      <td>159.85</td>\n",
       "      <td>206.11</td>\n",
       "      <td>14.42</td>\n",
       "      <td>NaN</td>\n",
       "      <td>64.11</td>\n",
       "      <td>100.33</td>\n",
       "      <td>94.59</td>\n",
       "      <td>91.20</td>\n",
       "    </tr>\n",
       "    <tr>\n",
       "      <th>2</th>\n",
       "      <td>1/1/2015</td>\n",
       "      <td>3:00</td>\n",
       "      <td>100.8</td>\n",
       "      <td>205.72</td>\n",
       "      <td>13.44</td>\n",
       "      <td>NaN</td>\n",
       "      <td>21.53</td>\n",
       "      <td>63.58</td>\n",
       "      <td>98.81</td>\n",
       "      <td>47.60</td>\n",
       "    </tr>\n",
       "    <tr>\n",
       "      <th>3</th>\n",
       "      <td>1/1/2015</td>\n",
       "      <td>4:00</td>\n",
       "      <td>53.33</td>\n",
       "      <td>179.01</td>\n",
       "      <td>12.45</td>\n",
       "      <td>NaN</td>\n",
       "      <td>11.17</td>\n",
       "      <td>70.5</td>\n",
       "      <td>89.95</td>\n",
       "      <td>29.40</td>\n",
       "    </tr>\n",
       "    <tr>\n",
       "      <th>4</th>\n",
       "      <td>1/1/2015</td>\n",
       "      <td>5:00</td>\n",
       "      <td>32.93</td>\n",
       "      <td>86.91</td>\n",
       "      <td>12.66</td>\n",
       "      <td>NaN</td>\n",
       "      <td>14.32</td>\n",
       "      <td>21.47</td>\n",
       "      <td>70.26</td>\n",
       "      <td>31.30</td>\n",
       "    </tr>\n",
       "  </tbody>\n",
       "</table>\n",
       "</div>"
      ],
      "text/plain": [
       "0      Date  Time Sofia-Druzhba Sofia - EEA/Pavlovo Sofia-Kopitoto  \\\n",
       "0  1/1/2015  1:00         78.55              110.01           13.3   \n",
       "1  1/1/2015  2:00        159.85              206.11          14.42   \n",
       "2  1/1/2015  3:00         100.8              205.72          13.44   \n",
       "3  1/1/2015  4:00         53.33              179.01          12.45   \n",
       "4  1/1/2015  5:00         32.93               86.91          12.66   \n",
       "\n",
       "0 Sofia - Mladost Sofia-Nadezhda Sofia - Orlov Most Sofia - Hipodrome  \\\n",
       "0             NaN          95.53              49.33             31.79   \n",
       "1             NaN          64.11             100.33             94.59   \n",
       "2             NaN          21.53              63.58             98.81   \n",
       "3             NaN          11.17               70.5             89.95   \n",
       "4             NaN          14.32              21.47             70.26   \n",
       "\n",
       "0 Gara Yana  \n",
       "0     77.30  \n",
       "1     91.20  \n",
       "2     47.60  \n",
       "3     29.40  \n",
       "4     31.30  "
      ]
     },
     "execution_count": 5,
     "metadata": {},
     "output_type": "execute_result"
    }
   ],
   "source": [
    "fdp_dataset.head()"
   ]
  },
  {
   "cell_type": "code",
   "execution_count": 6,
   "id": "c5559d7d",
   "metadata": {},
   "outputs": [
    {
     "data": {
      "text/plain": [
       "(43824, 7)"
      ]
     },
     "execution_count": 6,
     "metadata": {},
     "output_type": "execute_result"
    }
   ],
   "source": [
    "# И двата дейта сета имат еднакъв брой редове и колони\n",
    "co_dataset.shape"
   ]
  },
  {
   "cell_type": "code",
   "execution_count": 7,
   "id": "727a06b2",
   "metadata": {},
   "outputs": [
    {
     "data": {
      "text/plain": [
       "(43824, 10)"
      ]
     },
     "execution_count": 7,
     "metadata": {},
     "output_type": "execute_result"
    }
   ],
   "source": [
    "fdp_dataset.shape"
   ]
  },
  {
   "cell_type": "code",
   "execution_count": 8,
   "id": "1459ca5a",
   "metadata": {},
   "outputs": [
    {
     "data": {
      "text/html": [
       "<div>\n",
       "<style scoped>\n",
       "    .dataframe tbody tr th:only-of-type {\n",
       "        vertical-align: middle;\n",
       "    }\n",
       "\n",
       "    .dataframe tbody tr th {\n",
       "        vertical-align: top;\n",
       "    }\n",
       "\n",
       "    .dataframe thead th {\n",
       "        text-align: right;\n",
       "    }\n",
       "</style>\n",
       "<table border=\"1\" class=\"dataframe\">\n",
       "  <thead>\n",
       "    <tr style=\"text-align: right;\">\n",
       "      <th></th>\n",
       "      <th>Date</th>\n",
       "      <th>Hour</th>\n",
       "      <th>Sofia-EEA Pavlovo</th>\n",
       "      <th>Sofia - Kopitoto</th>\n",
       "      <th>Sofia - Mladost</th>\n",
       "      <th>Sofia - Orlov Most</th>\n",
       "      <th>Sofia -Hipodrome</th>\n",
       "    </tr>\n",
       "  </thead>\n",
       "  <tbody>\n",
       "    <tr>\n",
       "      <th>count</th>\n",
       "      <td>43824</td>\n",
       "      <td>43824</td>\n",
       "      <td>42444</td>\n",
       "      <td>39922</td>\n",
       "      <td>35947</td>\n",
       "      <td>6569</td>\n",
       "      <td>42989</td>\n",
       "    </tr>\n",
       "    <tr>\n",
       "      <th>unique</th>\n",
       "      <td>1826</td>\n",
       "      <td>24</td>\n",
       "      <td>521</td>\n",
       "      <td>172</td>\n",
       "      <td>416</td>\n",
       "      <td>391</td>\n",
       "      <td>541</td>\n",
       "    </tr>\n",
       "    <tr>\n",
       "      <th>top</th>\n",
       "      <td>1/1/2015</td>\n",
       "      <td>1:00</td>\n",
       "      <td>0.31</td>\n",
       "      <td>0.23</td>\n",
       "      <td>0.36</td>\n",
       "      <td>0.34</td>\n",
       "      <td>0.35</td>\n",
       "    </tr>\n",
       "    <tr>\n",
       "      <th>freq</th>\n",
       "      <td>24</td>\n",
       "      <td>1826</td>\n",
       "      <td>984</td>\n",
       "      <td>975</td>\n",
       "      <td>759</td>\n",
       "      <td>119</td>\n",
       "      <td>792</td>\n",
       "    </tr>\n",
       "  </tbody>\n",
       "</table>\n",
       "</div>"
      ],
      "text/plain": [
       "0           Date   Hour Sofia-EEA Pavlovo Sofia - Kopitoto Sofia - Mladost  \\\n",
       "count      43824  43824             42444            39922           35947   \n",
       "unique      1826     24               521              172             416   \n",
       "top     1/1/2015   1:00              0.31             0.23            0.36   \n",
       "freq          24   1826               984              975             759   \n",
       "\n",
       "0      Sofia - Orlov Most Sofia -Hipodrome  \n",
       "count                6569            42989  \n",
       "unique                391              541  \n",
       "top                  0.34             0.35  \n",
       "freq                  119              792  "
      ]
     },
     "execution_count": 8,
     "metadata": {},
     "output_type": "execute_result"
    }
   ],
   "source": [
    "co_dataset.describe()"
   ]
  },
  {
   "cell_type": "code",
   "execution_count": 9,
   "id": "62f79c47",
   "metadata": {},
   "outputs": [
    {
     "data": {
      "text/html": [
       "<div>\n",
       "<style scoped>\n",
       "    .dataframe tbody tr th:only-of-type {\n",
       "        vertical-align: middle;\n",
       "    }\n",
       "\n",
       "    .dataframe tbody tr th {\n",
       "        vertical-align: top;\n",
       "    }\n",
       "\n",
       "    .dataframe thead th {\n",
       "        text-align: right;\n",
       "    }\n",
       "</style>\n",
       "<table border=\"1\" class=\"dataframe\">\n",
       "  <thead>\n",
       "    <tr style=\"text-align: right;\">\n",
       "      <th></th>\n",
       "      <th>Date</th>\n",
       "      <th>Time</th>\n",
       "      <th>Sofia-Druzhba</th>\n",
       "      <th>Sofia - EEA/Pavlovo</th>\n",
       "      <th>Sofia-Kopitoto</th>\n",
       "      <th>Sofia - Mladost</th>\n",
       "      <th>Sofia-Nadezhda</th>\n",
       "      <th>Sofia - Orlov Most</th>\n",
       "      <th>Sofia - Hipodrome</th>\n",
       "      <th>Gara Yana</th>\n",
       "    </tr>\n",
       "  </thead>\n",
       "  <tbody>\n",
       "    <tr>\n",
       "      <th>count</th>\n",
       "      <td>43824</td>\n",
       "      <td>43824</td>\n",
       "      <td>42550</td>\n",
       "      <td>42098</td>\n",
       "      <td>39898</td>\n",
       "      <td>35618</td>\n",
       "      <td>40855</td>\n",
       "      <td>6326</td>\n",
       "      <td>43098</td>\n",
       "      <td>1720</td>\n",
       "    </tr>\n",
       "    <tr>\n",
       "      <th>unique</th>\n",
       "      <td>1826</td>\n",
       "      <td>24</td>\n",
       "      <td>9059</td>\n",
       "      <td>10282</td>\n",
       "      <td>4932</td>\n",
       "      <td>8156</td>\n",
       "      <td>10638</td>\n",
       "      <td>4042</td>\n",
       "      <td>9879</td>\n",
       "      <td>628</td>\n",
       "    </tr>\n",
       "    <tr>\n",
       "      <th>top</th>\n",
       "      <td>1/1/2015</td>\n",
       "      <td>1:00</td>\n",
       "      <td>16.53</td>\n",
       "      <td>25.87</td>\n",
       "      <td>3.63</td>\n",
       "      <td>21.56</td>\n",
       "      <td>2.64</td>\n",
       "      <td>25.29</td>\n",
       "      <td>19.78</td>\n",
       "      <td>21.90</td>\n",
       "    </tr>\n",
       "    <tr>\n",
       "      <th>freq</th>\n",
       "      <td>24</td>\n",
       "      <td>1826</td>\n",
       "      <td>27</td>\n",
       "      <td>24</td>\n",
       "      <td>93</td>\n",
       "      <td>23</td>\n",
       "      <td>570</td>\n",
       "      <td>7</td>\n",
       "      <td>24</td>\n",
       "      <td>12</td>\n",
       "    </tr>\n",
       "  </tbody>\n",
       "</table>\n",
       "</div>"
      ],
      "text/plain": [
       "0           Date   Time Sofia-Druzhba Sofia - EEA/Pavlovo Sofia-Kopitoto  \\\n",
       "count      43824  43824         42550               42098          39898   \n",
       "unique      1826     24          9059               10282           4932   \n",
       "top     1/1/2015   1:00         16.53               25.87           3.63   \n",
       "freq          24   1826            27                  24             93   \n",
       "\n",
       "0      Sofia - Mladost Sofia-Nadezhda Sofia - Orlov Most Sofia - Hipodrome  \\\n",
       "count            35618          40855               6326             43098   \n",
       "unique            8156          10638               4042              9879   \n",
       "top              21.56           2.64              25.29             19.78   \n",
       "freq                23            570                  7                24   \n",
       "\n",
       "0      Gara Yana  \n",
       "count       1720  \n",
       "unique       628  \n",
       "top        21.90  \n",
       "freq          12  "
      ]
     },
     "execution_count": 9,
     "metadata": {},
     "output_type": "execute_result"
    }
   ],
   "source": [
    "fdp_dataset.describe()"
   ]
  },
  {
   "cell_type": "code",
   "execution_count": 10,
   "id": "26b6b7d7",
   "metadata": {},
   "outputs": [],
   "source": [
    "co_dataset = co_dataset.rename(columns={\"Sofia-EEA Pavlovo\":\"Pavlovo\", \"Sofia - Kopitoto\":\"Kopitoto\", \"Sofia - Mladost\":\"Mladost\", \"Sofia - Orlov Most\":\"OrlovMost\", \"Sofia -Hipodrome\":\"Hipodrome\"})"
   ]
  },
  {
   "cell_type": "code",
   "execution_count": 11,
   "id": "c192d862",
   "metadata": {},
   "outputs": [],
   "source": [
    "fdp_dataset = fdp_dataset.rename(columns={\"Sofia-Druzhba\":\"Druzhba\", \"Sofia - EEA/Pavlovo\":\"Pavlovo\", \"Sofia-Kopitoto\":\"Kopitoto\", \"Sofia - Mladost\":\"Mladost\", \"Sofia-Nadezhda\":\"Nadezhda\", \"Sofia - Orlov Most\":\"OrlovMost\", \"Sofia - Hipodrome\":\"Hipodrome\", \"Gara Yana\":\"GaraYana\"})"
   ]
  },
  {
   "cell_type": "code",
   "execution_count": 12,
   "id": "4576846f",
   "metadata": {},
   "outputs": [
    {
     "data": {
      "text/plain": [
       "0"
      ]
     },
     "execution_count": 12,
     "metadata": {},
     "output_type": "execute_result"
    }
   ],
   "source": [
    "sum(co_dataset.duplicated())"
   ]
  },
  {
   "cell_type": "code",
   "execution_count": 13,
   "id": "74505120",
   "metadata": {},
   "outputs": [
    {
     "data": {
      "text/plain": [
       "0"
      ]
     },
     "execution_count": 13,
     "metadata": {},
     "output_type": "execute_result"
    }
   ],
   "source": [
    "sum(fdp_dataset.duplicated())"
   ]
  },
  {
   "cell_type": "code",
   "execution_count": 14,
   "id": "b4693fde",
   "metadata": {},
   "outputs": [
    {
     "data": {
      "text/plain": [
       "0\n",
       "Date             0\n",
       "Hour             0\n",
       "Pavlovo       1380\n",
       "Kopitoto      3902\n",
       "Mladost       7877\n",
       "OrlovMost    37255\n",
       "Hipodrome      835\n",
       "dtype: int64"
      ]
     },
     "execution_count": 14,
     "metadata": {},
     "output_type": "execute_result"
    }
   ],
   "source": [
    "co_dataset.isnull().sum()"
   ]
  },
  {
   "cell_type": "code",
   "execution_count": 15,
   "id": "2e45bbe7",
   "metadata": {},
   "outputs": [
    {
     "data": {
      "text/plain": [
       "0\n",
       "Date             0\n",
       "Time             0\n",
       "Druzhba       1274\n",
       "Pavlovo       1726\n",
       "Kopitoto      3926\n",
       "Mladost       8206\n",
       "Nadezhda      2969\n",
       "OrlovMost    37498\n",
       "Hipodrome      726\n",
       "GaraYana     42104\n",
       "dtype: int64"
      ]
     },
     "execution_count": 15,
     "metadata": {},
     "output_type": "execute_result"
    }
   ],
   "source": [
    "fdp_dataset.isnull().sum()"
   ]
  },
  {
   "cell_type": "code",
   "execution_count": 16,
   "id": "939c3b8c",
   "metadata": {},
   "outputs": [],
   "source": [
    "# Convert string values to float\n",
    "co_dataset[\"Pavlovo\"] = pd.to_numeric(co_dataset[\"Pavlovo\"], downcast=\"float\")\n",
    "co_dataset[\"Kopitoto\"] = pd.to_numeric(co_dataset[\"Kopitoto\"], downcast=\"float\")\n",
    "co_dataset[\"Mladost\"] = pd.to_numeric(co_dataset[\"Mladost\"], downcast=\"float\")\n",
    "co_dataset[\"Hipodrome\"] = pd.to_numeric(co_dataset[\"Hipodrome\"], downcast=\"float\")\n",
    "\n",
    "fdp_dataset[\"Pavlovo\"] = pd.to_numeric(fdp_dataset[\"Pavlovo\"], downcast=\"float\")\n",
    "fdp_dataset[\"Kopitoto\"] = pd.to_numeric(fdp_dataset[\"Kopitoto\"], downcast=\"float\")\n",
    "fdp_dataset[\"Mladost\"] = pd.to_numeric(fdp_dataset[\"Mladost\"], downcast=\"float\")\n",
    "fdp_dataset[\"Hipodrome\"] = pd.to_numeric(fdp_dataset[\"Hipodrome\"], downcast=\"float\")\n",
    "fdp_dataset[\"Druzhba\"] = pd.to_numeric(fdp_dataset[\"Hipodrome\"], downcast=\"float\")\n",
    "fdp_dataset[\"Nadezhda\"] = pd.to_numeric(fdp_dataset[\"Hipodrome\"], downcast=\"float\")"
   ]
  },
  {
   "cell_type": "code",
   "execution_count": 17,
   "id": "260726e0",
   "metadata": {},
   "outputs": [],
   "source": [
    "# Запълваме нълл стойсностите със средното, а не медианата, тъй като нямаме стойности много-над, много-по между останалите стойности за тази колона\n",
    "# Fill null's for the column's\n",
    "co_dataset.drop('OrlovMost',axis='columns', inplace=True)\n",
    "#co_dataset['OrlovMost'].fillna((co_dataset['OrlovMost'].mean()), inplace=True)\n",
    "co_dataset['Pavlovo'].fillna(method = 'backfill', inplace=True)\n",
    "co_dataset['Kopitoto'].fillna(method = 'backfill', inplace=True)\n",
    "co_dataset['Mladost'].fillna(method = 'backfill', inplace=True)\n",
    "co_dataset['Hipodrome'].fillna(method = 'backfill', inplace=True)\n",
    "\n",
    "fdp_dataset.drop('OrlovMost',axis='columns', inplace=True)\n",
    "fdp_dataset.drop('GaraYana',axis='columns', inplace=True)\n",
    "#fdp_dataset['OrlovMost'].fillna((fdp_dataset['OrlovMost'].mean()), inplace=True)\n",
    "fdp_dataset['Pavlovo'].fillna(method = 'backfill', inplace=True)\n",
    "fdp_dataset['Kopitoto'].fillna(method = 'backfill', inplace=True)\n",
    "fdp_dataset['Mladost'].fillna(method = 'backfill', inplace=True)\n",
    "fdp_dataset['Hipodrome'].fillna(method = 'backfill', inplace=True)\n",
    "fdp_dataset['Druzhba'].fillna(method = 'backfill', inplace=True)\n",
    "fdp_dataset['Nadezhda'].fillna(method = 'backfill', inplace=True)\n",
    "#fdp_dataset['GaraYana'].fillna((fdp_dataset['GaraYana'].mean()), inplace=True)"
   ]
  },
  {
   "cell_type": "code",
   "execution_count": 18,
   "id": "d0dc2850",
   "metadata": {},
   "outputs": [
    {
     "data": {
      "text/plain": [
       "0\n",
       "Date         0\n",
       "Hour         0\n",
       "Pavlovo      0\n",
       "Kopitoto     0\n",
       "Mladost      0\n",
       "Hipodrome    0\n",
       "dtype: int64"
      ]
     },
     "execution_count": 18,
     "metadata": {},
     "output_type": "execute_result"
    }
   ],
   "source": [
    "co_dataset.isnull().sum()"
   ]
  },
  {
   "cell_type": "code",
   "execution_count": 19,
   "id": "00e24405",
   "metadata": {},
   "outputs": [
    {
     "data": {
      "text/plain": [
       "0\n",
       "Date         0\n",
       "Time         0\n",
       "Druzhba      0\n",
       "Pavlovo      0\n",
       "Kopitoto     0\n",
       "Mladost      0\n",
       "Nadezhda     0\n",
       "Hipodrome    0\n",
       "dtype: int64"
      ]
     },
     "execution_count": 19,
     "metadata": {},
     "output_type": "execute_result"
    }
   ],
   "source": [
    "fdp_dataset.isnull().sum()"
   ]
  },
  {
   "cell_type": "code",
   "execution_count": 20,
   "id": "ad9e9033",
   "metadata": {},
   "outputs": [],
   "source": [
    "#Interesuvat li ni date time"
   ]
  },
  {
   "cell_type": "code",
   "execution_count": 21,
   "id": "5ddc01b7",
   "metadata": {},
   "outputs": [
    {
     "data": {
      "text/plain": [
       "[Text(0, 0, 'Pavlovo'),\n",
       " Text(1, 0, 'Kopitoto'),\n",
       " Text(2, 0, 'Mladost'),\n",
       " Text(3, 0, 'Hipodrome')]"
      ]
     },
     "execution_count": 21,
     "metadata": {},
     "output_type": "execute_result"
    },
    {
     "data": {
      "image/png": "[encoded data removed]",
      "text/plain": [
       "<Figure size 720x576 with 1 Axes>"
      ]
     },
     "metadata": {
      "needs_background": "light"
     },
     "output_type": "display_data"
    }
   ],
   "source": [
    "co_measures = co_dataset[[\"Pavlovo\", 'Kopitoto', 'Mladost', 'Hipodrome']]\n",
    "fdp_measures = fdp_dataset[[\"Pavlovo\", 'Kopitoto', 'Mladost', 'Hipodrome', 'Druzhba', 'Nadezhda']]\n",
    "\n",
    "fig, ax=plt.subplots(figsize=(10,8))\n",
    "bp = sns.boxplot(data = co_measures)\n",
    "bp.set_xticklabels(bp.get_xticklabels(), rotation = 90)"
   ]
  },
  {
   "cell_type": "code",
   "execution_count": 22,
   "id": "9baf1c95",
   "metadata": {},
   "outputs": [
    {
     "data": {
      "text/plain": [
       "[Text(0, 0, 'Pavlovo'),\n",
       " Text(1, 0, 'Kopitoto'),\n",
       " Text(2, 0, 'Mladost'),\n",
       " Text(3, 0, 'Hipodrome'),\n",
       " Text(4, 0, 'Druzhba'),\n",
       " Text(5, 0, 'Nadezhda')]"
      ]
     },
     "execution_count": 22,
     "metadata": {},
     "output_type": "execute_result"
    },
    {
     "data": {
      "image/png": "[encoded data removed]",
      "text/plain": [
       "<Figure size 720x576 with 1 Axes>"
      ]
     },
     "metadata": {
      "needs_background": "light"
     },
     "output_type": "display_data"
    }
   ],
   "source": [
    "fig, ax=plt.subplots(figsize=(10,8))\n",
    "bp = sns.boxplot(data = fdp_measures)\n",
    "bp.set_xticklabels(bp.get_xticklabels(), rotation = 90)"
   ]
  },
  {
   "cell_type": "code",
   "execution_count": 23,
   "id": "87075e91",
   "metadata": {},
   "outputs": [
    {
     "data": {
      "text/html": [
       "<div>\n",
       "<style scoped>\n",
       "    .dataframe tbody tr th:only-of-type {\n",
       "        vertical-align: middle;\n",
       "    }\n",
       "\n",
       "    .dataframe tbody tr th {\n",
       "        vertical-align: top;\n",
       "    }\n",
       "\n",
       "    .dataframe thead th {\n",
       "        text-align: right;\n",
       "    }\n",
       "</style>\n",
       "<table border=\"1\" class=\"dataframe\">\n",
       "  <thead>\n",
       "    <tr style=\"text-align: right;\">\n",
       "      <th></th>\n",
       "      <th>Pavlovo</th>\n",
       "      <th>Kopitoto</th>\n",
       "      <th>Mladost</th>\n",
       "      <th>Hipodrome</th>\n",
       "    </tr>\n",
       "  </thead>\n",
       "  <tbody>\n",
       "    <tr>\n",
       "      <th>0</th>\n",
       "      <td>0.727569</td>\n",
       "      <td>-0.578410</td>\n",
       "      <td>-0.163685</td>\n",
       "      <td>0.368238</td>\n",
       "    </tr>\n",
       "    <tr>\n",
       "      <th>1</th>\n",
       "      <td>1.755446</td>\n",
       "      <td>-0.479434</td>\n",
       "      <td>-0.163685</td>\n",
       "      <td>1.241833</td>\n",
       "    </tr>\n",
       "    <tr>\n",
       "      <th>2</th>\n",
       "      <td>1.772296</td>\n",
       "      <td>-0.627898</td>\n",
       "      <td>-0.163685</td>\n",
       "      <td>1.881430</td>\n",
       "    </tr>\n",
       "    <tr>\n",
       "      <th>3</th>\n",
       "      <td>2.193557</td>\n",
       "      <td>-0.578410</td>\n",
       "      <td>-0.163685</td>\n",
       "      <td>1.741031</td>\n",
       "    </tr>\n",
       "    <tr>\n",
       "      <th>4</th>\n",
       "      <td>1.047727</td>\n",
       "      <td>-0.429947</td>\n",
       "      <td>-0.163685</td>\n",
       "      <td>1.694231</td>\n",
       "    </tr>\n",
       "  </tbody>\n",
       "</table>\n",
       "</div>"
      ],
      "text/plain": [
       "0   Pavlovo  Kopitoto   Mladost  Hipodrome\n",
       "0  0.727569 -0.578410 -0.163685   0.368238\n",
       "1  1.755446 -0.479434 -0.163685   1.241833\n",
       "2  1.772296 -0.627898 -0.163685   1.881430\n",
       "3  2.193557 -0.578410 -0.163685   1.741031\n",
       "4  1.047727 -0.429947 -0.163685   1.694231"
      ]
     },
     "execution_count": 23,
     "metadata": {},
     "output_type": "execute_result"
    }
   ],
   "source": [
    "scaled_co_measures = scaler.fit_transform(co_measures)\n",
    "scaled_fdp_measures = scaler.fit_transform(fdp_measures)\n",
    "\n",
    "scaled_co_data =pd.DataFrame(scaled_co_measures, columns = co_measures.columns)\n",
    "scaled_fdp_data =pd.DataFrame(scaled_fdp_measures, columns = fdp_measures.columns)\n",
    "\n",
    "scaled_co_data.head()"
   ]
  },
  {
   "cell_type": "code",
   "execution_count": 24,
   "id": "dab6308f",
   "metadata": {},
   "outputs": [
    {
     "data": {
      "text/html": [
       "<div>\n",
       "<style scoped>\n",
       "    .dataframe tbody tr th:only-of-type {\n",
       "        vertical-align: middle;\n",
       "    }\n",
       "\n",
       "    .dataframe tbody tr th {\n",
       "        vertical-align: top;\n",
       "    }\n",
       "\n",
       "    .dataframe thead th {\n",
       "        text-align: right;\n",
       "    }\n",
       "</style>\n",
       "<table border=\"1\" class=\"dataframe\">\n",
       "  <thead>\n",
       "    <tr style=\"text-align: right;\">\n",
       "      <th></th>\n",
       "      <th>Pavlovo</th>\n",
       "      <th>Kopitoto</th>\n",
       "      <th>Mladost</th>\n",
       "      <th>Hipodrome</th>\n",
       "      <th>Druzhba</th>\n",
       "      <th>Nadezhda</th>\n",
       "    </tr>\n",
       "  </thead>\n",
       "  <tbody>\n",
       "    <tr>\n",
       "      <th>0</th>\n",
       "      <td>1.712591</td>\n",
       "      <td>-0.190866</td>\n",
       "      <td>0.069035</td>\n",
       "      <td>-0.166107</td>\n",
       "      <td>-0.166107</td>\n",
       "      <td>-0.166107</td>\n",
       "    </tr>\n",
       "    <tr>\n",
       "      <th>1</th>\n",
       "      <td>4.018960</td>\n",
       "      <td>-0.105507</td>\n",
       "      <td>0.069035</td>\n",
       "      <td>1.224238</td>\n",
       "      <td>1.224238</td>\n",
       "      <td>1.224238</td>\n",
       "    </tr>\n",
       "    <tr>\n",
       "      <th>2</th>\n",
       "      <td>4.009600</td>\n",
       "      <td>-0.180196</td>\n",
       "      <td>0.069035</td>\n",
       "      <td>1.317665</td>\n",
       "      <td>1.317665</td>\n",
       "      <td>1.317665</td>\n",
       "    </tr>\n",
       "    <tr>\n",
       "      <th>3</th>\n",
       "      <td>3.368569</td>\n",
       "      <td>-0.255647</td>\n",
       "      <td>0.069035</td>\n",
       "      <td>1.121512</td>\n",
       "      <td>1.121512</td>\n",
       "      <td>1.121512</td>\n",
       "    </tr>\n",
       "    <tr>\n",
       "      <th>4</th>\n",
       "      <td>1.158198</td>\n",
       "      <td>-0.239642</td>\n",
       "      <td>0.069035</td>\n",
       "      <td>0.685590</td>\n",
       "      <td>0.685590</td>\n",
       "      <td>0.685590</td>\n",
       "    </tr>\n",
       "  </tbody>\n",
       "</table>\n",
       "</div>"
      ],
      "text/plain": [
       "0   Pavlovo  Kopitoto   Mladost  Hipodrome   Druzhba  Nadezhda\n",
       "0  1.712591 -0.190866  0.069035  -0.166107 -0.166107 -0.166107\n",
       "1  4.018960 -0.105507  0.069035   1.224238  1.224238  1.224238\n",
       "2  4.009600 -0.180196  0.069035   1.317665  1.317665  1.317665\n",
       "3  3.368569 -0.255647  0.069035   1.121512  1.121512  1.121512\n",
       "4  1.158198 -0.239642  0.069035   0.685590  0.685590  0.685590"
      ]
     },
     "execution_count": 24,
     "metadata": {},
     "output_type": "execute_result"
    }
   ],
   "source": [
    "scaled_fdp_data.head()"
   ]
  },
  {
   "cell_type": "code",
   "execution_count": 25,
   "id": "91559d9e",
   "metadata": {},
   "outputs": [
    {
     "data": {
      "text/html": [
       "<div>\n",
       "<style scoped>\n",
       "    .dataframe tbody tr th:only-of-type {\n",
       "        vertical-align: middle;\n",
       "    }\n",
       "\n",
       "    .dataframe tbody tr th {\n",
       "        vertical-align: top;\n",
       "    }\n",
       "\n",
       "    .dataframe thead th {\n",
       "        text-align: right;\n",
       "    }\n",
       "</style>\n",
       "<table border=\"1\" class=\"dataframe\">\n",
       "  <thead>\n",
       "    <tr style=\"text-align: right;\">\n",
       "      <th></th>\n",
       "      <th>Pavlovo</th>\n",
       "      <th>Kopitoto</th>\n",
       "      <th>Mladost</th>\n",
       "      <th>Hipodrome</th>\n",
       "    </tr>\n",
       "  </thead>\n",
       "  <tbody>\n",
       "    <tr>\n",
       "      <th>count</th>\n",
       "      <td>4.382400e+04</td>\n",
       "      <td>4.382400e+04</td>\n",
       "      <td>4.382400e+04</td>\n",
       "      <td>43824.000000</td>\n",
       "    </tr>\n",
       "    <tr>\n",
       "      <th>mean</th>\n",
       "      <td>6.963668e-09</td>\n",
       "      <td>-5.570934e-09</td>\n",
       "      <td>1.392734e-08</td>\n",
       "      <td>0.000000</td>\n",
       "    </tr>\n",
       "    <tr>\n",
       "      <th>std</th>\n",
       "      <td>1.000011e+00</td>\n",
       "      <td>1.000011e+00</td>\n",
       "      <td>1.000011e+00</td>\n",
       "      <td>1.000011</td>\n",
       "    </tr>\n",
       "    <tr>\n",
       "      <th>min</th>\n",
       "      <td>-1.345034e+00</td>\n",
       "      <td>-2.805361e+00</td>\n",
       "      <td>-1.245135e+00</td>\n",
       "      <td>-0.988955</td>\n",
       "    </tr>\n",
       "    <tr>\n",
       "      <th>25%</th>\n",
       "      <td>-5.193627e-01</td>\n",
       "      <td>-6.773856e-01</td>\n",
       "      <td>-5.241683e-01</td>\n",
       "      <td>-0.520958</td>\n",
       "    </tr>\n",
       "    <tr>\n",
       "      <th>50%</th>\n",
       "      <td>-3.171575e-01</td>\n",
       "      <td>-1.330198e-01</td>\n",
       "      <td>-1.636852e-01</td>\n",
       "      <td>-0.286959</td>\n",
       "    </tr>\n",
       "    <tr>\n",
       "      <th>75%</th>\n",
       "      <td>8.725278e-02</td>\n",
       "      <td>6.092969e-01</td>\n",
       "      <td>1.331833e-01</td>\n",
       "      <td>0.118639</td>\n",
       "    </tr>\n",
       "    <tr>\n",
       "      <th>max</th>\n",
       "      <td>1.085468e+01</td>\n",
       "      <td>1.055634e+01</td>\n",
       "      <td>1.207154e+01</td>\n",
       "      <td>11.428580</td>\n",
       "    </tr>\n",
       "  </tbody>\n",
       "</table>\n",
       "</div>"
      ],
      "text/plain": [
       "0           Pavlovo      Kopitoto       Mladost     Hipodrome\n",
       "count  4.382400e+04  4.382400e+04  4.382400e+04  43824.000000\n",
       "mean   6.963668e-09 -5.570934e-09  1.392734e-08      0.000000\n",
       "std    1.000011e+00  1.000011e+00  1.000011e+00      1.000011\n",
       "min   -1.345034e+00 -2.805361e+00 -1.245135e+00     -0.988955\n",
       "25%   -5.193627e-01 -6.773856e-01 -5.241683e-01     -0.520958\n",
       "50%   -3.171575e-01 -1.330198e-01 -1.636852e-01     -0.286959\n",
       "75%    8.725278e-02  6.092969e-01  1.331833e-01      0.118639\n",
       "max    1.085468e+01  1.055634e+01  1.207154e+01     11.428580"
      ]
     },
     "execution_count": 25,
     "metadata": {},
     "output_type": "execute_result"
    }
   ],
   "source": [
    "scaled_co_data.describe()"
   ]
  },
  {
   "cell_type": "code",
   "execution_count": 26,
   "id": "e8cafd27",
   "metadata": {},
   "outputs": [
    {
     "data": {
      "text/html": [
       "<div>\n",
       "<style scoped>\n",
       "    .dataframe tbody tr th:only-of-type {\n",
       "        vertical-align: middle;\n",
       "    }\n",
       "\n",
       "    .dataframe tbody tr th {\n",
       "        vertical-align: top;\n",
       "    }\n",
       "\n",
       "    .dataframe thead th {\n",
       "        text-align: right;\n",
       "    }\n",
       "</style>\n",
       "<table border=\"1\" class=\"dataframe\">\n",
       "  <thead>\n",
       "    <tr style=\"text-align: right;\">\n",
       "      <th></th>\n",
       "      <th>Pavlovo</th>\n",
       "      <th>Kopitoto</th>\n",
       "      <th>Mladost</th>\n",
       "      <th>Hipodrome</th>\n",
       "      <th>Druzhba</th>\n",
       "      <th>Nadezhda</th>\n",
       "    </tr>\n",
       "  </thead>\n",
       "  <tbody>\n",
       "    <tr>\n",
       "      <th>count</th>\n",
       "      <td>4.382400e+04</td>\n",
       "      <td>4.382400e+04</td>\n",
       "      <td>4.382400e+04</td>\n",
       "      <td>4.382400e+04</td>\n",
       "      <td>4.382400e+04</td>\n",
       "      <td>4.382400e+04</td>\n",
       "    </tr>\n",
       "    <tr>\n",
       "      <th>mean</th>\n",
       "      <td>2.089100e-09</td>\n",
       "      <td>-6.963668e-10</td>\n",
       "      <td>3.133650e-09</td>\n",
       "      <td>-2.089100e-09</td>\n",
       "      <td>-2.089100e-09</td>\n",
       "      <td>-2.089100e-09</td>\n",
       "    </tr>\n",
       "    <tr>\n",
       "      <th>std</th>\n",
       "      <td>1.000011e+00</td>\n",
       "      <td>1.000011e+00</td>\n",
       "      <td>1.000011e+00</td>\n",
       "      <td>1.000011e+00</td>\n",
       "      <td>1.000011e+00</td>\n",
       "      <td>1.000011e+00</td>\n",
       "    </tr>\n",
       "    <tr>\n",
       "      <th>min</th>\n",
       "      <td>-1.124892e+00</td>\n",
       "      <td>-1.526883e+00</td>\n",
       "      <td>-1.133089e+00</td>\n",
       "      <td>-8.603935e-01</td>\n",
       "      <td>-8.603935e-01</td>\n",
       "      <td>-8.603935e-01</td>\n",
       "    </tr>\n",
       "    <tr>\n",
       "      <th>25%</th>\n",
       "      <td>-5.193797e-01</td>\n",
       "      <td>-6.727238e-01</td>\n",
       "      <td>-5.020729e-01</td>\n",
       "      <td>-4.798199e-01</td>\n",
       "      <td>-4.798199e-01</td>\n",
       "      <td>-4.798199e-01</td>\n",
       "    </tr>\n",
       "    <tr>\n",
       "      <th>50%</th>\n",
       "      <td>-2.592231e-01</td>\n",
       "      <td>-1.801960e-01</td>\n",
       "      <td>-1.620416e-01</td>\n",
       "      <td>-2.721538e-01</td>\n",
       "      <td>-2.721538e-01</td>\n",
       "      <td>-2.721538e-01</td>\n",
       "    </tr>\n",
       "    <tr>\n",
       "      <th>75%</th>\n",
       "      <td>1.182919e-01</td>\n",
       "      <td>4.478010e-01</td>\n",
       "      <td>6.903487e-02</td>\n",
       "      <td>5.373593e-02</td>\n",
       "      <td>5.373593e-02</td>\n",
       "      <td>5.373593e-02</td>\n",
       "    </tr>\n",
       "    <tr>\n",
       "      <th>max</th>\n",
       "      <td>1.234685e+01</td>\n",
       "      <td>2.690827e+01</td>\n",
       "      <td>1.476609e+01</td>\n",
       "      <td>1.439842e+01</td>\n",
       "      <td>1.439842e+01</td>\n",
       "      <td>1.439842e+01</td>\n",
       "    </tr>\n",
       "  </tbody>\n",
       "</table>\n",
       "</div>"
      ],
      "text/plain": [
       "0           Pavlovo      Kopitoto       Mladost     Hipodrome       Druzhba  \\\n",
       "count  4.382400e+04  4.382400e+04  4.382400e+04  4.382400e+04  4.382400e+04   \n",
       "mean   2.089100e-09 -6.963668e-10  3.133650e-09 -2.089100e-09 -2.089100e-09   \n",
       "std    1.000011e+00  1.000011e+00  1.000011e+00  1.000011e+00  1.000011e+00   \n",
       "min   -1.124892e+00 -1.526883e+00 -1.133089e+00 -8.603935e-01 -8.603935e-01   \n",
       "25%   -5.193797e-01 -6.727238e-01 -5.020729e-01 -4.798199e-01 -4.798199e-01   \n",
       "50%   -2.592231e-01 -1.801960e-01 -1.620416e-01 -2.721538e-01 -2.721538e-01   \n",
       "75%    1.182919e-01  4.478010e-01  6.903487e-02  5.373593e-02  5.373593e-02   \n",
       "max    1.234685e+01  2.690827e+01  1.476609e+01  1.439842e+01  1.439842e+01   \n",
       "\n",
       "0          Nadezhda  \n",
       "count  4.382400e+04  \n",
       "mean  -2.089100e-09  \n",
       "std    1.000011e+00  \n",
       "min   -8.603935e-01  \n",
       "25%   -4.798199e-01  \n",
       "50%   -2.721538e-01  \n",
       "75%    5.373593e-02  \n",
       "max    1.439842e+01  "
      ]
     },
     "execution_count": 26,
     "metadata": {},
     "output_type": "execute_result"
    }
   ],
   "source": [
    "scaled_fdp_data.describe()"
   ]
  },
  {
   "cell_type": "code",
   "execution_count": 27,
   "id": "b6884245",
   "metadata": {},
   "outputs": [
    {
     "data": {
      "text/plain": [
       "[Text(0, 0, 'Pavlovo'),\n",
       " Text(1, 0, 'Kopitoto'),\n",
       " Text(2, 0, 'Mladost'),\n",
       " Text(3, 0, 'Hipodrome')]"
      ]
     },
     "execution_count": 27,
     "metadata": {},
     "output_type": "execute_result"
    },
    {
     "data": {
      "image/png": "[encoded data removed]",
      "text/plain": [
       "<Figure size 720x576 with 1 Axes>"
      ]
     },
     "metadata": {
      "needs_background": "light"
     },
     "output_type": "display_data"
    }
   ],
   "source": [
    "fig, ax=plt.subplots(figsize=(10,8))\n",
    "bp = sns.boxplot(data = scaled_co_data)\n",
    "bp.set_xticklabels(bp.get_xticklabels(), rotation = 90)"
   ]
  },
  {
   "cell_type": "code",
   "execution_count": 28,
   "id": "6e974e36",
   "metadata": {},
   "outputs": [
    {
     "data": {
      "text/plain": [
       "[Text(0, 0, 'Pavlovo'),\n",
       " Text(1, 0, 'Kopitoto'),\n",
       " Text(2, 0, 'Mladost'),\n",
       " Text(3, 0, 'Hipodrome'),\n",
       " Text(4, 0, 'Druzhba'),\n",
       " Text(5, 0, 'Nadezhda')]"
      ]
     },
     "execution_count": 28,
     "metadata": {},
     "output_type": "execute_result"
    },
    {
     "data": {
      "image/png": "[encoded data removed]",
      "text/plain": [
       "<Figure size 720x576 with 1 Axes>"
      ]
     },
     "metadata": {
      "needs_background": "light"
     },
     "output_type": "display_data"
    }
   ],
   "source": [
    "fig, ax=plt.subplots(figsize=(10,8))\n",
    "bp = sns.boxplot(data = scaled_fdp_data)\n",
    "bp.set_xticklabels(bp.get_xticklabels(), rotation = 90)"
   ]
  },
  {
   "cell_type": "code",
   "execution_count": 29,
   "id": "edd386f9",
   "metadata": {},
   "outputs": [
    {
     "name": "stdout",
     "output_type": "stream",
     "text": [
      "0\n",
      "Pavlovo      0.36\n",
      "Kopitoto     0.26\n",
      "Mladost      0.31\n",
      "Hipodrome    0.41\n",
      "dtype: float64\n"
     ]
    }
   ],
   "source": [
    "coQ1 = co_measures.quantile(0.25)\n",
    "coQ3 = co_measures.quantile(0.75)\n",
    "co_IQR = coQ3 - coQ1\n",
    "print(co_IQR)"
   ]
  },
  {
   "cell_type": "code",
   "execution_count": 30,
   "id": "7d341544",
   "metadata": {},
   "outputs": [
    {
     "name": "stdout",
     "output_type": "stream",
     "text": [
      "0\n",
      "Pavlovo      26.570002\n",
      "Kopitoto     14.702500\n",
      "Mladost      17.350000\n",
      "Hipodrome    24.100000\n",
      "Druzhba      24.100000\n",
      "Nadezhda     24.100000\n",
      "dtype: float64\n"
     ]
    }
   ],
   "source": [
    "fdpQ1 = fdp_measures.quantile(0.25)\n",
    "fdpQ3 = fdp_measures.quantile(0.75)\n",
    "fdp_IQR = fdpQ3 - fdpQ1\n",
    "print(fdp_IQR)"
   ]
  },
  {
   "cell_type": "code",
   "execution_count": 31,
   "id": "37d4c34d",
   "metadata": {},
   "outputs": [
    {
     "data": {
      "text/plain": [
       "(39642, 4)"
      ]
     },
     "execution_count": 31,
     "metadata": {},
     "output_type": "execute_result"
    }
   ],
   "source": [
    "co_outliers_removed_data = co_measures[~((co_measures<(coQ1-1.5*co_IQR))\\\n",
    "                                        | (co_measures>(coQ3+1.5*co_IQR))).any(axis=1)]\n",
    "co_outliers_removed_data.shape"
   ]
  },
  {
   "cell_type": "code",
   "execution_count": 32,
   "id": "1ab8315f",
   "metadata": {},
   "outputs": [
    {
     "data": {
      "text/plain": [
       "(39837, 6)"
      ]
     },
     "execution_count": 32,
     "metadata": {},
     "output_type": "execute_result"
    }
   ],
   "source": [
    "fdp_outliers_removed_data = fdp_measures[~((fdp_measures<(fdpQ1-1.5*fdp_IQR))\\\n",
    "                                        | (fdp_measures>(fdpQ3+1.5*fdp_IQR))).any(axis=1)]\n",
    "fdp_outliers_removed_data.shape"
   ]
  },
  {
   "cell_type": "code",
   "execution_count": 33,
   "id": "45b8c879",
   "metadata": {},
   "outputs": [
    {
     "data": {
      "text/plain": [
       "[Text(0, 0, 'Pavlovo'),\n",
       " Text(1, 0, 'Kopitoto'),\n",
       " Text(2, 0, 'Mladost'),\n",
       " Text(3, 0, 'Hipodrome')]"
      ]
     },
     "execution_count": 33,
     "metadata": {},
     "output_type": "execute_result"
    },
    {
     "data": {
      "image/png": "[encoded data removed]",
      "text/plain": [
       "<Figure size 720x576 with 1 Axes>"
      ]
     },
     "metadata": {
      "needs_background": "light"
     },
     "output_type": "display_data"
    }
   ],
   "source": [
    "fig, ax=plt.subplots(figsize=(10,8))\n",
    "bp = sns.boxplot(data = co_outliers_removed_data)\n",
    "bp.set_xticklabels(bp.get_xticklabels(), rotation = 90)"
   ]
  },
  {
   "cell_type": "code",
   "execution_count": 34,
   "id": "498c2812",
   "metadata": {},
   "outputs": [
    {
     "data": {
      "text/plain": [
       "[Text(0, 0, 'Pavlovo'),\n",
       " Text(1, 0, 'Kopitoto'),\n",
       " Text(2, 0, 'Mladost'),\n",
       " Text(3, 0, 'Hipodrome'),\n",
       " Text(4, 0, 'Druzhba'),\n",
       " Text(5, 0, 'Nadezhda')]"
      ]
     },
     "execution_count": 34,
     "metadata": {},
     "output_type": "execute_result"
    },
    {
     "data": {
      "image/png": "[encoded data removed]",
      "text/plain": [
       "<Figure size 720x576 with 1 Axes>"
      ]
     },
     "metadata": {
      "needs_background": "light"
     },
     "output_type": "display_data"
    }
   ],
   "source": [
    "fig, ax=plt.subplots(figsize=(10,8))\n",
    "bp = sns.boxplot(data = fdp_outliers_removed_data)\n",
    "bp.set_xticklabels(bp.get_xticklabels(), rotation = 90)"
   ]
  },
  {
   "cell_type": "code",
   "execution_count": null,
   "id": "5af987b8",
   "metadata": {},
   "outputs": [],
   "source": []
  },
  {
   "cell_type": "code",
   "execution_count": null,
   "id": "bcd24bc9",
   "metadata": {},
   "outputs": [],
   "source": []
  }
 ],
 "metadata": {
  "kernelspec": {
   "display_name": "Python 3 (ipykernel)",
   "language": "python",
   "name": "python3"
  },
  "language_info": {
   "codemirror_mode": {
    "name": "ipython",
    "version": 3
   },
   "file_extension": ".py",
   "mimetype": "text/x-python",
   "name": "python",
   "nbconvert_exporter": "python",
   "pygments_lexer": "ipython3",
   "version": "3.9.10"
  }
 },
 "nbformat": 4,
 "nbformat_minor": 5
}
